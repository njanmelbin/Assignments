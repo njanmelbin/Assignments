{
 "cells": [
  {
   "cell_type": "code",
   "execution_count": 1,
   "metadata": {
    "colab": {},
    "colab_type": "code",
    "id": "SOP8G-jbxrkF"
   },
   "outputs": [],
   "source": [
    "# this is just to know how much time will it take to run this entire ipython notebook \n",
    "from datetime import datetime\n",
    "# globalstart = datetime.now()\n",
    "import pandas as pd\n",
    "import numpy as np\n",
    "import matplotlib\n",
    "matplotlib.use('nbagg')\n",
    "\n",
    "import matplotlib.pyplot as plt\n",
    "plt.rcParams.update({'figure.max_open_warning': 0})\n",
    "\n",
    "import seaborn as sns\n",
    "sns.set_style('whitegrid')\n",
    "import os\n",
    "from scipy import sparse\n",
    "from scipy.sparse import csr_matrix\n",
    "\n",
    "from sklearn.decomposition import TruncatedSVD\n",
    "from sklearn.metrics.pairwise import cosine_similarity\n",
    "import random\n",
    "import warnings\n",
    "warnings.filterwarnings(\"ignore\")"
   ]
  },
  {
   "cell_type": "markdown",
   "metadata": {
    "colab_type": "text",
    "id": "uPz7RGR_xrkM"
   },
   "source": [
    " "
   ]
  },
  {
   "cell_type": "markdown",
   "metadata": {
    "colab_type": "text",
    "id": "lVyeqDMqxrkO"
   },
   "source": [
    "<h1> 3. Exploratory Data Analysis </h1>"
   ]
  },
  {
   "cell_type": "markdown",
   "metadata": {
    "colab_type": "text",
    "id": "hOBwSU1yxrkP"
   },
   "source": [
    "<h2> 3.1 Preprocessing</h2> "
   ]
  },
  {
   "cell_type": "markdown",
   "metadata": {
    "colab_type": "text",
    "id": "e6rSOBxIxrkR"
   },
   "source": [
    "<h3>3.1.1 Converting / Merging whole data to required format: u_i, m_j, r_ij</h3>"
   ]
  },
  {
   "cell_type": "code",
   "execution_count": 4,
   "metadata": {
    "colab": {},
    "colab_type": "code",
    "id": "ijAmOSzsxrkS",
    "outputId": "70c17ed1-22c7-4938-ccec-26af46e51fa6"
   },
   "outputs": [
    {
     "name": "stdout",
     "output_type": "stream",
     "text": [
      "Reading ratings from combined_data_1.txt...\n",
      "Done.\n",
      "\n",
      "Reading ratings from combined_data_2.txt...\n",
      "Done.\n",
      "\n",
      "Reading ratings from combined_data_3.txt...\n",
      "Done.\n",
      "\n",
      "Reading ratings from combined_data_4.txt...\n",
      "Done.\n",
      "\n",
      "Time taken : 0:03:17.816474\n"
     ]
    }
   ],
   "source": [
    "start = datetime.now()\n",
    "if not os.path.isfile('data.csv'):\n",
    "    # Create a file 'data.csv' before reading it\n",
    "    # Read all the files in netflix and store them in one big file('data.csv')\n",
    "    # We re reading from each of the four files and appendig each rating to a global file 'train.csv'\n",
    "    data = open('data.csv', mode='w')\n",
    "    \n",
    "    row = list()\n",
    "    files=['combined_data_1.txt','combined_data_2.txt', \n",
    "           'combined_data_3.txt', 'combined_data_4.txt']\n",
    "    for file in files:\n",
    "        print(\"Reading ratings from {}...\".format(file))\n",
    "        with open(file) as f:\n",
    "            for line in f: \n",
    "                del row[:] # you don't have to do this.\n",
    "                line = line.strip()\n",
    "                if line.endswith(':'):\n",
    "                    # All below are ratings for this movie, until another movie appears.\n",
    "                    movie_id = line.replace(':', '')\n",
    "                else:\n",
    "                    row = [x for x in line.split(',')]\n",
    "                    row.insert(0, movie_id)\n",
    "                    data.write(','.join(row))\n",
    "                    data.write('\\n')\n",
    "        print(\"Done.\\n\")\n",
    "    data.close()\n",
    "print('Time taken :', datetime.now() - start)"
   ]
  },
  {
   "cell_type": "markdown",
   "metadata": {
    "colab_type": "text",
    "id": "TWny3evQxrkb"
   },
   "source": [
    " "
   ]
  },
  {
   "cell_type": "code",
   "execution_count": 5,
   "metadata": {
    "colab": {},
    "colab_type": "code",
    "id": "HecSc3oXxrkd",
    "outputId": "8a5b70c4-ba43-4ecf-bbb3-e711aa78855a"
   },
   "outputs": [
    {
     "name": "stdout",
     "output_type": "stream",
     "text": [
      "creating the dataframe from data.csv file..\n",
      "Done.\n",
      "\n",
      "Sorting the dataframe by date..\n",
      "Done..\n"
     ]
    }
   ],
   "source": [
    "print(\"creating the dataframe from data.csv file..\")\n",
    "df = pd.read_csv('data.csv', sep=',', \n",
    "                       names=['movie', 'user','rating','date'])\n",
    "df.date = pd.to_datetime(df.date)\n",
    "print('Done.\\n')\n",
    "\n",
    "# we are arranging the ratings according to time.\n",
    "print('Sorting the dataframe by date..')\n",
    "df.sort_values(by='date', inplace=True)\n",
    "print('Done..')"
   ]
  },
  {
   "cell_type": "code",
   "execution_count": 6,
   "metadata": {
    "colab": {},
    "colab_type": "code",
    "id": "GkhBmOCoxrkk",
    "outputId": "d4219b8c-ab61-4562-f521-8e7563295d2f"
   },
   "outputs": [
    {
     "data": {
      "text/html": [
       "<div>\n",
       "<style scoped>\n",
       "    .dataframe tbody tr th:only-of-type {\n",
       "        vertical-align: middle;\n",
       "    }\n",
       "\n",
       "    .dataframe tbody tr th {\n",
       "        vertical-align: top;\n",
       "    }\n",
       "\n",
       "    .dataframe thead th {\n",
       "        text-align: right;\n",
       "    }\n",
       "</style>\n",
       "<table border=\"1\" class=\"dataframe\">\n",
       "  <thead>\n",
       "    <tr style=\"text-align: right;\">\n",
       "      <th></th>\n",
       "      <th>movie</th>\n",
       "      <th>user</th>\n",
       "      <th>rating</th>\n",
       "      <th>date</th>\n",
       "    </tr>\n",
       "  </thead>\n",
       "  <tbody>\n",
       "    <tr>\n",
       "      <th>56431994</th>\n",
       "      <td>10341</td>\n",
       "      <td>510180</td>\n",
       "      <td>4</td>\n",
       "      <td>1999-11-11</td>\n",
       "    </tr>\n",
       "    <tr>\n",
       "      <th>9056171</th>\n",
       "      <td>1798</td>\n",
       "      <td>510180</td>\n",
       "      <td>5</td>\n",
       "      <td>1999-11-11</td>\n",
       "    </tr>\n",
       "    <tr>\n",
       "      <th>58698779</th>\n",
       "      <td>10774</td>\n",
       "      <td>510180</td>\n",
       "      <td>3</td>\n",
       "      <td>1999-11-11</td>\n",
       "    </tr>\n",
       "    <tr>\n",
       "      <th>48101611</th>\n",
       "      <td>8651</td>\n",
       "      <td>510180</td>\n",
       "      <td>2</td>\n",
       "      <td>1999-11-11</td>\n",
       "    </tr>\n",
       "    <tr>\n",
       "      <th>81893208</th>\n",
       "      <td>14660</td>\n",
       "      <td>510180</td>\n",
       "      <td>2</td>\n",
       "      <td>1999-11-11</td>\n",
       "    </tr>\n",
       "  </tbody>\n",
       "</table>\n",
       "</div>"
      ],
      "text/plain": [
       "          movie    user  rating       date\n",
       "56431994  10341  510180       4 1999-11-11\n",
       "9056171    1798  510180       5 1999-11-11\n",
       "58698779  10774  510180       3 1999-11-11\n",
       "48101611   8651  510180       2 1999-11-11\n",
       "81893208  14660  510180       2 1999-11-11"
      ]
     },
     "execution_count": 6,
     "metadata": {},
     "output_type": "execute_result"
    }
   ],
   "source": [
    "df.head()"
   ]
  },
  {
   "cell_type": "code",
   "execution_count": 7,
   "metadata": {
    "colab": {},
    "colab_type": "code",
    "id": "yc3bmsOKxrkr",
    "outputId": "0268fee8-1677-4e0f-c7cf-1c9753ce804c",
    "scrolled": true
   },
   "outputs": [
    {
     "data": {
      "text/plain": [
       "count    1.004805e+08\n",
       "mean     3.604290e+00\n",
       "std      1.085219e+00\n",
       "min      1.000000e+00\n",
       "25%      3.000000e+00\n",
       "50%      4.000000e+00\n",
       "75%      4.000000e+00\n",
       "max      5.000000e+00\n",
       "Name: rating, dtype: float64"
      ]
     },
     "execution_count": 7,
     "metadata": {},
     "output_type": "execute_result"
    }
   ],
   "source": [
    "df.describe()['rating']"
   ]
  },
  {
   "cell_type": "markdown",
   "metadata": {
    "colab_type": "text",
    "id": "O6Jh9hMUxrky"
   },
   "source": [
    "<h3>3.1.2 Checking for NaN values </h3>"
   ]
  },
  {
   "cell_type": "code",
   "execution_count": 8,
   "metadata": {
    "colab": {},
    "colab_type": "code",
    "id": "2RX0XUYGxrkz",
    "outputId": "cbf3cf18-3a40-447b-f212-946b5dac3178",
    "scrolled": false
   },
   "outputs": [
    {
     "name": "stdout",
     "output_type": "stream",
     "text": [
      "No of Nan values in our dataframe :  0\n"
     ]
    }
   ],
   "source": [
    "# just to make sure that all Nan containing rows are deleted..\n",
    "print(\"No of Nan values in our dataframe : \", sum(df.isnull().any()))"
   ]
  },
  {
   "cell_type": "markdown",
   "metadata": {
    "colab_type": "text",
    "id": "x3o4ln-4xrk7"
   },
   "source": [
    " "
   ]
  },
  {
   "cell_type": "markdown",
   "metadata": {
    "colab_type": "text",
    "id": "QofEYR63xrk9"
   },
   "source": [
    "<h3>3.1.3 Removing Duplicates </h3>"
   ]
  },
  {
   "cell_type": "code",
   "execution_count": 9,
   "metadata": {
    "colab": {},
    "colab_type": "code",
    "id": "wDHFQBfCxrlA",
    "outputId": "30c71def-12a3-4030-8106-4c4fe9f45216"
   },
   "outputs": [
    {
     "name": "stdout",
     "output_type": "stream",
     "text": [
      "There are 0 duplicate rating entries in the data..\n"
     ]
    }
   ],
   "source": [
    "dup_bool = df.duplicated(['movie','user','rating'])\n",
    "dups = sum(dup_bool) # by considering all columns..( including timestamp)\n",
    "print(\"There are {} duplicate rating entries in the data..\".format(dups))"
   ]
  },
  {
   "cell_type": "markdown",
   "metadata": {
    "colab_type": "text",
    "id": "06qT7qvuxrlL"
   },
   "source": [
    " "
   ]
  },
  {
   "cell_type": "markdown",
   "metadata": {
    "colab_type": "text",
    "id": "OhrBQacmxrlM"
   },
   "source": [
    " <h3>3.1.4 Basic Statistics (#Ratings, #Users, and #Movies)</h3>"
   ]
  },
  {
   "cell_type": "code",
   "execution_count": 10,
   "metadata": {
    "colab": {},
    "colab_type": "code",
    "id": "Gq66viptxrlP",
    "outputId": "44fa5c2d-16e1-47e2-afda-cf485ec44d74"
   },
   "outputs": [
    {
     "name": "stdout",
     "output_type": "stream",
     "text": [
      "Total data \n",
      "--------------------------------------------------\n",
      "\n",
      "Total no of ratings : 100480507\n",
      "Total No of Users   : 480189\n",
      "Total No of movies  : 17770\n"
     ]
    }
   ],
   "source": [
    "print(\"Total data \")\n",
    "print(\"-\"*50)\n",
    "print(\"\\nTotal no of ratings :\",df.shape[0])\n",
    "print(\"Total No of Users   :\", len(np.unique(df.user)))\n",
    "print(\"Total No of movies  :\", len(np.unique(df.movie)))"
   ]
  },
  {
   "cell_type": "markdown",
   "metadata": {
    "colab_type": "text",
    "id": "FIduSZiexrlW"
   },
   "source": [
    "<h2>3.2 Spliting data into Train and Test(80:20) </h2>"
   ]
  },
  {
   "cell_type": "code",
   "execution_count": 11,
   "metadata": {
    "colab": {},
    "colab_type": "code",
    "id": "jpT2WRQjxrlY"
   },
   "outputs": [],
   "source": [
    "if not os.path.isfile('train.csv'):\n",
    "    # create the dataframe and store it in the disk for offline purposes..\n",
    "    df.iloc[:int(df.shape[0]*0.80)].to_csv(\"train.csv\", index=False)\n",
    "\n",
    "if not os.path.isfile('test.csv'):\n",
    "    # create the dataframe and store it in the disk for offline purposes..\n",
    "    df.iloc[int(df.shape[0]*0.80):].to_csv(\"test.csv\", index=False)\n",
    "\n",
    "train_df = pd.read_csv(\"train.csv\", parse_dates=['date'])\n",
    "test_df = pd.read_csv(\"test.csv\")"
   ]
  },
  {
   "cell_type": "markdown",
   "metadata": {
    "colab_type": "text",
    "id": "SCT91Uw5xrld"
   },
   "source": [
    "<h3>3.2.1 Basic Statistics in Train data (#Ratings, #Users, and #Movies)</h3>"
   ]
  },
  {
   "cell_type": "code",
   "execution_count": 12,
   "metadata": {
    "colab": {},
    "colab_type": "code",
    "id": "Il1yfWfuxrle",
    "outputId": "5a333f53-f3b9-48da-ea4e-3b0e42d1cf4e"
   },
   "outputs": [
    {
     "name": "stdout",
     "output_type": "stream",
     "text": [
      "Training data \n",
      "--------------------------------------------------\n",
      "\n",
      "Total no of ratings : 80384405\n",
      "Total No of Users   : 405041\n",
      "Total No of movies  : 17424\n"
     ]
    }
   ],
   "source": [
    "# movies = train_df.movie.value_counts()\n",
    "# users = train_df.user.value_counts()\n",
    "print(\"Training data \")\n",
    "print(\"-\"*50)\n",
    "print(\"\\nTotal no of ratings :\",train_df.shape[0])\n",
    "print(\"Total No of Users   :\", len(np.unique(train_df.user)))\n",
    "print(\"Total No of movies  :\", len(np.unique(train_df.movie)))"
   ]
  },
  {
   "cell_type": "markdown",
   "metadata": {
    "colab_type": "text",
    "id": "eEVS0juVxrlk"
   },
   "source": [
    "<h3>3.2.2 Basic Statistics in Test data (#Ratings, #Users, and #Movies)</h3>"
   ]
  },
  {
   "cell_type": "code",
   "execution_count": 0,
   "metadata": {
    "colab": {},
    "colab_type": "code",
    "id": "V0SLQlbNxrll",
    "outputId": "43c45676-7abd-4514-ce87-3d3673b2906f"
   },
   "outputs": [
    {
     "name": "stdout",
     "output_type": "stream",
     "text": [
      "Test data \n",
      "--------------------------------------------------\n",
      "\n",
      "Total no of ratings : 20096102\n",
      "Total No of Users   : 349312\n",
      "Total No of movies  : 17757\n"
     ]
    }
   ],
   "source": [
    "print(\"Test data \")\n",
    "print(\"-\"*50)\n",
    "print(\"\\nTotal no of ratings :\",test_df.shape[0])\n",
    "print(\"Total No of Users   :\", len(np.unique(test_df.user)))\n",
    "print(\"Total No of movies  :\", len(np.unique(test_df.movie)))"
   ]
  },
  {
   "cell_type": "markdown",
   "metadata": {
    "colab_type": "text",
    "id": "a_tk9Btvxrlq"
   },
   "source": [
    " <h2> 3.3 Exploratory Data Analysis on Train data </h2>"
   ]
  },
  {
   "cell_type": "markdown",
   "metadata": {
    "colab_type": "text",
    "id": "5zI-MO7Lxrlu"
   },
   "source": [
    " "
   ]
  },
  {
   "cell_type": "code",
   "execution_count": 13,
   "metadata": {
    "colab": {},
    "colab_type": "code",
    "id": "tnjH03rkxrlx"
   },
   "outputs": [],
   "source": [
    "# method to make y-axis more readable\n",
    "def human(num, units = 'M'):\n",
    "    units = units.lower()\n",
    "    num = float(num)\n",
    "    if units == 'k':\n",
    "        return str(num/10**3) + \" K\"\n",
    "    elif units == 'm':\n",
    "        return str(num/10**6) + \" M\"\n",
    "    elif units == 'b':\n",
    "        return str(num/10**9) +  \" B\""
   ]
  },
  {
   "cell_type": "markdown",
   "metadata": {
    "colab_type": "text",
    "id": "m3SE677Jxrl0"
   },
   "source": [
    "<h3> 3.3.1 Distribution of ratings </h3>"
   ]
  },
  {
   "cell_type": "code",
   "execution_count": 18,
   "metadata": {
    "colab": {},
    "colab_type": "code",
    "id": "NRmmEFIAxrl2",
    "outputId": "e4123071-a4a5-47c6-d59d-1c7444850a94",
    "scrolled": false
   },
   "outputs": [],
   "source": [
    "fig, ax = plt.subplots()\n",
    "plt.title('Distribution of ratings over Training dataset', fontsize=15)\n",
    "sns.countplot(train_df.rating)\n",
    "ax.set_yticklabels([human(item, 'M') for item in ax.get_yticks()])\n",
    "ax.set_ylabel('No. of Ratings(Millions)')\n",
    "\n",
    "plt.show()"
   ]
  },
  {
   "cell_type": "markdown",
   "metadata": {
    "colab_type": "text",
    "id": "iuHfNIS7xrl9"
   },
   "source": [
    "<p style=\"font-size:13px\"> <b>Add new column (week day) to the data set  for analysis.</b></p>"
   ]
  },
  {
   "cell_type": "code",
   "execution_count": 0,
   "metadata": {
    "colab": {},
    "colab_type": "code",
    "id": "IUeYMtbtxrl-",
    "outputId": "90de208b-33c4-48bd-9ee2-70796b2fc47a",
    "scrolled": true
   },
   "outputs": [
    {
     "data": {
      "text/html": [
       "<div>\n",
       "<style scoped>\n",
       "    .dataframe tbody tr th:only-of-type {\n",
       "        vertical-align: middle;\n",
       "    }\n",
       "\n",
       "    .dataframe tbody tr th {\n",
       "        vertical-align: top;\n",
       "    }\n",
       "\n",
       "    .dataframe thead th {\n",
       "        text-align: right;\n",
       "    }\n",
       "</style>\n",
       "<table border=\"1\" class=\"dataframe\">\n",
       "  <thead>\n",
       "    <tr style=\"text-align: right;\">\n",
       "      <th></th>\n",
       "      <th>movie</th>\n",
       "      <th>user</th>\n",
       "      <th>rating</th>\n",
       "      <th>date</th>\n",
       "      <th>day_of_week</th>\n",
       "    </tr>\n",
       "  </thead>\n",
       "  <tbody>\n",
       "    <tr>\n",
       "      <th>80384400</th>\n",
       "      <td>12074</td>\n",
       "      <td>2033618</td>\n",
       "      <td>4</td>\n",
       "      <td>2005-08-08</td>\n",
       "      <td>Monday</td>\n",
       "    </tr>\n",
       "    <tr>\n",
       "      <th>80384401</th>\n",
       "      <td>862</td>\n",
       "      <td>1797061</td>\n",
       "      <td>3</td>\n",
       "      <td>2005-08-08</td>\n",
       "      <td>Monday</td>\n",
       "    </tr>\n",
       "    <tr>\n",
       "      <th>80384402</th>\n",
       "      <td>10986</td>\n",
       "      <td>1498715</td>\n",
       "      <td>5</td>\n",
       "      <td>2005-08-08</td>\n",
       "      <td>Monday</td>\n",
       "    </tr>\n",
       "    <tr>\n",
       "      <th>80384403</th>\n",
       "      <td>14861</td>\n",
       "      <td>500016</td>\n",
       "      <td>4</td>\n",
       "      <td>2005-08-08</td>\n",
       "      <td>Monday</td>\n",
       "    </tr>\n",
       "    <tr>\n",
       "      <th>80384404</th>\n",
       "      <td>5926</td>\n",
       "      <td>1044015</td>\n",
       "      <td>5</td>\n",
       "      <td>2005-08-08</td>\n",
       "      <td>Monday</td>\n",
       "    </tr>\n",
       "  </tbody>\n",
       "</table>\n",
       "</div>"
      ],
      "text/plain": [
       "          movie     user  rating       date day_of_week\n",
       "80384400  12074  2033618       4 2005-08-08      Monday\n",
       "80384401    862  1797061       3 2005-08-08      Monday\n",
       "80384402  10986  1498715       5 2005-08-08      Monday\n",
       "80384403  14861   500016       4 2005-08-08      Monday\n",
       "80384404   5926  1044015       5 2005-08-08      Monday"
      ]
     },
     "execution_count": 17,
     "metadata": {
      "tags": []
     },
     "output_type": "execute_result"
    }
   ],
   "source": [
    "# It is used to skip the warning ''SettingWithCopyWarning''.. \n",
    "pd.options.mode.chained_assignment = None  # default='warn'\n",
    "\n",
    "train_df['day_of_week'] = train_df.date.dt.weekday_name\n",
    "\n",
    "train_df.tail()"
   ]
  },
  {
   "cell_type": "code",
   "execution_count": 14,
   "metadata": {},
   "outputs": [
    {
     "data": {
      "text/html": [
       "<div>\n",
       "<style scoped>\n",
       "    .dataframe tbody tr th:only-of-type {\n",
       "        vertical-align: middle;\n",
       "    }\n",
       "\n",
       "    .dataframe tbody tr th {\n",
       "        vertical-align: top;\n",
       "    }\n",
       "\n",
       "    .dataframe thead th {\n",
       "        text-align: right;\n",
       "    }\n",
       "</style>\n",
       "<table border=\"1\" class=\"dataframe\">\n",
       "  <thead>\n",
       "    <tr style=\"text-align: right;\">\n",
       "      <th></th>\n",
       "      <th>movie</th>\n",
       "      <th>user</th>\n",
       "      <th>rating</th>\n",
       "      <th>date</th>\n",
       "      <th>month</th>\n",
       "    </tr>\n",
       "  </thead>\n",
       "  <tbody>\n",
       "    <tr>\n",
       "      <th>80384400</th>\n",
       "      <td>12074</td>\n",
       "      <td>2033618</td>\n",
       "      <td>4</td>\n",
       "      <td>2005-08-08</td>\n",
       "      <td>8</td>\n",
       "    </tr>\n",
       "    <tr>\n",
       "      <th>80384401</th>\n",
       "      <td>862</td>\n",
       "      <td>1797061</td>\n",
       "      <td>3</td>\n",
       "      <td>2005-08-08</td>\n",
       "      <td>8</td>\n",
       "    </tr>\n",
       "    <tr>\n",
       "      <th>80384402</th>\n",
       "      <td>10986</td>\n",
       "      <td>1498715</td>\n",
       "      <td>5</td>\n",
       "      <td>2005-08-08</td>\n",
       "      <td>8</td>\n",
       "    </tr>\n",
       "    <tr>\n",
       "      <th>80384403</th>\n",
       "      <td>14861</td>\n",
       "      <td>500016</td>\n",
       "      <td>4</td>\n",
       "      <td>2005-08-08</td>\n",
       "      <td>8</td>\n",
       "    </tr>\n",
       "    <tr>\n",
       "      <th>80384404</th>\n",
       "      <td>5926</td>\n",
       "      <td>1044015</td>\n",
       "      <td>5</td>\n",
       "      <td>2005-08-08</td>\n",
       "      <td>8</td>\n",
       "    </tr>\n",
       "  </tbody>\n",
       "</table>\n",
       "</div>"
      ],
      "text/plain": [
       "          movie     user  rating       date  month\n",
       "80384400  12074  2033618       4 2005-08-08      8\n",
       "80384401    862  1797061       3 2005-08-08      8\n",
       "80384402  10986  1498715       5 2005-08-08      8\n",
       "80384403  14861   500016       4 2005-08-08      8\n",
       "80384404   5926  1044015       5 2005-08-08      8"
      ]
     },
     "execution_count": 14,
     "metadata": {},
     "output_type": "execute_result"
    }
   ],
   "source": [
    "train_df['month'] = train_df.date.dt.month\n",
    "\n",
    "train_df.tail()"
   ]
  },
  {
   "cell_type": "code",
   "execution_count": 20,
   "metadata": {},
   "outputs": [],
   "source": [
    "from pickle import dump\n",
    "with open('dataframe.pkl','wb') as f:\n",
    "    dump(train_df,f)"
   ]
  },
  {
   "cell_type": "code",
   "execution_count": null,
   "metadata": {},
   "outputs": [],
   "source": [
    "with open('dataframe.pkl','rb') as f:\n",
    "    train_df=load(f)\n",
    "f.close()"
   ]
  },
  {
   "cell_type": "code",
   "execution_count": 27,
   "metadata": {},
   "outputs": [
    {
     "data": {
      "application/javascript": [
       "/* Put everything inside the global mpl namespace */\n",
       "window.mpl = {};\n",
       "\n",
       "\n",
       "mpl.get_websocket_type = function() {\n",
       "    if (typeof(WebSocket) !== 'undefined') {\n",
       "        return WebSocket;\n",
       "    } else if (typeof(MozWebSocket) !== 'undefined') {\n",
       "        return MozWebSocket;\n",
       "    } else {\n",
       "        alert('Your browser does not have WebSocket support.' +\n",
       "              'Please try Chrome, Safari or Firefox ≥ 6. ' +\n",
       "              'Firefox 4 and 5 are also supported but you ' +\n",
       "              'have to enable WebSockets in about:config.');\n",
       "    };\n",
       "}\n",
       "\n",
       "mpl.figure = function(figure_id, websocket, ondownload, parent_element) {\n",
       "    this.id = figure_id;\n",
       "\n",
       "    this.ws = websocket;\n",
       "\n",
       "    this.supports_binary = (this.ws.binaryType != undefined);\n",
       "\n",
       "    if (!this.supports_binary) {\n",
       "        var warnings = document.getElementById(\"mpl-warnings\");\n",
       "        if (warnings) {\n",
       "            warnings.style.display = 'block';\n",
       "            warnings.textContent = (\n",
       "                \"This browser does not support binary websocket messages. \" +\n",
       "                    \"Performance may be slow.\");\n",
       "        }\n",
       "    }\n",
       "\n",
       "    this.imageObj = new Image();\n",
       "\n",
       "    this.context = undefined;\n",
       "    this.message = undefined;\n",
       "    this.canvas = undefined;\n",
       "    this.rubberband_canvas = undefined;\n",
       "    this.rubberband_context = undefined;\n",
       "    this.format_dropdown = undefined;\n",
       "\n",
       "    this.image_mode = 'full';\n",
       "\n",
       "    this.root = $('<div/>');\n",
       "    this._root_extra_style(this.root)\n",
       "    this.root.attr('style', 'display: inline-block');\n",
       "\n",
       "    $(parent_element).append(this.root);\n",
       "\n",
       "    this._init_header(this);\n",
       "    this._init_canvas(this);\n",
       "    this._init_toolbar(this);\n",
       "\n",
       "    var fig = this;\n",
       "\n",
       "    this.waiting = false;\n",
       "\n",
       "    this.ws.onopen =  function () {\n",
       "            fig.send_message(\"supports_binary\", {value: fig.supports_binary});\n",
       "            fig.send_message(\"send_image_mode\", {});\n",
       "            if (mpl.ratio != 1) {\n",
       "                fig.send_message(\"set_dpi_ratio\", {'dpi_ratio': mpl.ratio});\n",
       "            }\n",
       "            fig.send_message(\"refresh\", {});\n",
       "        }\n",
       "\n",
       "    this.imageObj.onload = function() {\n",
       "            if (fig.image_mode == 'full') {\n",
       "                // Full images could contain transparency (where diff images\n",
       "                // almost always do), so we need to clear the canvas so that\n",
       "                // there is no ghosting.\n",
       "                fig.context.clearRect(0, 0, fig.canvas.width, fig.canvas.height);\n",
       "            }\n",
       "            fig.context.drawImage(fig.imageObj, 0, 0);\n",
       "        };\n",
       "\n",
       "    this.imageObj.onunload = function() {\n",
       "        fig.ws.close();\n",
       "    }\n",
       "\n",
       "    this.ws.onmessage = this._make_on_message_function(this);\n",
       "\n",
       "    this.ondownload = ondownload;\n",
       "}\n",
       "\n",
       "mpl.figure.prototype._init_header = function() {\n",
       "    var titlebar = $(\n",
       "        '<div class=\"ui-dialog-titlebar ui-widget-header ui-corner-all ' +\n",
       "        'ui-helper-clearfix\"/>');\n",
       "    var titletext = $(\n",
       "        '<div class=\"ui-dialog-title\" style=\"width: 100%; ' +\n",
       "        'text-align: center; padding: 3px;\"/>');\n",
       "    titlebar.append(titletext)\n",
       "    this.root.append(titlebar);\n",
       "    this.header = titletext[0];\n",
       "}\n",
       "\n",
       "\n",
       "\n",
       "mpl.figure.prototype._canvas_extra_style = function(canvas_div) {\n",
       "\n",
       "}\n",
       "\n",
       "\n",
       "mpl.figure.prototype._root_extra_style = function(canvas_div) {\n",
       "\n",
       "}\n",
       "\n",
       "mpl.figure.prototype._init_canvas = function() {\n",
       "    var fig = this;\n",
       "\n",
       "    var canvas_div = $('<div/>');\n",
       "\n",
       "    canvas_div.attr('style', 'position: relative; clear: both; outline: 0');\n",
       "\n",
       "    function canvas_keyboard_event(event) {\n",
       "        return fig.key_event(event, event['data']);\n",
       "    }\n",
       "\n",
       "    canvas_div.keydown('key_press', canvas_keyboard_event);\n",
       "    canvas_div.keyup('key_release', canvas_keyboard_event);\n",
       "    this.canvas_div = canvas_div\n",
       "    this._canvas_extra_style(canvas_div)\n",
       "    this.root.append(canvas_div);\n",
       "\n",
       "    var canvas = $('<canvas/>');\n",
       "    canvas.addClass('mpl-canvas');\n",
       "    canvas.attr('style', \"left: 0; top: 0; z-index: 0; outline: 0\")\n",
       "\n",
       "    this.canvas = canvas[0];\n",
       "    this.context = canvas[0].getContext(\"2d\");\n",
       "\n",
       "    var backingStore = this.context.backingStorePixelRatio ||\n",
       "\tthis.context.webkitBackingStorePixelRatio ||\n",
       "\tthis.context.mozBackingStorePixelRatio ||\n",
       "\tthis.context.msBackingStorePixelRatio ||\n",
       "\tthis.context.oBackingStorePixelRatio ||\n",
       "\tthis.context.backingStorePixelRatio || 1;\n",
       "\n",
       "    mpl.ratio = (window.devicePixelRatio || 1) / backingStore;\n",
       "\n",
       "    var rubberband = $('<canvas/>');\n",
       "    rubberband.attr('style', \"position: absolute; left: 0; top: 0; z-index: 1;\")\n",
       "\n",
       "    var pass_mouse_events = true;\n",
       "\n",
       "    canvas_div.resizable({\n",
       "        start: function(event, ui) {\n",
       "            pass_mouse_events = false;\n",
       "        },\n",
       "        resize: function(event, ui) {\n",
       "            fig.request_resize(ui.size.width, ui.size.height);\n",
       "        },\n",
       "        stop: function(event, ui) {\n",
       "            pass_mouse_events = true;\n",
       "            fig.request_resize(ui.size.width, ui.size.height);\n",
       "        },\n",
       "    });\n",
       "\n",
       "    function mouse_event_fn(event) {\n",
       "        if (pass_mouse_events)\n",
       "            return fig.mouse_event(event, event['data']);\n",
       "    }\n",
       "\n",
       "    rubberband.mousedown('button_press', mouse_event_fn);\n",
       "    rubberband.mouseup('button_release', mouse_event_fn);\n",
       "    // Throttle sequential mouse events to 1 every 20ms.\n",
       "    rubberband.mousemove('motion_notify', mouse_event_fn);\n",
       "\n",
       "    rubberband.mouseenter('figure_enter', mouse_event_fn);\n",
       "    rubberband.mouseleave('figure_leave', mouse_event_fn);\n",
       "\n",
       "    canvas_div.on(\"wheel\", function (event) {\n",
       "        event = event.originalEvent;\n",
       "        event['data'] = 'scroll'\n",
       "        if (event.deltaY < 0) {\n",
       "            event.step = 1;\n",
       "        } else {\n",
       "            event.step = -1;\n",
       "        }\n",
       "        mouse_event_fn(event);\n",
       "    });\n",
       "\n",
       "    canvas_div.append(canvas);\n",
       "    canvas_div.append(rubberband);\n",
       "\n",
       "    this.rubberband = rubberband;\n",
       "    this.rubberband_canvas = rubberband[0];\n",
       "    this.rubberband_context = rubberband[0].getContext(\"2d\");\n",
       "    this.rubberband_context.strokeStyle = \"#000000\";\n",
       "\n",
       "    this._resize_canvas = function(width, height) {\n",
       "        // Keep the size of the canvas, canvas container, and rubber band\n",
       "        // canvas in synch.\n",
       "        canvas_div.css('width', width)\n",
       "        canvas_div.css('height', height)\n",
       "\n",
       "        canvas.attr('width', width * mpl.ratio);\n",
       "        canvas.attr('height', height * mpl.ratio);\n",
       "        canvas.attr('style', 'width: ' + width + 'px; height: ' + height + 'px;');\n",
       "\n",
       "        rubberband.attr('width', width);\n",
       "        rubberband.attr('height', height);\n",
       "    }\n",
       "\n",
       "    // Set the figure to an initial 600x600px, this will subsequently be updated\n",
       "    // upon first draw.\n",
       "    this._resize_canvas(600, 600);\n",
       "\n",
       "    // Disable right mouse context menu.\n",
       "    $(this.rubberband_canvas).bind(\"contextmenu\",function(e){\n",
       "        return false;\n",
       "    });\n",
       "\n",
       "    function set_focus () {\n",
       "        canvas.focus();\n",
       "        canvas_div.focus();\n",
       "    }\n",
       "\n",
       "    window.setTimeout(set_focus, 100);\n",
       "}\n",
       "\n",
       "mpl.figure.prototype._init_toolbar = function() {\n",
       "    var fig = this;\n",
       "\n",
       "    var nav_element = $('<div/>')\n",
       "    nav_element.attr('style', 'width: 100%');\n",
       "    this.root.append(nav_element);\n",
       "\n",
       "    // Define a callback function for later on.\n",
       "    function toolbar_event(event) {\n",
       "        return fig.toolbar_button_onclick(event['data']);\n",
       "    }\n",
       "    function toolbar_mouse_event(event) {\n",
       "        return fig.toolbar_button_onmouseover(event['data']);\n",
       "    }\n",
       "\n",
       "    for(var toolbar_ind in mpl.toolbar_items) {\n",
       "        var name = mpl.toolbar_items[toolbar_ind][0];\n",
       "        var tooltip = mpl.toolbar_items[toolbar_ind][1];\n",
       "        var image = mpl.toolbar_items[toolbar_ind][2];\n",
       "        var method_name = mpl.toolbar_items[toolbar_ind][3];\n",
       "\n",
       "        if (!name) {\n",
       "            // put a spacer in here.\n",
       "            continue;\n",
       "        }\n",
       "        var button = $('<button/>');\n",
       "        button.addClass('ui-button ui-widget ui-state-default ui-corner-all ' +\n",
       "                        'ui-button-icon-only');\n",
       "        button.attr('role', 'button');\n",
       "        button.attr('aria-disabled', 'false');\n",
       "        button.click(method_name, toolbar_event);\n",
       "        button.mouseover(tooltip, toolbar_mouse_event);\n",
       "\n",
       "        var icon_img = $('<span/>');\n",
       "        icon_img.addClass('ui-button-icon-primary ui-icon');\n",
       "        icon_img.addClass(image);\n",
       "        icon_img.addClass('ui-corner-all');\n",
       "\n",
       "        var tooltip_span = $('<span/>');\n",
       "        tooltip_span.addClass('ui-button-text');\n",
       "        tooltip_span.html(tooltip);\n",
       "\n",
       "        button.append(icon_img);\n",
       "        button.append(tooltip_span);\n",
       "\n",
       "        nav_element.append(button);\n",
       "    }\n",
       "\n",
       "    var fmt_picker_span = $('<span/>');\n",
       "\n",
       "    var fmt_picker = $('<select/>');\n",
       "    fmt_picker.addClass('mpl-toolbar-option ui-widget ui-widget-content');\n",
       "    fmt_picker_span.append(fmt_picker);\n",
       "    nav_element.append(fmt_picker_span);\n",
       "    this.format_dropdown = fmt_picker[0];\n",
       "\n",
       "    for (var ind in mpl.extensions) {\n",
       "        var fmt = mpl.extensions[ind];\n",
       "        var option = $(\n",
       "            '<option/>', {selected: fmt === mpl.default_extension}).html(fmt);\n",
       "        fmt_picker.append(option)\n",
       "    }\n",
       "\n",
       "    // Add hover states to the ui-buttons\n",
       "    $( \".ui-button\" ).hover(\n",
       "        function() { $(this).addClass(\"ui-state-hover\");},\n",
       "        function() { $(this).removeClass(\"ui-state-hover\");}\n",
       "    );\n",
       "\n",
       "    var status_bar = $('<span class=\"mpl-message\"/>');\n",
       "    nav_element.append(status_bar);\n",
       "    this.message = status_bar[0];\n",
       "}\n",
       "\n",
       "mpl.figure.prototype.request_resize = function(x_pixels, y_pixels) {\n",
       "    // Request matplotlib to resize the figure. Matplotlib will then trigger a resize in the client,\n",
       "    // which will in turn request a refresh of the image.\n",
       "    this.send_message('resize', {'width': x_pixels, 'height': y_pixels});\n",
       "}\n",
       "\n",
       "mpl.figure.prototype.send_message = function(type, properties) {\n",
       "    properties['type'] = type;\n",
       "    properties['figure_id'] = this.id;\n",
       "    this.ws.send(JSON.stringify(properties));\n",
       "}\n",
       "\n",
       "mpl.figure.prototype.send_draw_message = function() {\n",
       "    if (!this.waiting) {\n",
       "        this.waiting = true;\n",
       "        this.ws.send(JSON.stringify({type: \"draw\", figure_id: this.id}));\n",
       "    }\n",
       "}\n",
       "\n",
       "\n",
       "mpl.figure.prototype.handle_save = function(fig, msg) {\n",
       "    var format_dropdown = fig.format_dropdown;\n",
       "    var format = format_dropdown.options[format_dropdown.selectedIndex].value;\n",
       "    fig.ondownload(fig, format);\n",
       "}\n",
       "\n",
       "\n",
       "mpl.figure.prototype.handle_resize = function(fig, msg) {\n",
       "    var size = msg['size'];\n",
       "    if (size[0] != fig.canvas.width || size[1] != fig.canvas.height) {\n",
       "        fig._resize_canvas(size[0], size[1]);\n",
       "        fig.send_message(\"refresh\", {});\n",
       "    };\n",
       "}\n",
       "\n",
       "mpl.figure.prototype.handle_rubberband = function(fig, msg) {\n",
       "    var x0 = msg['x0'] / mpl.ratio;\n",
       "    var y0 = (fig.canvas.height - msg['y0']) / mpl.ratio;\n",
       "    var x1 = msg['x1'] / mpl.ratio;\n",
       "    var y1 = (fig.canvas.height - msg['y1']) / mpl.ratio;\n",
       "    x0 = Math.floor(x0) + 0.5;\n",
       "    y0 = Math.floor(y0) + 0.5;\n",
       "    x1 = Math.floor(x1) + 0.5;\n",
       "    y1 = Math.floor(y1) + 0.5;\n",
       "    var min_x = Math.min(x0, x1);\n",
       "    var min_y = Math.min(y0, y1);\n",
       "    var width = Math.abs(x1 - x0);\n",
       "    var height = Math.abs(y1 - y0);\n",
       "\n",
       "    fig.rubberband_context.clearRect(\n",
       "        0, 0, fig.canvas.width, fig.canvas.height);\n",
       "\n",
       "    fig.rubberband_context.strokeRect(min_x, min_y, width, height);\n",
       "}\n",
       "\n",
       "mpl.figure.prototype.handle_figure_label = function(fig, msg) {\n",
       "    // Updates the figure title.\n",
       "    fig.header.textContent = msg['label'];\n",
       "}\n",
       "\n",
       "mpl.figure.prototype.handle_cursor = function(fig, msg) {\n",
       "    var cursor = msg['cursor'];\n",
       "    switch(cursor)\n",
       "    {\n",
       "    case 0:\n",
       "        cursor = 'pointer';\n",
       "        break;\n",
       "    case 1:\n",
       "        cursor = 'default';\n",
       "        break;\n",
       "    case 2:\n",
       "        cursor = 'crosshair';\n",
       "        break;\n",
       "    case 3:\n",
       "        cursor = 'move';\n",
       "        break;\n",
       "    }\n",
       "    fig.rubberband_canvas.style.cursor = cursor;\n",
       "}\n",
       "\n",
       "mpl.figure.prototype.handle_message = function(fig, msg) {\n",
       "    fig.message.textContent = msg['message'];\n",
       "}\n",
       "\n",
       "mpl.figure.prototype.handle_draw = function(fig, msg) {\n",
       "    // Request the server to send over a new figure.\n",
       "    fig.send_draw_message();\n",
       "}\n",
       "\n",
       "mpl.figure.prototype.handle_image_mode = function(fig, msg) {\n",
       "    fig.image_mode = msg['mode'];\n",
       "}\n",
       "\n",
       "mpl.figure.prototype.updated_canvas_event = function() {\n",
       "    // Called whenever the canvas gets updated.\n",
       "    this.send_message(\"ack\", {});\n",
       "}\n",
       "\n",
       "// A function to construct a web socket function for onmessage handling.\n",
       "// Called in the figure constructor.\n",
       "mpl.figure.prototype._make_on_message_function = function(fig) {\n",
       "    return function socket_on_message(evt) {\n",
       "        if (evt.data instanceof Blob) {\n",
       "            /* FIXME: We get \"Resource interpreted as Image but\n",
       "             * transferred with MIME type text/plain:\" errors on\n",
       "             * Chrome.  But how to set the MIME type?  It doesn't seem\n",
       "             * to be part of the websocket stream */\n",
       "            evt.data.type = \"image/png\";\n",
       "\n",
       "            /* Free the memory for the previous frames */\n",
       "            if (fig.imageObj.src) {\n",
       "                (window.URL || window.webkitURL).revokeObjectURL(\n",
       "                    fig.imageObj.src);\n",
       "            }\n",
       "\n",
       "            fig.imageObj.src = (window.URL || window.webkitURL).createObjectURL(\n",
       "                evt.data);\n",
       "            fig.updated_canvas_event();\n",
       "            fig.waiting = false;\n",
       "            return;\n",
       "        }\n",
       "        else if (typeof evt.data === 'string' && evt.data.slice(0, 21) == \"data:image/png;base64\") {\n",
       "            fig.imageObj.src = evt.data;\n",
       "            fig.updated_canvas_event();\n",
       "            fig.waiting = false;\n",
       "            return;\n",
       "        }\n",
       "\n",
       "        var msg = JSON.parse(evt.data);\n",
       "        var msg_type = msg['type'];\n",
       "\n",
       "        // Call the  \"handle_{type}\" callback, which takes\n",
       "        // the figure and JSON message as its only arguments.\n",
       "        try {\n",
       "            var callback = fig[\"handle_\" + msg_type];\n",
       "        } catch (e) {\n",
       "            console.log(\"No handler for the '\" + msg_type + \"' message type: \", msg);\n",
       "            return;\n",
       "        }\n",
       "\n",
       "        if (callback) {\n",
       "            try {\n",
       "                // console.log(\"Handling '\" + msg_type + \"' message: \", msg);\n",
       "                callback(fig, msg);\n",
       "            } catch (e) {\n",
       "                console.log(\"Exception inside the 'handler_\" + msg_type + \"' callback:\", e, e.stack, msg);\n",
       "            }\n",
       "        }\n",
       "    };\n",
       "}\n",
       "\n",
       "// from http://stackoverflow.com/questions/1114465/getting-mouse-location-in-canvas\n",
       "mpl.findpos = function(e) {\n",
       "    //this section is from http://www.quirksmode.org/js/events_properties.html\n",
       "    var targ;\n",
       "    if (!e)\n",
       "        e = window.event;\n",
       "    if (e.target)\n",
       "        targ = e.target;\n",
       "    else if (e.srcElement)\n",
       "        targ = e.srcElement;\n",
       "    if (targ.nodeType == 3) // defeat Safari bug\n",
       "        targ = targ.parentNode;\n",
       "\n",
       "    // jQuery normalizes the pageX and pageY\n",
       "    // pageX,Y are the mouse positions relative to the document\n",
       "    // offset() returns the position of the element relative to the document\n",
       "    var x = e.pageX - $(targ).offset().left;\n",
       "    var y = e.pageY - $(targ).offset().top;\n",
       "\n",
       "    return {\"x\": x, \"y\": y};\n",
       "};\n",
       "\n",
       "/*\n",
       " * return a copy of an object with only non-object keys\n",
       " * we need this to avoid circular references\n",
       " * http://stackoverflow.com/a/24161582/3208463\n",
       " */\n",
       "function simpleKeys (original) {\n",
       "  return Object.keys(original).reduce(function (obj, key) {\n",
       "    if (typeof original[key] !== 'object')\n",
       "        obj[key] = original[key]\n",
       "    return obj;\n",
       "  }, {});\n",
       "}\n",
       "\n",
       "mpl.figure.prototype.mouse_event = function(event, name) {\n",
       "    var canvas_pos = mpl.findpos(event)\n",
       "\n",
       "    if (name === 'button_press')\n",
       "    {\n",
       "        this.canvas.focus();\n",
       "        this.canvas_div.focus();\n",
       "    }\n",
       "\n",
       "    var x = canvas_pos.x * mpl.ratio;\n",
       "    var y = canvas_pos.y * mpl.ratio;\n",
       "\n",
       "    this.send_message(name, {x: x, y: y, button: event.button,\n",
       "                             step: event.step,\n",
       "                             guiEvent: simpleKeys(event)});\n",
       "\n",
       "    /* This prevents the web browser from automatically changing to\n",
       "     * the text insertion cursor when the button is pressed.  We want\n",
       "     * to control all of the cursor setting manually through the\n",
       "     * 'cursor' event from matplotlib */\n",
       "    event.preventDefault();\n",
       "    return false;\n",
       "}\n",
       "\n",
       "mpl.figure.prototype._key_event_extra = function(event, name) {\n",
       "    // Handle any extra behaviour associated with a key event\n",
       "}\n",
       "\n",
       "mpl.figure.prototype.key_event = function(event, name) {\n",
       "\n",
       "    // Prevent repeat events\n",
       "    if (name == 'key_press')\n",
       "    {\n",
       "        if (event.which === this._key)\n",
       "            return;\n",
       "        else\n",
       "            this._key = event.which;\n",
       "    }\n",
       "    if (name == 'key_release')\n",
       "        this._key = null;\n",
       "\n",
       "    var value = '';\n",
       "    if (event.ctrlKey && event.which != 17)\n",
       "        value += \"ctrl+\";\n",
       "    if (event.altKey && event.which != 18)\n",
       "        value += \"alt+\";\n",
       "    if (event.shiftKey && event.which != 16)\n",
       "        value += \"shift+\";\n",
       "\n",
       "    value += 'k';\n",
       "    value += event.which.toString();\n",
       "\n",
       "    this._key_event_extra(event, name);\n",
       "\n",
       "    this.send_message(name, {key: value,\n",
       "                             guiEvent: simpleKeys(event)});\n",
       "    return false;\n",
       "}\n",
       "\n",
       "mpl.figure.prototype.toolbar_button_onclick = function(name) {\n",
       "    if (name == 'download') {\n",
       "        this.handle_save(this, null);\n",
       "    } else {\n",
       "        this.send_message(\"toolbar_button\", {name: name});\n",
       "    }\n",
       "};\n",
       "\n",
       "mpl.figure.prototype.toolbar_button_onmouseover = function(tooltip) {\n",
       "    this.message.textContent = tooltip;\n",
       "};\n",
       "mpl.toolbar_items = [[\"Home\", \"Reset original view\", \"fa fa-home icon-home\", \"home\"], [\"Back\", \"Back to previous view\", \"fa fa-arrow-left icon-arrow-left\", \"back\"], [\"Forward\", \"Forward to next view\", \"fa fa-arrow-right icon-arrow-right\", \"forward\"], [\"\", \"\", \"\", \"\"], [\"Pan\", \"Pan axes with left mouse, zoom with right\", \"fa fa-arrows icon-move\", \"pan\"], [\"Zoom\", \"Zoom to rectangle\", \"fa fa-square-o icon-check-empty\", \"zoom\"], [\"\", \"\", \"\", \"\"], [\"Download\", \"Download plot\", \"fa fa-floppy-o icon-save\", \"download\"]];\n",
       "\n",
       "mpl.extensions = [\"eps\", \"jpeg\", \"pdf\", \"png\", \"ps\", \"raw\", \"svg\", \"tif\"];\n",
       "\n",
       "mpl.default_extension = \"png\";var comm_websocket_adapter = function(comm) {\n",
       "    // Create a \"websocket\"-like object which calls the given IPython comm\n",
       "    // object with the appropriate methods. Currently this is a non binary\n",
       "    // socket, so there is still some room for performance tuning.\n",
       "    var ws = {};\n",
       "\n",
       "    ws.close = function() {\n",
       "        comm.close()\n",
       "    };\n",
       "    ws.send = function(m) {\n",
       "        //console.log('sending', m);\n",
       "        comm.send(m);\n",
       "    };\n",
       "    // Register the callback with on_msg.\n",
       "    comm.on_msg(function(msg) {\n",
       "        //console.log('receiving', msg['content']['data'], msg);\n",
       "        // Pass the mpl event to the overridden (by mpl) onmessage function.\n",
       "        ws.onmessage(msg['content']['data'])\n",
       "    });\n",
       "    return ws;\n",
       "}\n",
       "\n",
       "mpl.mpl_figure_comm = function(comm, msg) {\n",
       "    // This is the function which gets called when the mpl process\n",
       "    // starts-up an IPython Comm through the \"matplotlib\" channel.\n",
       "\n",
       "    var id = msg.content.data.id;\n",
       "    // Get hold of the div created by the display call when the Comm\n",
       "    // socket was opened in Python.\n",
       "    var element = $(\"#\" + id);\n",
       "    var ws_proxy = comm_websocket_adapter(comm)\n",
       "\n",
       "    function ondownload(figure, format) {\n",
       "        window.open(figure.imageObj.src);\n",
       "    }\n",
       "\n",
       "    var fig = new mpl.figure(id, ws_proxy,\n",
       "                           ondownload,\n",
       "                           element.get(0));\n",
       "\n",
       "    // Call onopen now - mpl needs it, as it is assuming we've passed it a real\n",
       "    // web socket which is closed, not our websocket->open comm proxy.\n",
       "    ws_proxy.onopen();\n",
       "\n",
       "    fig.parent_element = element.get(0);\n",
       "    fig.cell_info = mpl.find_output_cell(\"<div id='\" + id + \"'></div>\");\n",
       "    if (!fig.cell_info) {\n",
       "        console.error(\"Failed to find cell for figure\", id, fig);\n",
       "        return;\n",
       "    }\n",
       "\n",
       "    var output_index = fig.cell_info[2]\n",
       "    var cell = fig.cell_info[0];\n",
       "\n",
       "};\n",
       "\n",
       "mpl.figure.prototype.handle_close = function(fig, msg) {\n",
       "    var width = fig.canvas.width/mpl.ratio\n",
       "    fig.root.unbind('remove')\n",
       "\n",
       "    // Update the output cell to use the data from the current canvas.\n",
       "    fig.push_to_output();\n",
       "    var dataURL = fig.canvas.toDataURL();\n",
       "    // Re-enable the keyboard manager in IPython - without this line, in FF,\n",
       "    // the notebook keyboard shortcuts fail.\n",
       "    IPython.keyboard_manager.enable()\n",
       "    $(fig.parent_element).html('<img src=\"' + dataURL + '\" width=\"' + width + '\">');\n",
       "    fig.close_ws(fig, msg);\n",
       "}\n",
       "\n",
       "mpl.figure.prototype.close_ws = function(fig, msg){\n",
       "    fig.send_message('closing', msg);\n",
       "    // fig.ws.close()\n",
       "}\n",
       "\n",
       "mpl.figure.prototype.push_to_output = function(remove_interactive) {\n",
       "    // Turn the data on the canvas into data in the output cell.\n",
       "    var width = this.canvas.width/mpl.ratio\n",
       "    var dataURL = this.canvas.toDataURL();\n",
       "    this.cell_info[1]['text/html'] = '<img src=\"' + dataURL + '\" width=\"' + width + '\">';\n",
       "}\n",
       "\n",
       "mpl.figure.prototype.updated_canvas_event = function() {\n",
       "    // Tell IPython that the notebook contents must change.\n",
       "    IPython.notebook.set_dirty(true);\n",
       "    this.send_message(\"ack\", {});\n",
       "    var fig = this;\n",
       "    // Wait a second, then push the new image to the DOM so\n",
       "    // that it is saved nicely (might be nice to debounce this).\n",
       "    setTimeout(function () { fig.push_to_output() }, 1000);\n",
       "}\n",
       "\n",
       "mpl.figure.prototype._init_toolbar = function() {\n",
       "    var fig = this;\n",
       "\n",
       "    var nav_element = $('<div/>')\n",
       "    nav_element.attr('style', 'width: 100%');\n",
       "    this.root.append(nav_element);\n",
       "\n",
       "    // Define a callback function for later on.\n",
       "    function toolbar_event(event) {\n",
       "        return fig.toolbar_button_onclick(event['data']);\n",
       "    }\n",
       "    function toolbar_mouse_event(event) {\n",
       "        return fig.toolbar_button_onmouseover(event['data']);\n",
       "    }\n",
       "\n",
       "    for(var toolbar_ind in mpl.toolbar_items){\n",
       "        var name = mpl.toolbar_items[toolbar_ind][0];\n",
       "        var tooltip = mpl.toolbar_items[toolbar_ind][1];\n",
       "        var image = mpl.toolbar_items[toolbar_ind][2];\n",
       "        var method_name = mpl.toolbar_items[toolbar_ind][3];\n",
       "\n",
       "        if (!name) { continue; };\n",
       "\n",
       "        var button = $('<button class=\"btn btn-default\" href=\"#\" title=\"' + name + '\"><i class=\"fa ' + image + ' fa-lg\"></i></button>');\n",
       "        button.click(method_name, toolbar_event);\n",
       "        button.mouseover(tooltip, toolbar_mouse_event);\n",
       "        nav_element.append(button);\n",
       "    }\n",
       "\n",
       "    // Add the status bar.\n",
       "    var status_bar = $('<span class=\"mpl-message\" style=\"text-align:right; float: right;\"/>');\n",
       "    nav_element.append(status_bar);\n",
       "    this.message = status_bar[0];\n",
       "\n",
       "    // Add the close button to the window.\n",
       "    var buttongrp = $('<div class=\"btn-group inline pull-right\"></div>');\n",
       "    var button = $('<button class=\"btn btn-mini btn-primary\" href=\"#\" title=\"Stop Interaction\"><i class=\"fa fa-power-off icon-remove icon-large\"></i></button>');\n",
       "    button.click(function (evt) { fig.handle_close(fig, {}); } );\n",
       "    button.mouseover('Stop Interaction', toolbar_mouse_event);\n",
       "    buttongrp.append(button);\n",
       "    var titlebar = this.root.find($('.ui-dialog-titlebar'));\n",
       "    titlebar.prepend(buttongrp);\n",
       "}\n",
       "\n",
       "mpl.figure.prototype._root_extra_style = function(el){\n",
       "    var fig = this\n",
       "    el.on(\"remove\", function(){\n",
       "\tfig.close_ws(fig, {});\n",
       "    });\n",
       "}\n",
       "\n",
       "mpl.figure.prototype._canvas_extra_style = function(el){\n",
       "    // this is important to make the div 'focusable\n",
       "    el.attr('tabindex', 0)\n",
       "    // reach out to IPython and tell the keyboard manager to turn it's self\n",
       "    // off when our div gets focus\n",
       "\n",
       "    // location in version 3\n",
       "    if (IPython.notebook.keyboard_manager) {\n",
       "        IPython.notebook.keyboard_manager.register_events(el);\n",
       "    }\n",
       "    else {\n",
       "        // location in version 2\n",
       "        IPython.keyboard_manager.register_events(el);\n",
       "    }\n",
       "\n",
       "}\n",
       "\n",
       "mpl.figure.prototype._key_event_extra = function(event, name) {\n",
       "    var manager = IPython.notebook.keyboard_manager;\n",
       "    if (!manager)\n",
       "        manager = IPython.keyboard_manager;\n",
       "\n",
       "    // Check for shift+enter\n",
       "    if (event.shiftKey && event.which == 13) {\n",
       "        this.canvas_div.blur();\n",
       "        event.shiftKey = false;\n",
       "        // Send a \"J\" for go to next cell\n",
       "        event.which = 74;\n",
       "        event.keyCode = 74;\n",
       "        manager.command_mode();\n",
       "        manager.handle_keydown(event);\n",
       "    }\n",
       "}\n",
       "\n",
       "mpl.figure.prototype.handle_save = function(fig, msg) {\n",
       "    fig.ondownload(fig, null);\n",
       "}\n",
       "\n",
       "\n",
       "mpl.find_output_cell = function(html_output) {\n",
       "    // Return the cell and output element which can be found *uniquely* in the notebook.\n",
       "    // Note - this is a bit hacky, but it is done because the \"notebook_saving.Notebook\"\n",
       "    // IPython event is triggered only after the cells have been serialised, which for\n",
       "    // our purposes (turning an active figure into a static one), is too late.\n",
       "    var cells = IPython.notebook.get_cells();\n",
       "    var ncells = cells.length;\n",
       "    for (var i=0; i<ncells; i++) {\n",
       "        var cell = cells[i];\n",
       "        if (cell.cell_type === 'code'){\n",
       "            for (var j=0; j<cell.output_area.outputs.length; j++) {\n",
       "                var data = cell.output_area.outputs[j];\n",
       "                if (data.data) {\n",
       "                    // IPython >= 3 moved mimebundle to data attribute of output\n",
       "                    data = data.data;\n",
       "                }\n",
       "                if (data['text/html'] == html_output) {\n",
       "                    return [cell, data, j];\n",
       "                }\n",
       "            }\n",
       "        }\n",
       "    }\n",
       "}\n",
       "\n",
       "// Register the function which deals with the matplotlib target/channel.\n",
       "// The kernel may be null if the page has been refreshed.\n",
       "if (IPython.notebook.kernel != null) {\n",
       "    IPython.notebook.kernel.comm_manager.register_target('matplotlib', mpl.mpl_figure_comm);\n",
       "}\n"
      ],
      "text/plain": [
       "<IPython.core.display.Javascript object>"
      ]
     },
     "metadata": {},
     "output_type": "display_data"
    },
    {
     "data": {
      "text/html": [
       "<img src=\"data:image/png;base64,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\" width=\"640\">"
      ],
      "text/plain": [
       "<IPython.core.display.HTML object>"
      ]
     },
     "metadata": {},
     "output_type": "display_data"
    }
   ],
   "source": [
    "%matplotlib notebook\n",
    "fig, ax = plt.subplots()\n",
    "sns.countplot(x='month', data=train_df, ax=ax)\n",
    "plt.title('No of ratings on each month...')\n",
    "plt.ylabel('Total no of ratings')\n",
    "plt.xlabel('')\n",
    "ax.set_yticklabels([human(item, 'M') for item in ax.get_yticks()])\n",
    "plt.show()"
   ]
  },
  {
   "cell_type": "code",
   "execution_count": 28,
   "metadata": {},
   "outputs": [
    {
     "name": "stdout",
     "output_type": "stream",
     "text": [
      " AVerage ratings\n",
      "------------------------------\n",
      "month\n",
      "1     3.551074\n",
      "2     3.556291\n",
      "3     3.579496\n",
      "4     3.590111\n",
      "5     3.592810\n",
      "6     3.613396\n",
      "7     3.624679\n",
      "8     3.570252\n",
      "9     3.550485\n",
      "10    3.578523\n",
      "11    3.567319\n",
      "12    3.578930\n",
      "Name: rating, dtype: float64\n",
      "\n",
      "\n"
     ]
    }
   ],
   "source": [
    "avg_month_df = train_df.groupby(by=['month'])['rating'].mean()\n",
    "print(\" AVerage ratings\")\n",
    "print(\"-\"*30)\n",
    "print(avg_month_df)\n",
    "print(\"\\n\")"
   ]
  },
  {
   "cell_type": "markdown",
   "metadata": {
    "colab_type": "text",
    "id": "uk90Yucuxrn3"
   },
   "source": [
    "<h3>3.3.7 Finding Global average of all movie ratings, Average rating per user, and Average rating per movie</h3>"
   ]
  },
  {
   "cell_type": "code",
   "execution_count": 15,
   "metadata": {
    "colab": {},
    "colab_type": "code",
    "id": "vJehxyKexrn7"
   },
   "outputs": [],
   "source": [
    "# get the user averages in dictionary (key: user_id/movie_id, value: avg rating)\n",
    "\n",
    "def get_average_ratings(sparse_matrix, of_users):\n",
    "    \n",
    "    # average ratings of user/axes\n",
    "    ax = 1 if of_users else 0 # 1 - User axes,0 - Movie axes\n",
    "\n",
    "    # \".A1\" is for converting Column_Matrix to 1-D numpy array \n",
    "    sum_of_ratings = sparse_matrix.sum(axis=ax).A1\n",
    "    # Boolean matrix of ratings ( whether a user rated that movie or not)\n",
    "    is_rated = sparse_matrix!=0\n",
    "    # no of ratings that each user OR movie..\n",
    "    no_of_ratings = is_rated.sum(axis=ax).A1\n",
    "    \n",
    "    # max_user  and max_movie ids in sparse matrix \n",
    "    u,m = sparse_matrix.shape\n",
    "    # creae a dictonary of users and their average ratigns..\n",
    "    average_ratings = { i : sum_of_ratings[i]/no_of_ratings[i]\n",
    "                                 for i in range(u if of_users else m) \n",
    "                                    if no_of_ratings[i] !=0}\n",
    "\n",
    "    # return that dictionary of average ratings\n",
    "    return average_ratings"
   ]
  },
  {
   "cell_type": "markdown",
   "metadata": {
    "colab_type": "text",
    "id": "NZICFv1fxroF"
   },
   "source": [
    "<h4> 3.3.7.2 finding average rating per user</h4>"
   ]
  },
  {
   "cell_type": "code",
   "execution_count": 10,
   "metadata": {
    "colab": {},
    "colab_type": "code",
    "id": "J1fOjIi4xroF",
    "outputId": "35a50f88-d956-46dd-9a85-054a290e0c60",
    "scrolled": true
   },
   "outputs": [
    {
     "name": "stdout",
     "output_type": "stream",
     "text": [
      "\n",
      "Average rating of user 10 : 3.3781094527363185\n"
     ]
    }
   ],
   "source": [
    "train_averages['user'] = get_average_ratings(train_sparse_matrix, of_users=True)\n",
    "print('\\nAverage rating of user 10 :',train_averages['user'][10])"
   ]
  },
  {
   "cell_type": "markdown",
   "metadata": {
    "colab_type": "text",
    "id": "6CAv2kHHxroJ"
   },
   "source": [
    "<h4> 3.3.7.3 finding average rating per movie</h4>"
   ]
  },
  {
   "cell_type": "code",
   "execution_count": 11,
   "metadata": {
    "colab": {},
    "colab_type": "code",
    "id": "Azt21nAGxroJ",
    "outputId": "b6927c32-9c7f-4080-d25f-bdb34f10775f",
    "scrolled": true
   },
   "outputs": [
    {
     "name": "stdout",
     "output_type": "stream",
     "text": [
      "\n",
      " AVerage rating of movie 15 : 3.3038461538461537\n"
     ]
    }
   ],
   "source": [
    "train_averages['movie'] =  get_average_ratings(train_sparse_matrix, of_users=False)\n",
    "print('\\n AVerage rating of movie 15 :',train_averages['movie'][15])"
   ]
  },
  {
   "cell_type": "markdown",
   "metadata": {
    "colab_type": "text",
    "id": "hZtFXddTxroP"
   },
   "source": [
    " "
   ]
  },
  {
   "cell_type": "markdown",
   "metadata": {
    "colab_type": "text",
    "id": "FKLbra7FxroQ"
   },
   "source": [
    "<h4> 3.3.7.4 PDF's & CDF's of Avg.Ratings of Users & Movies (In Train Data)</h4>"
   ]
  },
  {
   "cell_type": "markdown",
   "metadata": {
    "colab_type": "text",
    "id": "4GD_Wv3jxroX"
   },
   "source": [
    "<h3> 3.3.8 Cold Start problem </h3>"
   ]
  },
  {
   "cell_type": "markdown",
   "metadata": {
    "colab_type": "text",
    "id": "nZcVtFdFxroY"
   },
   "source": [
    "<h4> 3.3.8.1 Cold Start problem with Users</h4>"
   ]
  },
  {
   "cell_type": "code",
   "execution_count": 0,
   "metadata": {
    "colab": {},
    "colab_type": "code",
    "id": "RHuIbxaWxroZ",
    "outputId": "dfe1438c-6717-4cb3-bba3-dff0f65e0e49"
   },
   "outputs": [
    {
     "name": "stdout",
     "output_type": "stream",
     "text": [
      "\n",
      "Total number of Users  : 480189\n",
      "\n",
      "Number of Users in Train data : 405041\n",
      "\n",
      "No of Users that didn't appear in train data: 75148(15.65 %) \n",
      " \n"
     ]
    }
   ],
   "source": [
    "total_users = len(np.unique(df.user))\n",
    "users_train = len(train_averages['user'])\n",
    "new_users = total_users - users_train\n",
    "\n",
    "print('\\nTotal number of Users  :', total_users)\n",
    "print('\\nNumber of Users in Train data :', users_train)\n",
    "print(\"\\nNo of Users that didn't appear in train data: {}({} %) \\n \".format(new_users,\n",
    "                                                                        np.round((new_users/total_users)*100, 2)))"
   ]
  },
  {
   "cell_type": "markdown",
   "metadata": {
    "colab_type": "text",
    "id": "NcSQjhBhxroc"
   },
   "source": [
    "> We might have to handle __new users__ ( ___75148___ ) who didn't appear in train data."
   ]
  },
  {
   "cell_type": "markdown",
   "metadata": {
    "colab_type": "text",
    "id": "CXXLI7nKxrod"
   },
   "source": [
    "<h4> 3.3.8.2 Cold Start problem with Movies</h4>"
   ]
  },
  {
   "cell_type": "code",
   "execution_count": 0,
   "metadata": {
    "colab": {},
    "colab_type": "code",
    "id": "lXNwDgeSxroe",
    "outputId": "e7ec447d-f40a-4d62-d2c7-14f06806ad9e"
   },
   "outputs": [
    {
     "name": "stdout",
     "output_type": "stream",
     "text": [
      "\n",
      "Total number of Movies  : 17770\n",
      "\n",
      "Number of Users in Train data : 17424\n",
      "\n",
      "No of Movies that didn't appear in train data: 346(1.95 %) \n",
      " \n"
     ]
    }
   ],
   "source": [
    "total_movies = len(np.unique(df.movie))\n",
    "movies_train = len(train_averages['movie'])\n",
    "new_movies = total_movies - movies_train\n",
    "\n",
    "print('\\nTotal number of Movies  :', total_movies)\n",
    "print('\\nNumber of Users in Train data :', movies_train)\n",
    "print(\"\\nNo of Movies that didn't appear in train data: {}({} %) \\n \".format(new_movies,\n",
    "                                                                        np.round((new_movies/total_movies)*100, 2)))"
   ]
  },
  {
   "cell_type": "markdown",
   "metadata": {
    "colab_type": "text",
    "id": "CegdvJEKxrog"
   },
   "source": [
    "> We might have to handle __346 movies__ (small comparatively) in test data"
   ]
  },
  {
   "cell_type": "markdown",
   "metadata": {
    "colab_type": "text",
    "id": "jHybEKyrxroi"
   },
   "source": [
    " "
   ]
  },
  {
   "cell_type": "markdown",
   "metadata": {
    "colab_type": "text",
    "id": "5W-89x3Hxrp_"
   },
   "source": [
    " "
   ]
  },
  {
   "cell_type": "markdown",
   "metadata": {
    "colab_type": "text",
    "id": "eBDg55WVxrqA"
   },
   "source": [
    " "
   ]
  },
  {
   "cell_type": "markdown",
   "metadata": {
    "colab_type": "text",
    "id": "4Tro44QZxrqB"
   },
   "source": [
    " <h1> 4.  Machine Learning Models </h1>"
   ]
  },
  {
   "cell_type": "markdown",
   "metadata": {
    "colab_type": "text",
    "id": "5fGHBTmfxrqC"
   },
   "source": [
    "<img src='images/models.jpg' width=500px>"
   ]
  },
  {
   "cell_type": "code",
   "execution_count": 8,
   "metadata": {
    "colab": {},
    "colab_type": "code",
    "id": "oBOQj4nmxrqD"
   },
   "outputs": [],
   "source": [
    "def get_sample_sparse_matrix(sparse_matrix, no_users, no_movies, path, verbose = True):\n",
    "    \"\"\"\n",
    "        It will get it from the ''path'' if it is present  or It will create \n",
    "        and store the sampled sparse matrix in the path specified.\n",
    "    \"\"\"\n",
    "\n",
    "    # get (row, col) and (rating) tuple from sparse_matrix...\n",
    "    row_ind, col_ind, ratings = sparse.find(sparse_matrix)\n",
    "    users = np.unique(row_ind)\n",
    "    movies = np.unique(col_ind)\n",
    "\n",
    "    print(\"Original Matrix : (users, movies) -- ({} {})\".format(len(users), len(movies)))\n",
    "    print(\"Original Matrix : Ratings -- {}\\n\".format(len(ratings)))\n",
    "\n",
    "    # It just to make sure to get same sample everytime we run this program..\n",
    "    # and pick without replacement....\n",
    "    np.random.seed(15)\n",
    "    sample_users = np.random.choice(users, no_users, replace=False)\n",
    "    sample_movies = np.random.choice(movies, no_movies, replace=False)\n",
    "    # get the boolean mask or these sampled_items in originl row/col_inds..\n",
    "    mask = np.logical_and( np.isin(row_ind, sample_users),\n",
    "                      np.isin(col_ind, sample_movies) )\n",
    "    \n",
    "    sample_sparse_matrix = sparse.csr_matrix((ratings[mask], (row_ind[mask], col_ind[mask])),\n",
    "                                             shape=(max(sample_users)+1, max(sample_movies)+1))\n",
    "\n",
    "    if verbose:\n",
    "        print(\"Sampled Matrix : (users, movies) -- ({} {})\".format(len(sample_users), len(sample_movies)))\n",
    "        print(\"Sampled Matrix : Ratings --\", format(ratings[mask].shape[0]))\n",
    "\n",
    "    print('Saving it into disk for furthur usage..')\n",
    "    # save it into disk\n",
    "    sparse.save_npz(path, sample_sparse_matrix)\n",
    "    if verbose:\n",
    "            print('Done..\\n')\n",
    "    \n",
    "    return sample_sparse_matrix"
   ]
  },
  {
   "cell_type": "markdown",
   "metadata": {
    "colab_type": "text",
    "id": "qKFfQ0bgxrqF"
   },
   "source": [
    "<h2> 4.1 Sampling Data </h2>"
   ]
  },
  {
   "cell_type": "markdown",
   "metadata": {
    "colab_type": "text",
    "id": "0jLFR-p1xrqG"
   },
   "source": [
    "<h3>4.1.1 Build sample train data from the train data</h3>"
   ]
  },
  {
   "cell_type": "code",
   "execution_count": 9,
   "metadata": {
    "colab": {},
    "colab_type": "code",
    "id": "l5dJ4yzVxrqH",
    "outputId": "acd9a972-167a-43d3-b5b5-59da9ee954b8"
   },
   "outputs": [
    {
     "name": "stdout",
     "output_type": "stream",
     "text": [
      "It is present in your pwd, getting it from disk....\n",
      "DONE..\n",
      "0:00:00.070867\n"
     ]
    }
   ],
   "source": [
    "start = datetime.now()\n",
    "path = \"sample/small/sample_train_sparse_matrix.npz\"\n",
    "if os.path.isfile(path):\n",
    "    print(\"It is present in your pwd, getting it from disk....\")\n",
    "    # just get it from the disk instead of computing it\n",
    "    sample_train_sparse_matrix = sparse.load_npz(path)\n",
    "    print(\"DONE..\")\n",
    "else: \n",
    "    # get 25k users and 3k movies from available data \n",
    "    sample_train_sparse_matrix = get_sample_sparse_matrix(train_sparse_matrix, no_users=25000, no_movies=3000,\n",
    "                                             path = path)\n",
    "\n",
    "print(datetime.now() - start)"
   ]
  },
  {
   "cell_type": "markdown",
   "metadata": {
    "colab_type": "text",
    "id": "fQJ8BE0IxrqJ"
   },
   "source": [
    "<h3>4.1.2 Build sample test data from the test data</h3>"
   ]
  },
  {
   "cell_type": "code",
   "execution_count": 10,
   "metadata": {
    "colab": {},
    "colab_type": "code",
    "id": "8tPszXJ1xrqJ",
    "outputId": "1bba0063-64bc-4393-d14b-2eb0ddfccf7e"
   },
   "outputs": [
    {
     "name": "stdout",
     "output_type": "stream",
     "text": [
      "Original Matrix : (users, movies) -- (349312 17757)\n",
      "Original Matrix : Ratings -- 20096102\n",
      "\n",
      "Sampled Matrix : (users, movies) -- (5000 500)\n",
      "Sampled Matrix : Ratings -- 7333\n",
      "Saving it into disk for furthur usage..\n",
      "Done..\n",
      "\n",
      "0:00:11.112220\n"
     ]
    }
   ],
   "source": [
    "start = datetime.now()\n",
    "\n",
    "path = \"sample/small/sample_test_sparse_matrix.npz\"\n",
    "if os.path.isfile(path):\n",
    "    print(\"It is present in your pwd, getting it from disk....\")\n",
    "    # just get it from the disk instead of computing it\n",
    "    sample_test_sparse_matrix = sparse.load_npz(path)\n",
    "    print(\"DONE..\")\n",
    "else:\n",
    "    # get 5k users and 500 movies from available data \n",
    "    sample_test_sparse_matrix = get_sample_sparse_matrix(test_sparse_matrix, no_users=5000, no_movies=500,\n",
    "                                                 path = \"sample/small/sample_test_sparse_matrix.npz\")\n",
    "print(datetime.now() - start)"
   ]
  },
  {
   "cell_type": "markdown",
   "metadata": {
    "colab_type": "text",
    "id": "tzF6Hwx0xrqL"
   },
   "source": [
    " "
   ]
  },
  {
   "cell_type": "markdown",
   "metadata": {
    "colab_type": "text",
    "id": "BgTx-m-cxrqM"
   },
   "source": [
    "<h2>4.2 Finding Global Average of all movie ratings, Average rating per User, and Average rating per Movie (from sampled train)</h2>"
   ]
  },
  {
   "cell_type": "code",
   "execution_count": 11,
   "metadata": {
    "colab": {},
    "colab_type": "code",
    "id": "Af8rljDExrqN"
   },
   "outputs": [],
   "source": [
    "sample_train_averages = dict()"
   ]
  },
  {
   "cell_type": "markdown",
   "metadata": {
    "colab_type": "text",
    "id": "ZNMVuqWHxrqP"
   },
   "source": [
    "<h3>4.2.1 Finding Global Average of all movie ratings</h3>"
   ]
  },
  {
   "cell_type": "code",
   "execution_count": 12,
   "metadata": {
    "colab": {},
    "colab_type": "code",
    "id": "eJN92jujxrqQ",
    "outputId": "bfce9a93-dfa0-4c96-fbf4-fb597a2e336d"
   },
   "outputs": [
    {
     "data": {
      "text/plain": [
       "{'global': 3.5875813607223455}"
      ]
     },
     "execution_count": 12,
     "metadata": {},
     "output_type": "execute_result"
    }
   ],
   "source": [
    "# get the global average of ratings in our train set.\n",
    "global_average = sample_train_sparse_matrix.sum()/sample_train_sparse_matrix.count_nonzero()\n",
    "sample_train_averages['global'] = global_average\n",
    "sample_train_averages"
   ]
  },
  {
   "cell_type": "markdown",
   "metadata": {
    "colab_type": "text",
    "id": "A3ldVasnxrqS"
   },
   "source": [
    "<h3>4.2.2 Finding Average rating per User</h3>"
   ]
  },
  {
   "cell_type": "code",
   "execution_count": 16,
   "metadata": {
    "colab": {},
    "colab_type": "code",
    "id": "iLBPu2ObxrqT",
    "outputId": "85af4594-80f1-4dc9-9588-6372e62db396",
    "scrolled": true
   },
   "outputs": [
    {
     "name": "stdout",
     "output_type": "stream",
     "text": [
      "\n",
      "Average rating of user 1515220 : 3.923076923076923\n"
     ]
    }
   ],
   "source": [
    "sample_train_averages['user'] = get_average_ratings(sample_train_sparse_matrix, of_users=True)\n",
    "print('\\nAverage rating of user 1515220 :',sample_train_averages['user'][1515220])"
   ]
  },
  {
   "cell_type": "markdown",
   "metadata": {
    "colab_type": "text",
    "id": "qiVaPz6AxrqV"
   },
   "source": [
    "<h3>4.2.3 Finding Average rating per Movie</h3>"
   ]
  },
  {
   "cell_type": "code",
   "execution_count": 17,
   "metadata": {
    "colab": {},
    "colab_type": "code",
    "id": "q8QD09k4xrqV",
    "outputId": "2b01a6e0-6a5e-4c90-d7f3-98c75cf14c3b",
    "scrolled": true
   },
   "outputs": [
    {
     "name": "stdout",
     "output_type": "stream",
     "text": [
      "\n",
      " AVerage rating of movie 15153 : 2.752\n"
     ]
    }
   ],
   "source": [
    "sample_train_averages['movie'] =  get_average_ratings(sample_train_sparse_matrix, of_users=False)\n",
    "print('\\n AVerage rating of movie 15153 :',sample_train_averages['movie'][15153])"
   ]
  },
  {
   "cell_type": "markdown",
   "metadata": {
    "colab_type": "text",
    "id": "JLZervrkxrqZ"
   },
   "source": [
    " "
   ]
  },
  {
   "cell_type": "markdown",
   "metadata": {
    "colab_type": "text",
    "id": "xVwLprg-xrqZ"
   },
   "source": [
    "<h2> 4.3 Featurizing data </h2>"
   ]
  },
  {
   "cell_type": "code",
   "execution_count": 18,
   "metadata": {
    "colab": {},
    "colab_type": "code",
    "id": "E85auQgixrqZ",
    "outputId": "c4644c9c-1397-46ea-ddea-59641694ca9e"
   },
   "outputs": [
    {
     "name": "stdout",
     "output_type": "stream",
     "text": [
      "\n",
      " No of ratings in Our Sampled train matrix is : 856986\n",
      "\n",
      "\n",
      " No of ratings in Our Sampled test  matrix is : 7333\n",
      "\n"
     ]
    }
   ],
   "source": [
    "print('\\n No of ratings in Our Sampled train matrix is : {}\\n'.format(sample_train_sparse_matrix.count_nonzero()))\n",
    "print('\\n No of ratings in Our Sampled test  matrix is : {}\\n'.format(sample_test_sparse_matrix.count_nonzero()))"
   ]
  },
  {
   "cell_type": "markdown",
   "metadata": {
    "colab_type": "text",
    "id": "GZ7FYSibxrqc"
   },
   "source": [
    "<h3> 4.3.1 Featurizing data for regression problem </h3>"
   ]
  },
  {
   "cell_type": "markdown",
   "metadata": {
    "colab_type": "text",
    "id": "7ZMRQApaxrqc"
   },
   "source": [
    "<h4> 4.3.1.1 Featurizing train data </h4>"
   ]
  },
  {
   "cell_type": "code",
   "execution_count": 19,
   "metadata": {
    "colab": {},
    "colab_type": "code",
    "id": "jMTXqVR3xrqd"
   },
   "outputs": [],
   "source": [
    "# get users, movies and ratings from our samples train sparse matrix\n",
    "sample_train_users, sample_train_movies, sample_train_ratings = sparse.find(sample_train_sparse_matrix)"
   ]
  },
  {
   "cell_type": "code",
   "execution_count": 20,
   "metadata": {
    "colab": {},
    "colab_type": "code",
    "id": "Hr_gXr0ixrqh",
    "outputId": "51abb095-433c-4404-be97-bbe8311b02f4",
    "scrolled": true
   },
   "outputs": [
    {
     "name": "stdout",
     "output_type": "stream",
     "text": [
      "File already exists you don't have to prepare again...\n",
      "0:00:00.000489\n"
     ]
    }
   ],
   "source": [
    "############################################################\n",
    "# It took me almost 10 hours to prepare this train dataset.#\n",
    "############################################################\n",
    "start = datetime.now()\n",
    "if os.path.isfile('sample/small/reg_train.csv'):\n",
    "    print(\"File already exists you don't have to prepare again...\" )\n",
    "else:\n",
    "    print('preparing {} tuples for the dataset..\\n'.format(len(sample_train_ratings)))\n",
    "    with open('sample/small/reg_train.csv', mode='w') as reg_data_file:\n",
    "        count = 0\n",
    "        for (user, movie, rating)  in zip(sample_train_users, sample_train_movies, sample_train_ratings):\n",
    "            st = datetime.now()\n",
    "        #     print(user, movie)    \n",
    "            #--------------------- Ratings of \"movie\" by similar users of \"user\" ---------------------\n",
    "            # compute the sim`ilar Users of the \"user\"        \n",
    "            user_sim = cosine_similarity(sample_train_sparse_matrix[user], sample_train_sparse_matrix).ravel()\n",
    "            top_sim_users = user_sim.argsort()[::-1][1:] # we are ignoring 'The User' from its similar users.\n",
    "            # get the ratings of most similar users for this movie\n",
    "            top_ratings = sample_train_sparse_matrix[top_sim_users, movie].toarray().ravel()\n",
    "            # we will make it's length \"5\" by adding movie averages to .\n",
    "            top_sim_users_ratings = list(top_ratings[top_ratings != 0][:5])\n",
    "            top_sim_users_ratings.extend([sample_train_averages['movie'][movie]]*(5 - len(top_sim_users_ratings)))\n",
    "        #     print(top_sim_users_ratings, end=\" \")    \n",
    "\n",
    "\n",
    "            #--------------------- Ratings by \"user\"  to similar movies of \"movie\" ---------------------\n",
    "            # compute the similar movies of the \"movie\"        \n",
    "            movie_sim = cosine_similarity(sample_train_sparse_matrix[:,movie].T, sample_train_sparse_matrix.T).ravel()\n",
    "            top_sim_movies = movie_sim.argsort()[::-1][1:] # we are ignoring 'The User' from its similar users.\n",
    "            # get the ratings of most similar movie rated by this user..\n",
    "            top_ratings = sample_train_sparse_matrix[user, top_sim_movies].toarray().ravel()\n",
    "            # we will make it's length \"5\" by adding user averages to.\n",
    "            top_sim_movies_ratings = list(top_ratings[top_ratings != 0][:5])\n",
    "            top_sim_movies_ratings.extend([sample_train_averages['user'][user]]*(5-len(top_sim_movies_ratings))) \n",
    "        #     print(top_sim_movies_ratings, end=\" : -- \")\n",
    "\n",
    "            #-----------------prepare the row to be stores in a file-----------------#\n",
    "            row = list()\n",
    "            row.append(user)\n",
    "            row.append(movie)\n",
    "            # Now add the other features to this data...\n",
    "            row.append(sample_train_averages['global']) # first feature\n",
    "            # next 5 features are similar_users \"movie\" ratings\n",
    "            row.extend(top_sim_users_ratings)\n",
    "            # next 5 features are \"user\" ratings for similar_movies\n",
    "            row.extend(top_sim_movies_ratings)\n",
    "            # Avg_user rating\n",
    "            row.append(sample_train_averages['user'][user])\n",
    "            # Avg_movie rating\n",
    "            row.append(sample_train_averages['movie'][movie])\n",
    "\n",
    "            # finalley, The actual Rating of this user-movie pair...\n",
    "            row.append(rating)\n",
    "            count = count + 1\n",
    "\n",
    "            # add rows to the file opened..\n",
    "            reg_data_file.write(','.join(map(str, row)))\n",
    "            reg_data_file.write('\\n')        \n",
    "            if (count)%10000 == 0:\n",
    "                # print(','.join(map(str, row)))\n",
    "                print(\"Done for {} rows----- {}\".format(count, datetime.now() - start))\n",
    "\n",
    "\n",
    "print(datetime.now() - start)"
   ]
  },
  {
   "cell_type": "markdown",
   "metadata": {
    "colab_type": "text",
    "id": "k3xJ8aWyxrqj"
   },
   "source": [
    "__Reading from the file to make a Train_dataframe__"
   ]
  },
  {
   "cell_type": "code",
   "execution_count": 21,
   "metadata": {
    "colab": {},
    "colab_type": "code",
    "id": "oUs6s6AZxrqj",
    "outputId": "b19997be-2750-4ab7-bd92-8cd23ea2a64e"
   },
   "outputs": [
    {
     "data": {
      "text/html": [
       "<div>\n",
       "<style scoped>\n",
       "    .dataframe tbody tr th:only-of-type {\n",
       "        vertical-align: middle;\n",
       "    }\n",
       "\n",
       "    .dataframe tbody tr th {\n",
       "        vertical-align: top;\n",
       "    }\n",
       "\n",
       "    .dataframe thead th {\n",
       "        text-align: right;\n",
       "    }\n",
       "</style>\n",
       "<table border=\"1\" class=\"dataframe\">\n",
       "  <thead>\n",
       "    <tr style=\"text-align: right;\">\n",
       "      <th></th>\n",
       "      <th>user</th>\n",
       "      <th>movie</th>\n",
       "      <th>GAvg</th>\n",
       "      <th>sur1</th>\n",
       "      <th>sur2</th>\n",
       "      <th>sur3</th>\n",
       "      <th>sur4</th>\n",
       "      <th>sur5</th>\n",
       "      <th>smr1</th>\n",
       "      <th>smr2</th>\n",
       "      <th>smr3</th>\n",
       "      <th>smr4</th>\n",
       "      <th>smr5</th>\n",
       "      <th>UAvg</th>\n",
       "      <th>MAvg</th>\n",
       "      <th>rating</th>\n",
       "    </tr>\n",
       "  </thead>\n",
       "  <tbody>\n",
       "    <tr>\n",
       "      <th>0</th>\n",
       "      <td>174683</td>\n",
       "      <td>10</td>\n",
       "      <td>3.587581</td>\n",
       "      <td>5.0</td>\n",
       "      <td>5.0</td>\n",
       "      <td>3.0</td>\n",
       "      <td>4.0</td>\n",
       "      <td>4.0</td>\n",
       "      <td>3.0</td>\n",
       "      <td>5.0</td>\n",
       "      <td>4.0</td>\n",
       "      <td>3.0</td>\n",
       "      <td>2.0</td>\n",
       "      <td>3.882353</td>\n",
       "      <td>3.611111</td>\n",
       "      <td>5</td>\n",
       "    </tr>\n",
       "    <tr>\n",
       "      <th>1</th>\n",
       "      <td>233949</td>\n",
       "      <td>10</td>\n",
       "      <td>3.587581</td>\n",
       "      <td>4.0</td>\n",
       "      <td>4.0</td>\n",
       "      <td>5.0</td>\n",
       "      <td>1.0</td>\n",
       "      <td>3.0</td>\n",
       "      <td>2.0</td>\n",
       "      <td>3.0</td>\n",
       "      <td>2.0</td>\n",
       "      <td>3.0</td>\n",
       "      <td>3.0</td>\n",
       "      <td>2.692308</td>\n",
       "      <td>3.611111</td>\n",
       "      <td>3</td>\n",
       "    </tr>\n",
       "    <tr>\n",
       "      <th>2</th>\n",
       "      <td>555770</td>\n",
       "      <td>10</td>\n",
       "      <td>3.587581</td>\n",
       "      <td>4.0</td>\n",
       "      <td>5.0</td>\n",
       "      <td>4.0</td>\n",
       "      <td>4.0</td>\n",
       "      <td>5.0</td>\n",
       "      <td>4.0</td>\n",
       "      <td>2.0</td>\n",
       "      <td>5.0</td>\n",
       "      <td>4.0</td>\n",
       "      <td>4.0</td>\n",
       "      <td>3.795455</td>\n",
       "      <td>3.611111</td>\n",
       "      <td>4</td>\n",
       "    </tr>\n",
       "    <tr>\n",
       "      <th>3</th>\n",
       "      <td>767518</td>\n",
       "      <td>10</td>\n",
       "      <td>3.587581</td>\n",
       "      <td>2.0</td>\n",
       "      <td>5.0</td>\n",
       "      <td>4.0</td>\n",
       "      <td>4.0</td>\n",
       "      <td>3.0</td>\n",
       "      <td>5.0</td>\n",
       "      <td>5.0</td>\n",
       "      <td>4.0</td>\n",
       "      <td>4.0</td>\n",
       "      <td>3.0</td>\n",
       "      <td>3.884615</td>\n",
       "      <td>3.611111</td>\n",
       "      <td>5</td>\n",
       "    </tr>\n",
       "    <tr>\n",
       "      <th>4</th>\n",
       "      <td>894393</td>\n",
       "      <td>10</td>\n",
       "      <td>3.587581</td>\n",
       "      <td>3.0</td>\n",
       "      <td>5.0</td>\n",
       "      <td>4.0</td>\n",
       "      <td>4.0</td>\n",
       "      <td>3.0</td>\n",
       "      <td>4.0</td>\n",
       "      <td>4.0</td>\n",
       "      <td>4.0</td>\n",
       "      <td>4.0</td>\n",
       "      <td>4.0</td>\n",
       "      <td>4.000000</td>\n",
       "      <td>3.611111</td>\n",
       "      <td>4</td>\n",
       "    </tr>\n",
       "  </tbody>\n",
       "</table>\n",
       "</div>"
      ],
      "text/plain": [
       "     user  movie      GAvg  sur1  sur2  sur3  sur4  sur5  smr1  smr2  smr3  \\\n",
       "0  174683     10  3.587581   5.0   5.0   3.0   4.0   4.0   3.0   5.0   4.0   \n",
       "1  233949     10  3.587581   4.0   4.0   5.0   1.0   3.0   2.0   3.0   2.0   \n",
       "2  555770     10  3.587581   4.0   5.0   4.0   4.0   5.0   4.0   2.0   5.0   \n",
       "3  767518     10  3.587581   2.0   5.0   4.0   4.0   3.0   5.0   5.0   4.0   \n",
       "4  894393     10  3.587581   3.0   5.0   4.0   4.0   3.0   4.0   4.0   4.0   \n",
       "\n",
       "   smr4  smr5      UAvg      MAvg  rating  \n",
       "0   3.0   2.0  3.882353  3.611111       5  \n",
       "1   3.0   3.0  2.692308  3.611111       3  \n",
       "2   4.0   4.0  3.795455  3.611111       4  \n",
       "3   4.0   3.0  3.884615  3.611111       5  \n",
       "4   4.0   4.0  4.000000  3.611111       4  "
      ]
     },
     "execution_count": 21,
     "metadata": {},
     "output_type": "execute_result"
    }
   ],
   "source": [
    "reg_train = pd.read_csv('sample/small/reg_train.csv', names = ['user', 'movie', 'GAvg', 'sur1', 'sur2', 'sur3', 'sur4', 'sur5','smr1', 'smr2', 'smr3', 'smr4', 'smr5', 'UAvg', 'MAvg', 'rating'], header=None)\n",
    "reg_train.head()"
   ]
  },
  {
   "cell_type": "markdown",
   "metadata": {
    "colab_type": "text",
    "id": "kW-WflXTxrqm"
   },
   "source": [
    " "
   ]
  },
  {
   "cell_type": "markdown",
   "metadata": {
    "colab_type": "text",
    "id": "r9vMR-Edxrqm"
   },
   "source": [
    "<h4> 4.3.1.2 Featurizing test data </h4>"
   ]
  },
  {
   "cell_type": "code",
   "execution_count": 22,
   "metadata": {
    "colab": {},
    "colab_type": "code",
    "id": "M2QBhCcMxrqm"
   },
   "outputs": [],
   "source": [
    "# get users, movies and ratings from the Sampled Test \n",
    "sample_test_users, sample_test_movies, sample_test_ratings = sparse.find(sample_test_sparse_matrix)"
   ]
  },
  {
   "cell_type": "code",
   "execution_count": 23,
   "metadata": {
    "colab": {},
    "colab_type": "code",
    "id": "nDL4-uKcxrqo",
    "outputId": "bcb3bc92-eaee-4d85-a547-56a6de5ae9fd",
    "scrolled": true
   },
   "outputs": [
    {
     "data": {
      "text/plain": [
       "3.5875813607223455"
      ]
     },
     "execution_count": 23,
     "metadata": {},
     "output_type": "execute_result"
    }
   ],
   "source": [
    "sample_train_averages['global']"
   ]
  },
  {
   "cell_type": "code",
   "execution_count": 28,
   "metadata": {
    "colab": {},
    "colab_type": "code",
    "id": "CLVejZA3xrqs",
    "outputId": "767f43c5-ad21-43db-c636-4bc220000fa2"
   },
   "outputs": [
    {
     "name": "stdout",
     "output_type": "stream",
     "text": [
      "It is already created...\n"
     ]
    }
   ],
   "source": [
    "start = datetime.now()\n",
    "\n",
    "if os.path.isfile('sample/small/reg_test.csv'):\n",
    "    print(\"It is already created...\")\n",
    "else:\n",
    "\n",
    "    print('preparing {} tuples for the dataset..\\n'.format(len(sample_test_ratings)))\n",
    "    with open('sample/small/reg_test.csv', mode='w') as reg_data_file:\n",
    "        count = 0 \n",
    "        for (user, movie, rating)  in zip(sample_test_users, sample_test_movies, sample_test_ratings):\n",
    "            st = datetime.now()\n",
    "\n",
    "        #--------------------- Ratings of \"movie\" by similar users of \"user\" ---------------------\n",
    "            #print(user, movie)\n",
    "            try:\n",
    "                # compute the similar Users of the \"user\"        \n",
    "                user_sim = cosine_similarity(sample_train_sparse_matrix[user], sample_train_sparse_matrix).ravel()\n",
    "                top_sim_users = user_sim.argsort()[::-1][1:] # we are ignoring 'The User' from its similar users.\n",
    "                # get the ratings of most similar users for this movie\n",
    "                top_ratings = sample_train_sparse_matrix[top_sim_users, movie].toarray().ravel()\n",
    "                # we will make it's length \"5\" by adding movie averages to .\n",
    "                top_sim_users_ratings = list(top_ratings[top_ratings != 0][:5])\n",
    "                top_sim_users_ratings.extend([sample_train_averages['movie'][movie]]*(5 - len(top_sim_users_ratings)))\n",
    "                # print(top_sim_users_ratings, end=\"--\")\n",
    "\n",
    "            except (IndexError, KeyError):\n",
    "                # It is a new User or new Movie or there are no ratings for given user for top similar movies...\n",
    "                ########## Cold STart Problem ##########\n",
    "                top_sim_users_ratings.extend([sample_train_averages['global']]*(5 - len(top_sim_users_ratings)))\n",
    "                #print(top_sim_users_ratings)\n",
    "            except:\n",
    "                print(user, movie)\n",
    "                # we just want KeyErrors to be resolved. Not every Exception...\n",
    "                raise\n",
    "\n",
    "\n",
    "\n",
    "            #--------------------- Ratings by \"user\"  to similar movies of \"movie\" ---------------------\n",
    "            try:\n",
    "                # compute the similar movies of the \"movie\"        \n",
    "                movie_sim = cosine_similarity(sample_train_sparse_matrix[:,movie].T, sample_train_sparse_matrix.T).ravel()\n",
    "                top_sim_movies = movie_sim.argsort()[::-1][1:] # we are ignoring 'The User' from its similar users.\n",
    "                # get the ratings of most similar movie rated by this user..\n",
    "                top_ratings = sample_train_sparse_matrix[user, top_sim_movies].toarray().ravel()\n",
    "                # we will make it's length \"5\" by adding user averages to.\n",
    "                top_sim_movies_ratings = list(top_ratings[top_ratings != 0][:5])\n",
    "                top_sim_movies_ratings.extend([sample_train_averages['user'][user]]*(5-len(top_sim_movies_ratings))) \n",
    "                #print(top_sim_movies_ratings)\n",
    "            except (IndexError, KeyError):\n",
    "                #print(top_sim_movies_ratings, end=\" : -- \")\n",
    "                top_sim_movies_ratings.extend([sample_train_averages['global']]*(5-len(top_sim_movies_ratings)))\n",
    "                #print(top_sim_movies_ratings)\n",
    "            except :\n",
    "                raise\n",
    "\n",
    "            #-----------------prepare the row to be stores in a file-----------------#\n",
    "            row = list()\n",
    "            # add usser and movie name first\n",
    "            row.append(user)\n",
    "            row.append(movie)\n",
    "            row.append(sample_train_averages['global']) # first feature\n",
    "            #print(row)\n",
    "            # next 5 features are similar_users \"movie\" ratings\n",
    "            row.extend(top_sim_users_ratings)\n",
    "            #print(row)\n",
    "            # next 5 features are \"user\" ratings for similar_movies\n",
    "            row.extend(top_sim_movies_ratings)\n",
    "            #print(row)\n",
    "            # Avg_user rating\n",
    "            try:\n",
    "                row.append(sample_train_averages['user'][user])\n",
    "            except KeyError:\n",
    "                row.append(sample_train_averages['global'])\n",
    "            except:\n",
    "                raise\n",
    "            #print(row)\n",
    "            # Avg_movie rating\n",
    "            try:\n",
    "                row.append(sample_train_averages['movie'][movie])\n",
    "            except KeyError:\n",
    "                row.append(sample_train_averages['global'])\n",
    "            except:\n",
    "                raise\n",
    "            #print(row)\n",
    "            # finalley, The actual Rating of this user-movie pair...\n",
    "            row.append(rating)\n",
    "            #print(row)\n",
    "            count = count + 1\n",
    "\n",
    "            # add rows to the file opened..\n",
    "            reg_data_file.write(','.join(map(str, row)))\n",
    "            #print(','.join(map(str, row)))\n",
    "            reg_data_file.write('\\n')        \n",
    "            if (count)%1000 == 0:\n",
    "                #print(','.join(map(str, row)))\n",
    "                print(\"Done for {} rows----- {}\".format(count, datetime.now() - start))\n",
    "    print(\"\",datetime.now() - start)  "
   ]
  },
  {
   "cell_type": "markdown",
   "metadata": {
    "colab_type": "text",
    "id": "RgiFyKukxrqu"
   },
   "source": [
    "__Reading from the file to make a test dataframe __"
   ]
  },
  {
   "cell_type": "code",
   "execution_count": 29,
   "metadata": {
    "colab": {},
    "colab_type": "code",
    "id": "7mhv5Rztxrqv",
    "outputId": "21381d8c-b5da-499d-a1b2-9052b78f2549"
   },
   "outputs": [
    {
     "data": {
      "text/html": [
       "<div>\n",
       "<style scoped>\n",
       "    .dataframe tbody tr th:only-of-type {\n",
       "        vertical-align: middle;\n",
       "    }\n",
       "\n",
       "    .dataframe tbody tr th {\n",
       "        vertical-align: top;\n",
       "    }\n",
       "\n",
       "    .dataframe thead th {\n",
       "        text-align: right;\n",
       "    }\n",
       "</style>\n",
       "<table border=\"1\" class=\"dataframe\">\n",
       "  <thead>\n",
       "    <tr style=\"text-align: right;\">\n",
       "      <th></th>\n",
       "      <th>user</th>\n",
       "      <th>movie</th>\n",
       "      <th>GAvg</th>\n",
       "      <th>sur1</th>\n",
       "      <th>sur2</th>\n",
       "      <th>sur3</th>\n",
       "      <th>sur4</th>\n",
       "      <th>sur5</th>\n",
       "      <th>smr1</th>\n",
       "      <th>smr2</th>\n",
       "      <th>smr3</th>\n",
       "      <th>smr4</th>\n",
       "      <th>smr5</th>\n",
       "      <th>UAvg</th>\n",
       "      <th>MAvg</th>\n",
       "      <th>rating</th>\n",
       "    </tr>\n",
       "  </thead>\n",
       "  <tbody>\n",
       "    <tr>\n",
       "      <th>0</th>\n",
       "      <td>808635</td>\n",
       "      <td>71</td>\n",
       "      <td>3.587581</td>\n",
       "      <td>3.587581</td>\n",
       "      <td>3.587581</td>\n",
       "      <td>3.587581</td>\n",
       "      <td>3.587581</td>\n",
       "      <td>3.587581</td>\n",
       "      <td>3.587581</td>\n",
       "      <td>3.587581</td>\n",
       "      <td>3.587581</td>\n",
       "      <td>3.587581</td>\n",
       "      <td>3.587581</td>\n",
       "      <td>3.587581</td>\n",
       "      <td>3.587581</td>\n",
       "      <td>5</td>\n",
       "    </tr>\n",
       "    <tr>\n",
       "      <th>1</th>\n",
       "      <td>941866</td>\n",
       "      <td>71</td>\n",
       "      <td>3.587581</td>\n",
       "      <td>3.587581</td>\n",
       "      <td>3.587581</td>\n",
       "      <td>3.587581</td>\n",
       "      <td>3.587581</td>\n",
       "      <td>3.587581</td>\n",
       "      <td>3.587581</td>\n",
       "      <td>3.587581</td>\n",
       "      <td>3.587581</td>\n",
       "      <td>3.587581</td>\n",
       "      <td>3.587581</td>\n",
       "      <td>3.587581</td>\n",
       "      <td>3.587581</td>\n",
       "      <td>4</td>\n",
       "    </tr>\n",
       "    <tr>\n",
       "      <th>2</th>\n",
       "      <td>1737912</td>\n",
       "      <td>71</td>\n",
       "      <td>3.587581</td>\n",
       "      <td>3.587581</td>\n",
       "      <td>3.587581</td>\n",
       "      <td>3.587581</td>\n",
       "      <td>3.587581</td>\n",
       "      <td>3.587581</td>\n",
       "      <td>3.587581</td>\n",
       "      <td>3.587581</td>\n",
       "      <td>3.587581</td>\n",
       "      <td>3.587581</td>\n",
       "      <td>3.587581</td>\n",
       "      <td>3.587581</td>\n",
       "      <td>3.587581</td>\n",
       "      <td>3</td>\n",
       "    </tr>\n",
       "    <tr>\n",
       "      <th>3</th>\n",
       "      <td>1849204</td>\n",
       "      <td>71</td>\n",
       "      <td>3.587581</td>\n",
       "      <td>3.587581</td>\n",
       "      <td>3.587581</td>\n",
       "      <td>3.587581</td>\n",
       "      <td>3.587581</td>\n",
       "      <td>3.587581</td>\n",
       "      <td>3.587581</td>\n",
       "      <td>3.587581</td>\n",
       "      <td>3.587581</td>\n",
       "      <td>3.587581</td>\n",
       "      <td>3.587581</td>\n",
       "      <td>3.587581</td>\n",
       "      <td>3.587581</td>\n",
       "      <td>4</td>\n",
       "    </tr>\n",
       "  </tbody>\n",
       "</table>\n",
       "</div>"
      ],
      "text/plain": [
       "      user  movie      GAvg      sur1      sur2      sur3      sur4      sur5  \\\n",
       "0   808635     71  3.587581  3.587581  3.587581  3.587581  3.587581  3.587581   \n",
       "1   941866     71  3.587581  3.587581  3.587581  3.587581  3.587581  3.587581   \n",
       "2  1737912     71  3.587581  3.587581  3.587581  3.587581  3.587581  3.587581   \n",
       "3  1849204     71  3.587581  3.587581  3.587581  3.587581  3.587581  3.587581   \n",
       "\n",
       "       smr1      smr2      smr3      smr4      smr5      UAvg      MAvg  \\\n",
       "0  3.587581  3.587581  3.587581  3.587581  3.587581  3.587581  3.587581   \n",
       "1  3.587581  3.587581  3.587581  3.587581  3.587581  3.587581  3.587581   \n",
       "2  3.587581  3.587581  3.587581  3.587581  3.587581  3.587581  3.587581   \n",
       "3  3.587581  3.587581  3.587581  3.587581  3.587581  3.587581  3.587581   \n",
       "\n",
       "   rating  \n",
       "0       5  \n",
       "1       4  \n",
       "2       3  \n",
       "3       4  "
      ]
     },
     "execution_count": 29,
     "metadata": {},
     "output_type": "execute_result"
    }
   ],
   "source": [
    "reg_test_df = pd.read_csv('sample/small/reg_test.csv', names = ['user', 'movie', 'GAvg', 'sur1', 'sur2', 'sur3', 'sur4', 'sur5',\n",
    "                                                          'smr1', 'smr2', 'smr3', 'smr4', 'smr5',\n",
    "                                                          'UAvg', 'MAvg', 'rating'], header=None)\n",
    "reg_test_df.head(4)"
   ]
  },
  {
   "cell_type": "markdown",
   "metadata": {
    "colab_type": "text",
    "id": "QM1iX_xyxrqx"
   },
   "source": [
    " "
   ]
  },
  {
   "cell_type": "markdown",
   "metadata": {
    "colab_type": "text",
    "id": "tLaiV_tZxrqy"
   },
   "source": [
    "<h3> 4.3.2 Transforming data for Surprise models</h3>"
   ]
  },
  {
   "cell_type": "code",
   "execution_count": 30,
   "metadata": {
    "colab": {},
    "colab_type": "code",
    "id": "2d2vQJ5lxrqy"
   },
   "outputs": [],
   "source": [
    "from surprise import Reader, Dataset\n",
    "from sklearn.model_selection import RandomizedSearchCV\n",
    "import warnings\n",
    "warnings.filterwarnings(\"ignore\")"
   ]
  },
  {
   "cell_type": "code",
   "execution_count": 31,
   "metadata": {
    "colab": {},
    "colab_type": "code",
    "id": "z9TA98dwxrq1"
   },
   "outputs": [],
   "source": [
    "# It is to specify how to read the dataframe.\n",
    "# for our dataframe, we don't have to specify anything extra..\n",
    "reader = Reader(rating_scale=(1,5))\n",
    "\n",
    "# create the traindata from the dataframe...\n",
    "train_data = Dataset.load_from_df(reg_train[['user', 'movie', 'rating']], reader)\n",
    "\n",
    "# build the trainset from traindata.., It is of dataset format from surprise library..\n",
    "trainset = train_data.build_full_trainset() "
   ]
  },
  {
   "cell_type": "markdown",
   "metadata": {
    "colab_type": "text",
    "id": "6OTXxLz-xrq2"
   },
   "source": [
    "<h4> 4.3.2.2 Transforming test data </h4>"
   ]
  },
  {
   "cell_type": "markdown",
   "metadata": {
    "colab_type": "text",
    "id": "iwKbEi_uxrq2"
   },
   "source": [
    "- Testset is just a list of (user, movie, rating) tuples. (Order in the tuple is impotant) "
   ]
  },
  {
   "cell_type": "code",
   "execution_count": 32,
   "metadata": {
    "colab": {},
    "colab_type": "code",
    "id": "v3jqrt6lxrq2",
    "outputId": "49c6a44b-919e-4463-fd98-51d67647da44"
   },
   "outputs": [
    {
     "data": {
      "text/plain": [
       "[(808635, 71, 5), (941866, 71, 4), (1737912, 71, 3)]"
      ]
     },
     "execution_count": 32,
     "metadata": {},
     "output_type": "execute_result"
    }
   ],
   "source": [
    "testset = list(zip(reg_test_df.user.values, reg_test_df.movie.values, reg_test_df.rating.values))\n",
    "testset[:3]"
   ]
  },
  {
   "cell_type": "markdown",
   "metadata": {
    "colab_type": "text",
    "id": "ZzgDaBL_xrq8"
   },
   "source": [
    "<h2> 4.4 Applying Machine Learning models </h2>"
   ]
  },
  {
   "cell_type": "markdown",
   "metadata": {
    "colab_type": "text",
    "id": "gbgKluZ8xrq9"
   },
   "source": [
    " "
   ]
  },
  {
   "cell_type": "code",
   "execution_count": 33,
   "metadata": {
    "colab": {},
    "colab_type": "code",
    "id": "9sKjPQMExrq9",
    "outputId": "4813287c-b810-4f5e-87b2-8917d75c28ca"
   },
   "outputs": [
    {
     "data": {
      "text/plain": [
       "({}, {})"
      ]
     },
     "execution_count": 33,
     "metadata": {},
     "output_type": "execute_result"
    }
   ],
   "source": [
    "models_evaluation_train = dict()\n",
    "models_evaluation_test = dict()\n",
    "\n",
    "models_evaluation_train, models_evaluation_test"
   ]
  },
  {
   "cell_type": "markdown",
   "metadata": {
    "colab_type": "text",
    "id": "Ca6rt6ZixrrA"
   },
   "source": [
    " "
   ]
  },
  {
   "cell_type": "markdown",
   "metadata": {
    "colab_type": "text",
    "id": "Cg4ii0eRxrrB"
   },
   "source": [
    " > __Utility functions for running regression models__"
   ]
  },
  {
   "cell_type": "code",
   "execution_count": 34,
   "metadata": {
    "colab": {},
    "colab_type": "code",
    "id": "6h_z36v6xrrE"
   },
   "outputs": [],
   "source": [
    "# to get rmse and mape given actual and predicted ratings..\n",
    "def get_error_metrics(y_true, y_pred):\n",
    "    rmse = np.sqrt(np.mean([ (y_true[i] - y_pred[i])**2 for i in range(len(y_pred)) ]))\n",
    "    mape = np.mean(np.abs( (y_true - y_pred)/y_true )) * 100\n",
    "    return rmse, mape\n",
    "\n",
    "###################################################################\n",
    "###################################################################\n",
    "def run_xgboost(algo,  x_train, y_train, x_test, y_test, verbose=True):\n",
    "    \"\"\"\n",
    "    It will return train_results and test_results\n",
    "    \"\"\"\n",
    "    \n",
    "    # dictionaries for storing train and test results\n",
    "    train_results = dict()\n",
    "    test_results = dict()\n",
    "    \n",
    "    \n",
    "    # fit the model\n",
    "    print('Training the model..')\n",
    "    start =datetime.now()\n",
    "    algo.fit(x_train, y_train, eval_metric = 'rmse')\n",
    "    print('Done. Time taken : {}\\n'.format(datetime.now()-start))\n",
    "    print('Done \\n')\n",
    "\n",
    "    # from the trained model, get the predictions....\n",
    "    print('Evaluating the model with TRAIN data...')\n",
    "    start =datetime.now()\n",
    "    y_train_pred = algo.predict(x_train)\n",
    "    # get the rmse and mape of train data...\n",
    "    rmse_train, mape_train = get_error_metrics(y_train.values, y_train_pred)\n",
    "    \n",
    "    # store the results in train_results dictionary..\n",
    "    train_results = {'rmse': rmse_train,\n",
    "                    'mape' : mape_train,\n",
    "                    'predictions' : y_train_pred}\n",
    "    \n",
    "    #######################################\n",
    "    # get the test data predictions and compute rmse and mape\n",
    "    print('Evaluating Test data')\n",
    "    y_test_pred = algo.predict(x_test) \n",
    "    rmse_test, mape_test = get_error_metrics(y_true=y_test.values, y_pred=y_test_pred)\n",
    "    # store them in our test results dictionary.\n",
    "    test_results = {'rmse': rmse_test,\n",
    "                    'mape' : mape_test,\n",
    "                    'predictions':y_test_pred}\n",
    "    if verbose:\n",
    "        print('\\nTEST DATA')\n",
    "        print('-'*30)\n",
    "        print('RMSE : ', rmse_test)\n",
    "        print('MAPE : ', mape_test)\n",
    "        \n",
    "    # return these train and test results...\n",
    "    return train_results, test_results\n",
    "    "
   ]
  },
  {
   "cell_type": "code",
   "execution_count": 35,
   "metadata": {},
   "outputs": [],
   "source": [
    "def hyperparametertune_xgboost(x_train, y_train):   \n",
    "    x_cfl=xgb.XGBRegressor()\n",
    "    params={\n",
    "         'n_estimators':[100,200,500],\n",
    "         'max_depth':[3,5,10]\n",
    "    }\n",
    "    random_cfl=GridSearchCV(x_cfl,param_grid=params,verbose=10,n_jobs=-1,)\n",
    "    random_cfl.fit(x_train ,y_train)\n",
    "    best_n_estimators = random_cfl.best_params_['n_estimators']\n",
    "    best_max_depth = random_cfl.best_params_['max_depth']\n",
    "    return best_n_estimators,best_max_depth\n"
   ]
  },
  {
   "cell_type": "markdown",
   "metadata": {
    "colab_type": "text",
    "id": "eABdBWP_xrrF"
   },
   "source": [
    "> __Utility functions for Surprise modes__"
   ]
  },
  {
   "cell_type": "code",
   "execution_count": 36,
   "metadata": {
    "colab": {},
    "colab_type": "code",
    "id": "b9B1gLPvxrrG"
   },
   "outputs": [],
   "source": [
    "# it is just to makesure that all of our algorithms should produce same results\n",
    "# everytime they run...\n",
    "\n",
    "my_seed = 15\n",
    "random.seed(my_seed)\n",
    "np.random.seed(my_seed)\n",
    "\n",
    "##########################################################\n",
    "# get  (actual_list , predicted_list) ratings given list \n",
    "# of predictions (prediction is a class in Surprise).    \n",
    "##########################################################\n",
    "def get_ratings(predictions):\n",
    "    actual = np.array([pred.r_ui for pred in predictions])\n",
    "    pred = np.array([pred.est for pred in predictions])\n",
    "    \n",
    "    return actual, pred\n",
    "\n",
    "################################################################\n",
    "# get ''rmse'' and ''mape'' , given list of prediction objecs \n",
    "################################################################\n",
    "def get_errors(predictions, print_them=False):\n",
    "\n",
    "    actual, pred = get_ratings(predictions)\n",
    "    rmse = np.sqrt(np.mean((pred - actual)**2))\n",
    "    mape = np.mean(np.abs(pred - actual)/actual)\n",
    "\n",
    "    return rmse, mape*100\n",
    "\n",
    "##################################################################################\n",
    "# It will return predicted ratings, rmse and mape of both train and test data   #\n",
    "##################################################################################\n",
    "def run_surprise(algo, trainset, testset, verbose=True): \n",
    "    '''\n",
    "        return train_dict, test_dict\n",
    "    \n",
    "        It returns two dictionaries, one for train and the other is for test\n",
    "        Each of them have 3 key-value pairs, which specify ''rmse'', ''mape'', and ''predicted ratings''.\n",
    "    '''\n",
    "    start = datetime.now()\n",
    "    # dictionaries that stores metrics for train and test..\n",
    "    train = dict()\n",
    "    test = dict()\n",
    "    \n",
    "    # train the algorithm with the trainset\n",
    "    st = datetime.now()\n",
    "    print('Training the model...')\n",
    "    algo.fit(trainset)\n",
    "    print('Done. time taken : {} \\n'.format(datetime.now()-st))\n",
    "    \n",
    "    # ---------------- Evaluating train data--------------------#\n",
    "    st = datetime.now()\n",
    "    print('Evaluating the model with train data..')\n",
    "    # get the train predictions (list of prediction class inside Surprise)\n",
    "    train_preds = algo.test(trainset.build_testset())\n",
    "    # get predicted ratings from the train predictions..\n",
    "    train_actual_ratings, train_pred_ratings = get_ratings(train_preds)\n",
    "    # get ''rmse'' and ''mape'' from the train predictions.\n",
    "    train_rmse, train_mape = get_errors(train_preds)\n",
    "    print('time taken : {}'.format(datetime.now()-st))\n",
    "    \n",
    "    if verbose:\n",
    "        print('-'*15)\n",
    "        print('Train Data')\n",
    "        print('-'*15)\n",
    "        print(\"RMSE : {}\\n\\nMAPE : {}\\n\".format(train_rmse, train_mape))\n",
    "    \n",
    "    #store them in the train dictionary\n",
    "    if verbose:\n",
    "        print('adding train results in the dictionary..')\n",
    "    train['rmse'] = train_rmse\n",
    "    train['mape'] = train_mape\n",
    "    train['predictions'] = train_pred_ratings\n",
    "    \n",
    "    #------------ Evaluating Test data---------------#\n",
    "    st = datetime.now()\n",
    "    print('\\nEvaluating for test data...')\n",
    "    # get the predictions( list of prediction classes) of test data\n",
    "    test_preds = algo.test(testset)\n",
    "    # get the predicted ratings from the list of predictions\n",
    "    test_actual_ratings, test_pred_ratings = get_ratings(test_preds)\n",
    "    # get error metrics from the predicted and actual ratings\n",
    "    test_rmse, test_mape = get_errors(test_preds)\n",
    "    print('time taken : {}'.format(datetime.now()-st))\n",
    "    \n",
    "    if verbose:\n",
    "        print('-'*15)\n",
    "        print('Test Data')\n",
    "        print('-'*15)\n",
    "        print(\"RMSE : {}\\n\\nMAPE : {}\\n\".format(test_rmse, test_mape))\n",
    "    # store them in test dictionary\n",
    "    if verbose:\n",
    "        print('storing the test results in test dictionary...')\n",
    "    test['rmse'] = test_rmse\n",
    "    test['mape'] = test_mape\n",
    "    test['predictions'] = test_pred_ratings\n",
    "    \n",
    "    print('\\n'+'-'*45)\n",
    "    print('Total time taken to run this algorithm :', datetime.now() - start)\n",
    "    \n",
    "    # return two dictionaries train and test\n",
    "    return train, test"
   ]
  },
  {
   "cell_type": "markdown",
   "metadata": {
    "colab_type": "text",
    "id": "vlx884YTxrrI"
   },
   "source": [
    " "
   ]
  },
  {
   "cell_type": "markdown",
   "metadata": {
    "colab_type": "text",
    "id": "Jh6CNDb1xrrI"
   },
   "source": [
    "<h3> 4.4.1 XGBoost with initial 13 features </h3>"
   ]
  },
  {
   "cell_type": "code",
   "execution_count": 37,
   "metadata": {
    "colab": {},
    "colab_type": "code",
    "id": "GDMZ35MNxrrJ"
   },
   "outputs": [],
   "source": [
    "import xgboost as xgb\n",
    "from sklearn.model_selection import GridSearchCV"
   ]
  },
  {
   "cell_type": "code",
   "execution_count": 38,
   "metadata": {
    "colab": {},
    "colab_type": "code",
    "id": "DoxUdAnFxrrK",
    "outputId": "e2dc745d-84d8-4468-cba2-6417fc5e6277"
   },
   "outputs": [
    {
     "name": "stdout",
     "output_type": "stream",
     "text": [
      "Fitting 3 folds for each of 9 candidates, totalling 27 fits\n",
      "[CV] max_depth=3, n_estimators=100 ...................................\n",
      "[CV] max_depth=3, n_estimators=100 ...................................\n",
      "[CV] max_depth=3, n_estimators=100 ...................................\n",
      "[CV] max_depth=3, n_estimators=200 ...................................\n",
      "[CV] max_depth=3, n_estimators=200 ...................................\n",
      "[CV] max_depth=3, n_estimators=200 ...................................\n",
      "[CV] max_depth=3, n_estimators=500 ...................................\n",
      "[CV] max_depth=3, n_estimators=500 ...................................\n",
      "[CV] max_depth=3, n_estimators=500 ...................................\n",
      "[CV] max_depth=5, n_estimators=100 ...................................\n",
      "[CV] max_depth=5, n_estimators=100 ...................................\n",
      "[CV] max_depth=5, n_estimators=100 ...................................\n",
      "[CV] max_depth=5, n_estimators=200 ...................................\n",
      "[CV] max_depth=5, n_estimators=200 ...................................\n",
      "[CV] max_depth=5, n_estimators=200 ...................................\n",
      "[CV] max_depth=5, n_estimators=500 ...................................\n",
      "[CV]  max_depth=3, n_estimators=100, score=0.3452202920895766, total= 1.1min\n",
      "[CV] max_depth=5, n_estimators=500 ...................................\n",
      "[CV]  max_depth=3, n_estimators=100, score=0.39085111632268577, total= 1.1min\n",
      "[CV] max_depth=5, n_estimators=500 ...................................\n"
     ]
    },
    {
     "name": "stderr",
     "output_type": "stream",
     "text": [
      "[Parallel(n_jobs=-1)]: Done   2 out of  27 | elapsed:  1.2min remaining: 14.7min\n"
     ]
    },
    {
     "name": "stdout",
     "output_type": "stream",
     "text": [
      "[CV]  max_depth=3, n_estimators=100, score=0.35310704729978093, total= 1.2min\n",
      "[CV] max_depth=10, n_estimators=100 ..................................\n",
      "[CV]  max_depth=5, n_estimators=100, score=0.3470150682726513, total= 1.8min\n",
      "[CV] max_depth=10, n_estimators=100 ..................................\n",
      "[CV]  max_depth=5, n_estimators=100, score=0.3553713161736304, total= 1.8min\n",
      "[CV] max_depth=10, n_estimators=100 ..................................\n"
     ]
    },
    {
     "name": "stderr",
     "output_type": "stream",
     "text": [
      "[Parallel(n_jobs=-1)]: Done   5 out of  27 | elapsed:  1.9min remaining:  8.3min\n"
     ]
    },
    {
     "name": "stdout",
     "output_type": "stream",
     "text": [
      "[CV]  max_depth=5, n_estimators=100, score=0.3935062098529509, total= 1.8min\n",
      "[CV] max_depth=10, n_estimators=200 ..................................\n",
      "[CV]  max_depth=3, n_estimators=200, score=0.3547221598977828, total= 2.0min\n",
      "[CV] max_depth=10, n_estimators=200 ..................................\n",
      "[CV]  max_depth=3, n_estimators=200, score=0.3464722217071253, total= 2.0min\n",
      "[CV] max_depth=10, n_estimators=200 ..................................\n"
     ]
    },
    {
     "name": "stderr",
     "output_type": "stream",
     "text": [
      "[Parallel(n_jobs=-1)]: Done   8 out of  27 | elapsed:  2.1min remaining:  5.1min\n"
     ]
    },
    {
     "name": "stdout",
     "output_type": "stream",
     "text": [
      "[CV]  max_depth=3, n_estimators=200, score=0.3926256623560352, total= 2.1min\n",
      "[CV] max_depth=10, n_estimators=500 ..................................\n",
      "[CV]  max_depth=5, n_estimators=200, score=0.347436606696376, total= 3.1min\n",
      "[CV] max_depth=10, n_estimators=500 ..................................\n",
      "[CV]  max_depth=5, n_estimators=200, score=0.3940198640632676, total= 3.2min\n",
      "[CV] max_depth=10, n_estimators=500 ..................................\n"
     ]
    },
    {
     "name": "stderr",
     "output_type": "stream",
     "text": [
      "[Parallel(n_jobs=-1)]: Done  11 out of  27 | elapsed:  3.4min remaining:  4.9min\n"
     ]
    },
    {
     "name": "stdout",
     "output_type": "stream",
     "text": [
      "[CV]  max_depth=5, n_estimators=200, score=0.35655393312939554, total= 3.2min\n",
      "[CV]  max_depth=3, n_estimators=500, score=0.35630069227152183, total= 4.5min\n",
      "[CV]  max_depth=3, n_estimators=500, score=0.3929248244824451, total= 4.7min\n"
     ]
    },
    {
     "name": "stderr",
     "output_type": "stream",
     "text": [
      "[Parallel(n_jobs=-1)]: Done  14 out of  27 | elapsed:  4.9min remaining:  4.6min\n"
     ]
    },
    {
     "name": "stdout",
     "output_type": "stream",
     "text": [
      "[CV]  max_depth=3, n_estimators=500, score=0.347014193865524, total= 4.9min\n",
      "[CV]  max_depth=10, n_estimators=100, score=0.39159812383946185, total= 3.9min\n",
      "[CV]  max_depth=10, n_estimators=100, score=0.3543453709783404, total= 4.6min\n"
     ]
    },
    {
     "name": "stderr",
     "output_type": "stream",
     "text": [
      "[Parallel(n_jobs=-1)]: Done  17 out of  27 | elapsed:  6.0min remaining:  3.5min\n"
     ]
    },
    {
     "name": "stdout",
     "output_type": "stream",
     "text": [
      "[CV]  max_depth=10, n_estimators=100, score=0.3461718051325742, total= 3.9min\n",
      "[CV]  max_depth=5, n_estimators=500, score=0.35629513287722914, total= 7.2min\n",
      "[CV]  max_depth=5, n_estimators=500, score=0.3927454581806223, total= 6.4min\n"
     ]
    },
    {
     "name": "stderr",
     "output_type": "stream",
     "text": [
      "[Parallel(n_jobs=-1)]: Done  20 out of  27 | elapsed:  7.8min remaining:  2.7min\n"
     ]
    },
    {
     "name": "stdout",
     "output_type": "stream",
     "text": [
      "[CV]  max_depth=10, n_estimators=200, score=0.3510619632993959, total= 6.0min\n",
      "[CV]  max_depth=10, n_estimators=200, score=0.38706603831514486, total= 5.8min\n",
      "[CV]  max_depth=10, n_estimators=200, score=0.34435221573857255, total= 6.2min\n"
     ]
    },
    {
     "name": "stderr",
     "output_type": "stream",
     "text": [
      "[Parallel(n_jobs=-1)]: Done  23 out of  27 | elapsed:  8.6min remaining:  1.5min\n"
     ]
    },
    {
     "name": "stdout",
     "output_type": "stream",
     "text": [
      "[CV]  max_depth=5, n_estimators=500, score=0.34728945197190264, total= 7.2min\n",
      "[CV]  max_depth=10, n_estimators=500, score=0.34412293678287753, total=11.4min\n",
      "[CV]  max_depth=10, n_estimators=500, score=0.3785958767403117, total=10.4min\n",
      "[CV]  max_depth=10, n_estimators=500, score=0.3364836577140401, total=10.5min\n"
     ]
    },
    {
     "name": "stderr",
     "output_type": "stream",
     "text": [
      "[Parallel(n_jobs=-1)]: Done  27 out of  27 | elapsed: 14.6min finished\n"
     ]
    },
    {
     "name": "stdout",
     "output_type": "stream",
     "text": [
      "Training the model..\n",
      "[05:41:06] /workspace/src/tree/updater_prune.cc:74: tree pruning end, 1 roots, 62 extra nodes, 0 pruned nodes, max_depth=5\n",
      "[05:41:07] /workspace/src/tree/updater_prune.cc:74: tree pruning end, 1 roots, 62 extra nodes, 0 pruned nodes, max_depth=5\n",
      "[05:41:07] /workspace/src/tree/updater_prune.cc:74: tree pruning end, 1 roots, 62 extra nodes, 0 pruned nodes, max_depth=5\n",
      "[05:41:07] /workspace/src/tree/updater_prune.cc:74: tree pruning end, 1 roots, 62 extra nodes, 0 pruned nodes, max_depth=5\n",
      "[05:41:07] /workspace/src/tree/updater_prune.cc:74: tree pruning end, 1 roots, 62 extra nodes, 0 pruned nodes, max_depth=5\n",
      "[05:41:07] /workspace/src/tree/updater_prune.cc:74: tree pruning end, 1 roots, 62 extra nodes, 0 pruned nodes, max_depth=5\n",
      "[05:41:07] /workspace/src/tree/updater_prune.cc:74: tree pruning end, 1 roots, 62 extra nodes, 0 pruned nodes, max_depth=5\n",
      "[05:41:07] /workspace/src/tree/updater_prune.cc:74: tree pruning end, 1 roots, 62 extra nodes, 0 pruned nodes, max_depth=5\n",
      "[05:41:08] /workspace/src/tree/updater_prune.cc:74: tree pruning end, 1 roots, 62 extra nodes, 0 pruned nodes, max_depth=5\n",
      "[05:41:08] /workspace/src/tree/updater_prune.cc:74: tree pruning end, 1 roots, 62 extra nodes, 0 pruned nodes, max_depth=5\n",
      "[05:41:08] /workspace/src/tree/updater_prune.cc:74: tree pruning end, 1 roots, 62 extra nodes, 0 pruned nodes, max_depth=5\n",
      "[05:41:08] /workspace/src/tree/updater_prune.cc:74: tree pruning end, 1 roots, 62 extra nodes, 0 pruned nodes, max_depth=5\n",
      "[05:41:08] /workspace/src/tree/updater_prune.cc:74: tree pruning end, 1 roots, 62 extra nodes, 0 pruned nodes, max_depth=5\n",
      "[05:41:08] /workspace/src/tree/updater_prune.cc:74: tree pruning end, 1 roots, 62 extra nodes, 0 pruned nodes, max_depth=5\n",
      "[05:41:08] /workspace/src/tree/updater_prune.cc:74: tree pruning end, 1 roots, 62 extra nodes, 0 pruned nodes, max_depth=5\n",
      "[05:41:08] /workspace/src/tree/updater_prune.cc:74: tree pruning end, 1 roots, 62 extra nodes, 0 pruned nodes, max_depth=5\n",
      "[05:41:09] /workspace/src/tree/updater_prune.cc:74: tree pruning end, 1 roots, 62 extra nodes, 0 pruned nodes, max_depth=5\n",
      "[05:41:09] /workspace/src/tree/updater_prune.cc:74: tree pruning end, 1 roots, 62 extra nodes, 0 pruned nodes, max_depth=5\n",
      "[05:41:09] /workspace/src/tree/updater_prune.cc:74: tree pruning end, 1 roots, 62 extra nodes, 0 pruned nodes, max_depth=5\n",
      "[05:41:09] /workspace/src/tree/updater_prune.cc:74: tree pruning end, 1 roots, 62 extra nodes, 0 pruned nodes, max_depth=5\n",
      "[05:41:09] /workspace/src/tree/updater_prune.cc:74: tree pruning end, 1 roots, 62 extra nodes, 0 pruned nodes, max_depth=5\n",
      "[05:41:09] /workspace/src/tree/updater_prune.cc:74: tree pruning end, 1 roots, 62 extra nodes, 0 pruned nodes, max_depth=5\n",
      "[05:41:09] /workspace/src/tree/updater_prune.cc:74: tree pruning end, 1 roots, 62 extra nodes, 0 pruned nodes, max_depth=5\n",
      "[05:41:09] /workspace/src/tree/updater_prune.cc:74: tree pruning end, 1 roots, 62 extra nodes, 0 pruned nodes, max_depth=5\n",
      "[05:41:10] /workspace/src/tree/updater_prune.cc:74: tree pruning end, 1 roots, 62 extra nodes, 0 pruned nodes, max_depth=5\n",
      "[05:41:10] /workspace/src/tree/updater_prune.cc:74: tree pruning end, 1 roots, 62 extra nodes, 0 pruned nodes, max_depth=5\n",
      "[05:41:10] /workspace/src/tree/updater_prune.cc:74: tree pruning end, 1 roots, 62 extra nodes, 0 pruned nodes, max_depth=5\n",
      "[05:41:10] /workspace/src/tree/updater_prune.cc:74: tree pruning end, 1 roots, 62 extra nodes, 0 pruned nodes, max_depth=5\n",
      "[05:41:10] /workspace/src/tree/updater_prune.cc:74: tree pruning end, 1 roots, 62 extra nodes, 0 pruned nodes, max_depth=5\n",
      "[05:41:10] /workspace/src/tree/updater_prune.cc:74: tree pruning end, 1 roots, 62 extra nodes, 0 pruned nodes, max_depth=5\n",
      "[05:41:10] /workspace/src/tree/updater_prune.cc:74: tree pruning end, 1 roots, 62 extra nodes, 0 pruned nodes, max_depth=5\n",
      "[05:41:10] /workspace/src/tree/updater_prune.cc:74: tree pruning end, 1 roots, 62 extra nodes, 0 pruned nodes, max_depth=5\n",
      "[05:41:11] /workspace/src/tree/updater_prune.cc:74: tree pruning end, 1 roots, 62 extra nodes, 0 pruned nodes, max_depth=5\n",
      "[05:41:11] /workspace/src/tree/updater_prune.cc:74: tree pruning end, 1 roots, 62 extra nodes, 0 pruned nodes, max_depth=5\n",
      "[05:41:11] /workspace/src/tree/updater_prune.cc:74: tree pruning end, 1 roots, 62 extra nodes, 0 pruned nodes, max_depth=5\n",
      "[05:41:11] /workspace/src/tree/updater_prune.cc:74: tree pruning end, 1 roots, 62 extra nodes, 0 pruned nodes, max_depth=5\n",
      "[05:41:11] /workspace/src/tree/updater_prune.cc:74: tree pruning end, 1 roots, 62 extra nodes, 0 pruned nodes, max_depth=5\n",
      "[05:41:11] /workspace/src/tree/updater_prune.cc:74: tree pruning end, 1 roots, 62 extra nodes, 0 pruned nodes, max_depth=5\n",
      "[05:41:11] /workspace/src/tree/updater_prune.cc:74: tree pruning end, 1 roots, 62 extra nodes, 0 pruned nodes, max_depth=5\n",
      "[05:41:11] /workspace/src/tree/updater_prune.cc:74: tree pruning end, 1 roots, 62 extra nodes, 0 pruned nodes, max_depth=5\n",
      "[05:41:12] /workspace/src/tree/updater_prune.cc:74: tree pruning end, 1 roots, 62 extra nodes, 0 pruned nodes, max_depth=5\n",
      "[05:41:12] /workspace/src/tree/updater_prune.cc:74: tree pruning end, 1 roots, 62 extra nodes, 0 pruned nodes, max_depth=5\n",
      "[05:41:12] /workspace/src/tree/updater_prune.cc:74: tree pruning end, 1 roots, 62 extra nodes, 0 pruned nodes, max_depth=5\n",
      "[05:41:12] /workspace/src/tree/updater_prune.cc:74: tree pruning end, 1 roots, 62 extra nodes, 0 pruned nodes, max_depth=5\n",
      "[05:41:12] /workspace/src/tree/updater_prune.cc:74: tree pruning end, 1 roots, 62 extra nodes, 0 pruned nodes, max_depth=5\n",
      "[05:41:12] /workspace/src/tree/updater_prune.cc:74: tree pruning end, 1 roots, 62 extra nodes, 0 pruned nodes, max_depth=5\n",
      "[05:41:12] /workspace/src/tree/updater_prune.cc:74: tree pruning end, 1 roots, 62 extra nodes, 0 pruned nodes, max_depth=5\n",
      "[05:41:12] /workspace/src/tree/updater_prune.cc:74: tree pruning end, 1 roots, 62 extra nodes, 0 pruned nodes, max_depth=5\n",
      "[05:41:13] /workspace/src/tree/updater_prune.cc:74: tree pruning end, 1 roots, 62 extra nodes, 0 pruned nodes, max_depth=5\n",
      "[05:41:13] /workspace/src/tree/updater_prune.cc:74: tree pruning end, 1 roots, 62 extra nodes, 0 pruned nodes, max_depth=5\n",
      "[05:41:13] /workspace/src/tree/updater_prune.cc:74: tree pruning end, 1 roots, 62 extra nodes, 0 pruned nodes, max_depth=5\n",
      "[05:41:13] /workspace/src/tree/updater_prune.cc:74: tree pruning end, 1 roots, 62 extra nodes, 0 pruned nodes, max_depth=5\n",
      "[05:41:13] /workspace/src/tree/updater_prune.cc:74: tree pruning end, 1 roots, 62 extra nodes, 0 pruned nodes, max_depth=5\n",
      "[05:41:13] /workspace/src/tree/updater_prune.cc:74: tree pruning end, 1 roots, 62 extra nodes, 0 pruned nodes, max_depth=5\n",
      "[05:41:13] /workspace/src/tree/updater_prune.cc:74: tree pruning end, 1 roots, 62 extra nodes, 0 pruned nodes, max_depth=5\n",
      "[05:41:13] /workspace/src/tree/updater_prune.cc:74: tree pruning end, 1 roots, 62 extra nodes, 0 pruned nodes, max_depth=5\n",
      "[05:41:14] /workspace/src/tree/updater_prune.cc:74: tree pruning end, 1 roots, 62 extra nodes, 0 pruned nodes, max_depth=5\n",
      "[05:41:14] /workspace/src/tree/updater_prune.cc:74: tree pruning end, 1 roots, 62 extra nodes, 0 pruned nodes, max_depth=5\n",
      "[05:41:14] /workspace/src/tree/updater_prune.cc:74: tree pruning end, 1 roots, 62 extra nodes, 0 pruned nodes, max_depth=5\n",
      "[05:41:14] /workspace/src/tree/updater_prune.cc:74: tree pruning end, 1 roots, 62 extra nodes, 0 pruned nodes, max_depth=5\n",
      "[05:41:14] /workspace/src/tree/updater_prune.cc:74: tree pruning end, 1 roots, 62 extra nodes, 0 pruned nodes, max_depth=5\n",
      "[05:41:14] /workspace/src/tree/updater_prune.cc:74: tree pruning end, 1 roots, 62 extra nodes, 0 pruned nodes, max_depth=5\n",
      "[05:41:14] /workspace/src/tree/updater_prune.cc:74: tree pruning end, 1 roots, 62 extra nodes, 0 pruned nodes, max_depth=5\n",
      "[05:41:14] /workspace/src/tree/updater_prune.cc:74: tree pruning end, 1 roots, 62 extra nodes, 0 pruned nodes, max_depth=5\n",
      "[05:41:14] /workspace/src/tree/updater_prune.cc:74: tree pruning end, 1 roots, 60 extra nodes, 0 pruned nodes, max_depth=5\n",
      "[05:41:15] /workspace/src/tree/updater_prune.cc:74: tree pruning end, 1 roots, 62 extra nodes, 0 pruned nodes, max_depth=5\n",
      "[05:41:15] /workspace/src/tree/updater_prune.cc:74: tree pruning end, 1 roots, 60 extra nodes, 0 pruned nodes, max_depth=5\n",
      "[05:41:15] /workspace/src/tree/updater_prune.cc:74: tree pruning end, 1 roots, 62 extra nodes, 0 pruned nodes, max_depth=5\n"
     ]
    },
    {
     "name": "stdout",
     "output_type": "stream",
     "text": [
      "[05:41:15] /workspace/src/tree/updater_prune.cc:74: tree pruning end, 1 roots, 62 extra nodes, 0 pruned nodes, max_depth=5\n",
      "[05:41:15] /workspace/src/tree/updater_prune.cc:74: tree pruning end, 1 roots, 62 extra nodes, 0 pruned nodes, max_depth=5\n",
      "[05:41:15] /workspace/src/tree/updater_prune.cc:74: tree pruning end, 1 roots, 62 extra nodes, 0 pruned nodes, max_depth=5\n",
      "[05:41:15] /workspace/src/tree/updater_prune.cc:74: tree pruning end, 1 roots, 62 extra nodes, 0 pruned nodes, max_depth=5\n",
      "[05:41:15] /workspace/src/tree/updater_prune.cc:74: tree pruning end, 1 roots, 62 extra nodes, 0 pruned nodes, max_depth=5\n",
      "[05:41:15] /workspace/src/tree/updater_prune.cc:74: tree pruning end, 1 roots, 62 extra nodes, 0 pruned nodes, max_depth=5\n",
      "[05:41:16] /workspace/src/tree/updater_prune.cc:74: tree pruning end, 1 roots, 62 extra nodes, 0 pruned nodes, max_depth=5\n",
      "[05:41:16] /workspace/src/tree/updater_prune.cc:74: tree pruning end, 1 roots, 62 extra nodes, 0 pruned nodes, max_depth=5\n",
      "[05:41:16] /workspace/src/tree/updater_prune.cc:74: tree pruning end, 1 roots, 62 extra nodes, 0 pruned nodes, max_depth=5\n",
      "[05:41:16] /workspace/src/tree/updater_prune.cc:74: tree pruning end, 1 roots, 58 extra nodes, 0 pruned nodes, max_depth=5\n",
      "[05:41:16] /workspace/src/tree/updater_prune.cc:74: tree pruning end, 1 roots, 62 extra nodes, 0 pruned nodes, max_depth=5\n",
      "[05:41:16] /workspace/src/tree/updater_prune.cc:74: tree pruning end, 1 roots, 60 extra nodes, 0 pruned nodes, max_depth=5\n",
      "[05:41:16] /workspace/src/tree/updater_prune.cc:74: tree pruning end, 1 roots, 62 extra nodes, 0 pruned nodes, max_depth=5\n",
      "[05:41:16] /workspace/src/tree/updater_prune.cc:74: tree pruning end, 1 roots, 60 extra nodes, 0 pruned nodes, max_depth=5\n",
      "[05:41:17] /workspace/src/tree/updater_prune.cc:74: tree pruning end, 1 roots, 60 extra nodes, 0 pruned nodes, max_depth=5\n",
      "[05:41:17] /workspace/src/tree/updater_prune.cc:74: tree pruning end, 1 roots, 62 extra nodes, 0 pruned nodes, max_depth=5\n",
      "[05:41:17] /workspace/src/tree/updater_prune.cc:74: tree pruning end, 1 roots, 62 extra nodes, 0 pruned nodes, max_depth=5\n",
      "[05:41:17] /workspace/src/tree/updater_prune.cc:74: tree pruning end, 1 roots, 62 extra nodes, 0 pruned nodes, max_depth=5\n",
      "[05:41:17] /workspace/src/tree/updater_prune.cc:74: tree pruning end, 1 roots, 62 extra nodes, 0 pruned nodes, max_depth=5\n",
      "[05:41:17] /workspace/src/tree/updater_prune.cc:74: tree pruning end, 1 roots, 62 extra nodes, 0 pruned nodes, max_depth=5\n",
      "[05:41:17] /workspace/src/tree/updater_prune.cc:74: tree pruning end, 1 roots, 62 extra nodes, 0 pruned nodes, max_depth=5\n",
      "[05:41:17] /workspace/src/tree/updater_prune.cc:74: tree pruning end, 1 roots, 60 extra nodes, 0 pruned nodes, max_depth=5\n",
      "[05:41:17] /workspace/src/tree/updater_prune.cc:74: tree pruning end, 1 roots, 62 extra nodes, 0 pruned nodes, max_depth=5\n",
      "[05:41:18] /workspace/src/tree/updater_prune.cc:74: tree pruning end, 1 roots, 62 extra nodes, 0 pruned nodes, max_depth=5\n",
      "[05:41:18] /workspace/src/tree/updater_prune.cc:74: tree pruning end, 1 roots, 60 extra nodes, 0 pruned nodes, max_depth=5\n",
      "[05:41:18] /workspace/src/tree/updater_prune.cc:74: tree pruning end, 1 roots, 62 extra nodes, 0 pruned nodes, max_depth=5\n",
      "[05:41:18] /workspace/src/tree/updater_prune.cc:74: tree pruning end, 1 roots, 62 extra nodes, 0 pruned nodes, max_depth=5\n",
      "[05:41:18] /workspace/src/tree/updater_prune.cc:74: tree pruning end, 1 roots, 60 extra nodes, 0 pruned nodes, max_depth=5\n",
      "[05:41:18] /workspace/src/tree/updater_prune.cc:74: tree pruning end, 1 roots, 62 extra nodes, 0 pruned nodes, max_depth=5\n",
      "[05:41:18] /workspace/src/tree/updater_prune.cc:74: tree pruning end, 1 roots, 60 extra nodes, 0 pruned nodes, max_depth=5\n",
      "[05:41:18] /workspace/src/tree/updater_prune.cc:74: tree pruning end, 1 roots, 62 extra nodes, 0 pruned nodes, max_depth=5\n",
      "[05:41:18] /workspace/src/tree/updater_prune.cc:74: tree pruning end, 1 roots, 62 extra nodes, 0 pruned nodes, max_depth=5\n",
      "[05:41:19] /workspace/src/tree/updater_prune.cc:74: tree pruning end, 1 roots, 58 extra nodes, 0 pruned nodes, max_depth=5\n",
      "[05:41:19] /workspace/src/tree/updater_prune.cc:74: tree pruning end, 1 roots, 62 extra nodes, 0 pruned nodes, max_depth=5\n",
      "[05:41:19] /workspace/src/tree/updater_prune.cc:74: tree pruning end, 1 roots, 62 extra nodes, 0 pruned nodes, max_depth=5\n",
      "[05:41:19] /workspace/src/tree/updater_prune.cc:74: tree pruning end, 1 roots, 58 extra nodes, 0 pruned nodes, max_depth=5\n",
      "[05:41:19] /workspace/src/tree/updater_prune.cc:74: tree pruning end, 1 roots, 62 extra nodes, 0 pruned nodes, max_depth=5\n",
      "[05:41:19] /workspace/src/tree/updater_prune.cc:74: tree pruning end, 1 roots, 60 extra nodes, 0 pruned nodes, max_depth=5\n",
      "[05:41:19] /workspace/src/tree/updater_prune.cc:74: tree pruning end, 1 roots, 62 extra nodes, 0 pruned nodes, max_depth=5\n",
      "[05:41:19] /workspace/src/tree/updater_prune.cc:74: tree pruning end, 1 roots, 60 extra nodes, 0 pruned nodes, max_depth=5\n",
      "[05:41:19] /workspace/src/tree/updater_prune.cc:74: tree pruning end, 1 roots, 62 extra nodes, 0 pruned nodes, max_depth=5\n",
      "[05:41:20] /workspace/src/tree/updater_prune.cc:74: tree pruning end, 1 roots, 58 extra nodes, 0 pruned nodes, max_depth=5\n",
      "[05:41:20] /workspace/src/tree/updater_prune.cc:74: tree pruning end, 1 roots, 62 extra nodes, 0 pruned nodes, max_depth=5\n",
      "[05:41:20] /workspace/src/tree/updater_prune.cc:74: tree pruning end, 1 roots, 60 extra nodes, 0 pruned nodes, max_depth=5\n",
      "[05:41:20] /workspace/src/tree/updater_prune.cc:74: tree pruning end, 1 roots, 60 extra nodes, 0 pruned nodes, max_depth=5\n",
      "[05:41:20] /workspace/src/tree/updater_prune.cc:74: tree pruning end, 1 roots, 58 extra nodes, 0 pruned nodes, max_depth=5\n",
      "[05:41:20] /workspace/src/tree/updater_prune.cc:74: tree pruning end, 1 roots, 56 extra nodes, 0 pruned nodes, max_depth=5\n",
      "[05:41:20] /workspace/src/tree/updater_prune.cc:74: tree pruning end, 1 roots, 60 extra nodes, 0 pruned nodes, max_depth=5\n",
      "[05:41:20] /workspace/src/tree/updater_prune.cc:74: tree pruning end, 1 roots, 62 extra nodes, 0 pruned nodes, max_depth=5\n",
      "[05:41:20] /workspace/src/tree/updater_prune.cc:74: tree pruning end, 1 roots, 62 extra nodes, 0 pruned nodes, max_depth=5\n",
      "[05:41:21] /workspace/src/tree/updater_prune.cc:74: tree pruning end, 1 roots, 60 extra nodes, 0 pruned nodes, max_depth=5\n",
      "[05:41:21] /workspace/src/tree/updater_prune.cc:74: tree pruning end, 1 roots, 62 extra nodes, 0 pruned nodes, max_depth=5\n",
      "[05:41:21] /workspace/src/tree/updater_prune.cc:74: tree pruning end, 1 roots, 62 extra nodes, 0 pruned nodes, max_depth=5\n",
      "[05:41:21] /workspace/src/tree/updater_prune.cc:74: tree pruning end, 1 roots, 62 extra nodes, 0 pruned nodes, max_depth=5\n",
      "[05:41:21] /workspace/src/tree/updater_prune.cc:74: tree pruning end, 1 roots, 62 extra nodes, 0 pruned nodes, max_depth=5\n",
      "[05:41:21] /workspace/src/tree/updater_prune.cc:74: tree pruning end, 1 roots, 62 extra nodes, 0 pruned nodes, max_depth=5\n",
      "[05:41:21] /workspace/src/tree/updater_prune.cc:74: tree pruning end, 1 roots, 60 extra nodes, 0 pruned nodes, max_depth=5\n",
      "[05:41:21] /workspace/src/tree/updater_prune.cc:74: tree pruning end, 1 roots, 62 extra nodes, 0 pruned nodes, max_depth=5\n",
      "[05:41:21] /workspace/src/tree/updater_prune.cc:74: tree pruning end, 1 roots, 58 extra nodes, 0 pruned nodes, max_depth=5\n",
      "[05:41:22] /workspace/src/tree/updater_prune.cc:74: tree pruning end, 1 roots, 62 extra nodes, 0 pruned nodes, max_depth=5\n",
      "[05:41:22] /workspace/src/tree/updater_prune.cc:74: tree pruning end, 1 roots, 60 extra nodes, 0 pruned nodes, max_depth=5\n",
      "[05:41:22] /workspace/src/tree/updater_prune.cc:74: tree pruning end, 1 roots, 62 extra nodes, 0 pruned nodes, max_depth=5\n",
      "[05:41:22] /workspace/src/tree/updater_prune.cc:74: tree pruning end, 1 roots, 62 extra nodes, 0 pruned nodes, max_depth=5\n",
      "[05:41:22] /workspace/src/tree/updater_prune.cc:74: tree pruning end, 1 roots, 60 extra nodes, 0 pruned nodes, max_depth=5\n",
      "[05:41:22] /workspace/src/tree/updater_prune.cc:74: tree pruning end, 1 roots, 62 extra nodes, 0 pruned nodes, max_depth=5\n",
      "[05:41:22] /workspace/src/tree/updater_prune.cc:74: tree pruning end, 1 roots, 62 extra nodes, 0 pruned nodes, max_depth=5\n",
      "[05:41:22] /workspace/src/tree/updater_prune.cc:74: tree pruning end, 1 roots, 62 extra nodes, 0 pruned nodes, max_depth=5\n",
      "[05:41:23] /workspace/src/tree/updater_prune.cc:74: tree pruning end, 1 roots, 62 extra nodes, 0 pruned nodes, max_depth=5\n"
     ]
    },
    {
     "name": "stdout",
     "output_type": "stream",
     "text": [
      "[05:41:23] /workspace/src/tree/updater_prune.cc:74: tree pruning end, 1 roots, 62 extra nodes, 0 pruned nodes, max_depth=5\n",
      "[05:41:23] /workspace/src/tree/updater_prune.cc:74: tree pruning end, 1 roots, 58 extra nodes, 0 pruned nodes, max_depth=5\n",
      "[05:41:23] /workspace/src/tree/updater_prune.cc:74: tree pruning end, 1 roots, 60 extra nodes, 0 pruned nodes, max_depth=5\n",
      "[05:41:23] /workspace/src/tree/updater_prune.cc:74: tree pruning end, 1 roots, 60 extra nodes, 0 pruned nodes, max_depth=5\n",
      "[05:41:23] /workspace/src/tree/updater_prune.cc:74: tree pruning end, 1 roots, 62 extra nodes, 0 pruned nodes, max_depth=5\n",
      "[05:41:23] /workspace/src/tree/updater_prune.cc:74: tree pruning end, 1 roots, 62 extra nodes, 0 pruned nodes, max_depth=5\n",
      "[05:41:23] /workspace/src/tree/updater_prune.cc:74: tree pruning end, 1 roots, 58 extra nodes, 0 pruned nodes, max_depth=5\n",
      "[05:41:23] /workspace/src/tree/updater_prune.cc:74: tree pruning end, 1 roots, 62 extra nodes, 0 pruned nodes, max_depth=5\n",
      "[05:41:24] /workspace/src/tree/updater_prune.cc:74: tree pruning end, 1 roots, 60 extra nodes, 0 pruned nodes, max_depth=5\n",
      "[05:41:24] /workspace/src/tree/updater_prune.cc:74: tree pruning end, 1 roots, 62 extra nodes, 0 pruned nodes, max_depth=5\n",
      "[05:41:24] /workspace/src/tree/updater_prune.cc:74: tree pruning end, 1 roots, 54 extra nodes, 0 pruned nodes, max_depth=5\n",
      "[05:41:24] /workspace/src/tree/updater_prune.cc:74: tree pruning end, 1 roots, 62 extra nodes, 0 pruned nodes, max_depth=5\n",
      "[05:41:24] /workspace/src/tree/updater_prune.cc:74: tree pruning end, 1 roots, 62 extra nodes, 0 pruned nodes, max_depth=5\n",
      "[05:41:24] /workspace/src/tree/updater_prune.cc:74: tree pruning end, 1 roots, 62 extra nodes, 0 pruned nodes, max_depth=5\n",
      "[05:41:24] /workspace/src/tree/updater_prune.cc:74: tree pruning end, 1 roots, 62 extra nodes, 0 pruned nodes, max_depth=5\n",
      "[05:41:24] /workspace/src/tree/updater_prune.cc:74: tree pruning end, 1 roots, 62 extra nodes, 0 pruned nodes, max_depth=5\n",
      "[05:41:24] /workspace/src/tree/updater_prune.cc:74: tree pruning end, 1 roots, 62 extra nodes, 0 pruned nodes, max_depth=5\n",
      "[05:41:25] /workspace/src/tree/updater_prune.cc:74: tree pruning end, 1 roots, 62 extra nodes, 0 pruned nodes, max_depth=5\n",
      "[05:41:25] /workspace/src/tree/updater_prune.cc:74: tree pruning end, 1 roots, 62 extra nodes, 0 pruned nodes, max_depth=5\n",
      "[05:41:25] /workspace/src/tree/updater_prune.cc:74: tree pruning end, 1 roots, 60 extra nodes, 0 pruned nodes, max_depth=5\n",
      "[05:41:25] /workspace/src/tree/updater_prune.cc:74: tree pruning end, 1 roots, 62 extra nodes, 0 pruned nodes, max_depth=5\n",
      "[05:41:25] /workspace/src/tree/updater_prune.cc:74: tree pruning end, 1 roots, 62 extra nodes, 0 pruned nodes, max_depth=5\n",
      "[05:41:25] /workspace/src/tree/updater_prune.cc:74: tree pruning end, 1 roots, 62 extra nodes, 0 pruned nodes, max_depth=5\n",
      "[05:41:25] /workspace/src/tree/updater_prune.cc:74: tree pruning end, 1 roots, 62 extra nodes, 0 pruned nodes, max_depth=5\n",
      "[05:41:25] /workspace/src/tree/updater_prune.cc:74: tree pruning end, 1 roots, 62 extra nodes, 0 pruned nodes, max_depth=5\n",
      "[05:41:25] /workspace/src/tree/updater_prune.cc:74: tree pruning end, 1 roots, 58 extra nodes, 0 pruned nodes, max_depth=5\n",
      "[05:41:26] /workspace/src/tree/updater_prune.cc:74: tree pruning end, 1 roots, 62 extra nodes, 0 pruned nodes, max_depth=5\n",
      "[05:41:26] /workspace/src/tree/updater_prune.cc:74: tree pruning end, 1 roots, 60 extra nodes, 0 pruned nodes, max_depth=5\n",
      "[05:41:26] /workspace/src/tree/updater_prune.cc:74: tree pruning end, 1 roots, 62 extra nodes, 0 pruned nodes, max_depth=5\n",
      "[05:41:26] /workspace/src/tree/updater_prune.cc:74: tree pruning end, 1 roots, 62 extra nodes, 0 pruned nodes, max_depth=5\n",
      "[05:41:26] /workspace/src/tree/updater_prune.cc:74: tree pruning end, 1 roots, 62 extra nodes, 0 pruned nodes, max_depth=5\n",
      "[05:41:26] /workspace/src/tree/updater_prune.cc:74: tree pruning end, 1 roots, 62 extra nodes, 0 pruned nodes, max_depth=5\n",
      "[05:41:26] /workspace/src/tree/updater_prune.cc:74: tree pruning end, 1 roots, 58 extra nodes, 0 pruned nodes, max_depth=5\n",
      "[05:41:26] /workspace/src/tree/updater_prune.cc:74: tree pruning end, 1 roots, 60 extra nodes, 0 pruned nodes, max_depth=5\n",
      "[05:41:27] /workspace/src/tree/updater_prune.cc:74: tree pruning end, 1 roots, 62 extra nodes, 0 pruned nodes, max_depth=5\n",
      "[05:41:27] /workspace/src/tree/updater_prune.cc:74: tree pruning end, 1 roots, 62 extra nodes, 0 pruned nodes, max_depth=5\n",
      "[05:41:27] /workspace/src/tree/updater_prune.cc:74: tree pruning end, 1 roots, 62 extra nodes, 0 pruned nodes, max_depth=5\n",
      "[05:41:27] /workspace/src/tree/updater_prune.cc:74: tree pruning end, 1 roots, 60 extra nodes, 0 pruned nodes, max_depth=5\n",
      "[05:41:27] /workspace/src/tree/updater_prune.cc:74: tree pruning end, 1 roots, 62 extra nodes, 0 pruned nodes, max_depth=5\n",
      "[05:41:27] /workspace/src/tree/updater_prune.cc:74: tree pruning end, 1 roots, 56 extra nodes, 0 pruned nodes, max_depth=5\n",
      "[05:41:27] /workspace/src/tree/updater_prune.cc:74: tree pruning end, 1 roots, 62 extra nodes, 0 pruned nodes, max_depth=5\n",
      "[05:41:27] /workspace/src/tree/updater_prune.cc:74: tree pruning end, 1 roots, 62 extra nodes, 0 pruned nodes, max_depth=5\n",
      "[05:41:27] /workspace/src/tree/updater_prune.cc:74: tree pruning end, 1 roots, 62 extra nodes, 0 pruned nodes, max_depth=5\n",
      "[05:41:28] /workspace/src/tree/updater_prune.cc:74: tree pruning end, 1 roots, 62 extra nodes, 0 pruned nodes, max_depth=5\n",
      "[05:41:28] /workspace/src/tree/updater_prune.cc:74: tree pruning end, 1 roots, 62 extra nodes, 0 pruned nodes, max_depth=5\n",
      "[05:41:28] /workspace/src/tree/updater_prune.cc:74: tree pruning end, 1 roots, 62 extra nodes, 0 pruned nodes, max_depth=5\n",
      "[05:41:28] /workspace/src/tree/updater_prune.cc:74: tree pruning end, 1 roots, 62 extra nodes, 0 pruned nodes, max_depth=5\n",
      "[05:41:28] /workspace/src/tree/updater_prune.cc:74: tree pruning end, 1 roots, 62 extra nodes, 0 pruned nodes, max_depth=5\n",
      "[05:41:28] /workspace/src/tree/updater_prune.cc:74: tree pruning end, 1 roots, 62 extra nodes, 0 pruned nodes, max_depth=5\n",
      "[05:41:28] /workspace/src/tree/updater_prune.cc:74: tree pruning end, 1 roots, 62 extra nodes, 0 pruned nodes, max_depth=5\n",
      "[05:41:28] /workspace/src/tree/updater_prune.cc:74: tree pruning end, 1 roots, 62 extra nodes, 0 pruned nodes, max_depth=5\n",
      "[05:41:28] /workspace/src/tree/updater_prune.cc:74: tree pruning end, 1 roots, 56 extra nodes, 0 pruned nodes, max_depth=5\n",
      "[05:41:29] /workspace/src/tree/updater_prune.cc:74: tree pruning end, 1 roots, 58 extra nodes, 0 pruned nodes, max_depth=5\n",
      "[05:41:29] /workspace/src/tree/updater_prune.cc:74: tree pruning end, 1 roots, 60 extra nodes, 0 pruned nodes, max_depth=5\n",
      "[05:41:29] /workspace/src/tree/updater_prune.cc:74: tree pruning end, 1 roots, 62 extra nodes, 0 pruned nodes, max_depth=5\n",
      "[05:41:29] /workspace/src/tree/updater_prune.cc:74: tree pruning end, 1 roots, 62 extra nodes, 0 pruned nodes, max_depth=5\n",
      "[05:41:29] /workspace/src/tree/updater_prune.cc:74: tree pruning end, 1 roots, 60 extra nodes, 0 pruned nodes, max_depth=5\n",
      "[05:41:29] /workspace/src/tree/updater_prune.cc:74: tree pruning end, 1 roots, 56 extra nodes, 0 pruned nodes, max_depth=5\n",
      "[05:41:29] /workspace/src/tree/updater_prune.cc:74: tree pruning end, 1 roots, 62 extra nodes, 0 pruned nodes, max_depth=5\n",
      "[05:41:29] /workspace/src/tree/updater_prune.cc:74: tree pruning end, 1 roots, 50 extra nodes, 0 pruned nodes, max_depth=5\n",
      "[05:41:29] /workspace/src/tree/updater_prune.cc:74: tree pruning end, 1 roots, 56 extra nodes, 0 pruned nodes, max_depth=5\n",
      "[05:41:30] /workspace/src/tree/updater_prune.cc:74: tree pruning end, 1 roots, 62 extra nodes, 0 pruned nodes, max_depth=5\n",
      "[05:41:30] /workspace/src/tree/updater_prune.cc:74: tree pruning end, 1 roots, 60 extra nodes, 0 pruned nodes, max_depth=5\n",
      "[05:41:30] /workspace/src/tree/updater_prune.cc:74: tree pruning end, 1 roots, 62 extra nodes, 0 pruned nodes, max_depth=5\n",
      "Done. Time taken : 0:00:24.130908\n",
      "\n",
      "Done \n",
      "\n",
      "Evaluating the model with TRAIN data...\n",
      "Evaluating Test data\n",
      "\n",
      "TEST DATA\n",
      "------------------------------\n",
      "RMSE :  1.0760536784298278\n",
      "MAPE :  33.54630185152229\n"
     ]
    }
   ],
   "source": [
    "# prepare Train data\n",
    "x_train = reg_train.drop(['user','movie','rating'], axis=1)\n",
    "y_train = reg_train['rating']\n",
    "\n",
    "# Prepare Test data\n",
    "x_test = reg_test_df.drop(['user','movie','rating'], axis=1)\n",
    "y_test = reg_test_df['rating']\n",
    "\n",
    "# initialize Our first XGBoost model...\n",
    "# hyperparamtertune xgboost\n",
    "best_n_estimators,best_max_depth = hyperparametertune_xgboost(x_train, y_train)\n",
    "\n",
    "first_xgb = xgb.XGBRegressor(silent=False, n_jobs=13, random_state=15, n_estimators=best_n_estimators,max_depth=best_max_depth)\n",
    "train_results, test_results = run_xgboost(first_xgb, x_train, y_train, x_test, y_test)\n",
    "\n",
    "# store the results in models_evaluations dictionaries\n",
    "models_evaluation_train['first_algo'] = train_results\n",
    "models_evaluation_test['first_algo'] = test_results\n",
    "\n",
    "xgb.plot_importance(first_xgb)\n",
    "plt.show()"
   ]
  },
  {
   "cell_type": "markdown",
   "metadata": {
    "colab_type": "text",
    "id": "DWm7knFrxrrO"
   },
   "source": [
    " "
   ]
  },
  {
   "cell_type": "markdown",
   "metadata": {
    "colab_type": "text",
    "id": "FUG-CnKpxrrP"
   },
   "source": [
    "<h3> 4.4.2 Suprise BaselineModel </h3>\n",
    "    \n"
   ]
  },
  {
   "cell_type": "code",
   "execution_count": 39,
   "metadata": {
    "colab": {},
    "colab_type": "code",
    "id": "UpX853XsxrrQ"
   },
   "outputs": [],
   "source": [
    "from surprise import BaselineOnly "
   ]
  },
  {
   "cell_type": "code",
   "execution_count": 40,
   "metadata": {
    "colab": {},
    "colab_type": "code",
    "id": "Hxg5585nxrrS",
    "outputId": "118c4d00-a202-460b-dd78-a89e664d5570"
   },
   "outputs": [
    {
     "name": "stdout",
     "output_type": "stream",
     "text": [
      "Training the model...\n",
      "Estimating biases using sgd...\n",
      "Done. time taken : 0:00:07.359446 \n",
      "\n",
      "Evaluating the model with train data..\n",
      "time taken : 0:00:07.399008\n",
      "---------------\n",
      "Train Data\n",
      "---------------\n",
      "RMSE : 0.9220478981418425\n",
      "\n",
      "MAPE : 28.6415868708249\n",
      "\n",
      "adding train results in the dictionary..\n",
      "\n",
      "Evaluating for test data...\n",
      "time taken : 0:00:00.072660\n",
      "---------------\n",
      "Test Data\n",
      "---------------\n",
      "RMSE : 1.0655294354066949\n",
      "\n",
      "MAPE : 34.406634720551914\n",
      "\n",
      "storing the test results in test dictionary...\n",
      "\n",
      "---------------------------------------------\n",
      "Total time taken to run this algorithm : 0:00:14.832662\n"
     ]
    }
   ],
   "source": [
    "\n",
    "# options are to specify.., how to compute those user and item biases\n",
    "bsl_options = {'method': 'sgd',\n",
    "               'learning_rate': .001\n",
    "               }\n",
    "bsl_algo = BaselineOnly(bsl_options=bsl_options)\n",
    "# run this algorithm.., It will return the train and test results..\n",
    "bsl_train_results, bsl_test_results = run_surprise(bsl_algo, trainset, testset, verbose=True)\n",
    "\n",
    "\n",
    "# Just store these error metrics in our models_evaluation datastructure\n",
    "models_evaluation_train['bsl_algo'] = bsl_train_results \n",
    "models_evaluation_test['bsl_algo'] = bsl_test_results"
   ]
  },
  {
   "cell_type": "markdown",
   "metadata": {
    "colab_type": "text",
    "id": "64PX9U4FxrrT"
   },
   "source": [
    " "
   ]
  },
  {
   "cell_type": "markdown",
   "metadata": {
    "colab_type": "text",
    "id": "AX3Zrio7xrrU"
   },
   "source": [
    "<h3> 4.4.3 XGBoost with initial 13 features + Surprise Baseline predictor </h3>"
   ]
  },
  {
   "cell_type": "markdown",
   "metadata": {
    "colab_type": "text",
    "id": "ab0DLIymxrrV"
   },
   "source": [
    "__Updating Train Data__"
   ]
  },
  {
   "cell_type": "code",
   "execution_count": 41,
   "metadata": {
    "colab": {},
    "colab_type": "code",
    "id": "eU92pNacxrrV",
    "outputId": "ad5d0309-054c-406d-dc87-c8384a5fbf12"
   },
   "outputs": [
    {
     "data": {
      "text/html": [
       "<div>\n",
       "<style scoped>\n",
       "    .dataframe tbody tr th:only-of-type {\n",
       "        vertical-align: middle;\n",
       "    }\n",
       "\n",
       "    .dataframe tbody tr th {\n",
       "        vertical-align: top;\n",
       "    }\n",
       "\n",
       "    .dataframe thead th {\n",
       "        text-align: right;\n",
       "    }\n",
       "</style>\n",
       "<table border=\"1\" class=\"dataframe\">\n",
       "  <thead>\n",
       "    <tr style=\"text-align: right;\">\n",
       "      <th></th>\n",
       "      <th>user</th>\n",
       "      <th>movie</th>\n",
       "      <th>GAvg</th>\n",
       "      <th>sur1</th>\n",
       "      <th>sur2</th>\n",
       "      <th>sur3</th>\n",
       "      <th>sur4</th>\n",
       "      <th>sur5</th>\n",
       "      <th>smr1</th>\n",
       "      <th>smr2</th>\n",
       "      <th>smr3</th>\n",
       "      <th>smr4</th>\n",
       "      <th>smr5</th>\n",
       "      <th>UAvg</th>\n",
       "      <th>MAvg</th>\n",
       "      <th>rating</th>\n",
       "      <th>bslpr</th>\n",
       "    </tr>\n",
       "  </thead>\n",
       "  <tbody>\n",
       "    <tr>\n",
       "      <th>0</th>\n",
       "      <td>174683</td>\n",
       "      <td>10</td>\n",
       "      <td>3.587581</td>\n",
       "      <td>5.0</td>\n",
       "      <td>5.0</td>\n",
       "      <td>3.0</td>\n",
       "      <td>4.0</td>\n",
       "      <td>4.0</td>\n",
       "      <td>3.0</td>\n",
       "      <td>5.0</td>\n",
       "      <td>4.0</td>\n",
       "      <td>3.0</td>\n",
       "      <td>2.0</td>\n",
       "      <td>3.882353</td>\n",
       "      <td>3.611111</td>\n",
       "      <td>5</td>\n",
       "      <td>3.681393</td>\n",
       "    </tr>\n",
       "    <tr>\n",
       "      <th>1</th>\n",
       "      <td>233949</td>\n",
       "      <td>10</td>\n",
       "      <td>3.587581</td>\n",
       "      <td>4.0</td>\n",
       "      <td>4.0</td>\n",
       "      <td>5.0</td>\n",
       "      <td>1.0</td>\n",
       "      <td>3.0</td>\n",
       "      <td>2.0</td>\n",
       "      <td>3.0</td>\n",
       "      <td>2.0</td>\n",
       "      <td>3.0</td>\n",
       "      <td>3.0</td>\n",
       "      <td>2.692308</td>\n",
       "      <td>3.611111</td>\n",
       "      <td>3</td>\n",
       "      <td>3.720150</td>\n",
       "    </tr>\n",
       "  </tbody>\n",
       "</table>\n",
       "</div>"
      ],
      "text/plain": [
       "     user  movie      GAvg  sur1  sur2  sur3  sur4  sur5  smr1  smr2  smr3  \\\n",
       "0  174683     10  3.587581   5.0   5.0   3.0   4.0   4.0   3.0   5.0   4.0   \n",
       "1  233949     10  3.587581   4.0   4.0   5.0   1.0   3.0   2.0   3.0   2.0   \n",
       "\n",
       "   smr4  smr5      UAvg      MAvg  rating     bslpr  \n",
       "0   3.0   2.0  3.882353  3.611111       5  3.681393  \n",
       "1   3.0   3.0  2.692308  3.611111       3  3.720150  "
      ]
     },
     "execution_count": 41,
     "metadata": {},
     "output_type": "execute_result"
    }
   ],
   "source": [
    "# add our baseline_predicted value as our feature..\n",
    "reg_train['bslpr'] = models_evaluation_train['bsl_algo']['predictions']\n",
    "reg_train.head(2) "
   ]
  },
  {
   "cell_type": "markdown",
   "metadata": {
    "colab_type": "text",
    "id": "ZhhIJM6ExrrW"
   },
   "source": [
    "__Updating Test Data__"
   ]
  },
  {
   "cell_type": "code",
   "execution_count": 42,
   "metadata": {
    "colab": {},
    "colab_type": "code",
    "id": "yKTq0QZrxrrW",
    "outputId": "194d8d7f-a65a-4b67-f2a8-fd80daf2c5f4"
   },
   "outputs": [
    {
     "data": {
      "text/html": [
       "<div>\n",
       "<style scoped>\n",
       "    .dataframe tbody tr th:only-of-type {\n",
       "        vertical-align: middle;\n",
       "    }\n",
       "\n",
       "    .dataframe tbody tr th {\n",
       "        vertical-align: top;\n",
       "    }\n",
       "\n",
       "    .dataframe thead th {\n",
       "        text-align: right;\n",
       "    }\n",
       "</style>\n",
       "<table border=\"1\" class=\"dataframe\">\n",
       "  <thead>\n",
       "    <tr style=\"text-align: right;\">\n",
       "      <th></th>\n",
       "      <th>user</th>\n",
       "      <th>movie</th>\n",
       "      <th>GAvg</th>\n",
       "      <th>sur1</th>\n",
       "      <th>sur2</th>\n",
       "      <th>sur3</th>\n",
       "      <th>sur4</th>\n",
       "      <th>sur5</th>\n",
       "      <th>smr1</th>\n",
       "      <th>smr2</th>\n",
       "      <th>smr3</th>\n",
       "      <th>smr4</th>\n",
       "      <th>smr5</th>\n",
       "      <th>UAvg</th>\n",
       "      <th>MAvg</th>\n",
       "      <th>rating</th>\n",
       "      <th>bslpr</th>\n",
       "    </tr>\n",
       "  </thead>\n",
       "  <tbody>\n",
       "    <tr>\n",
       "      <th>0</th>\n",
       "      <td>808635</td>\n",
       "      <td>71</td>\n",
       "      <td>3.587581</td>\n",
       "      <td>3.587581</td>\n",
       "      <td>3.587581</td>\n",
       "      <td>3.587581</td>\n",
       "      <td>3.587581</td>\n",
       "      <td>3.587581</td>\n",
       "      <td>3.587581</td>\n",
       "      <td>3.587581</td>\n",
       "      <td>3.587581</td>\n",
       "      <td>3.587581</td>\n",
       "      <td>3.587581</td>\n",
       "      <td>3.587581</td>\n",
       "      <td>3.587581</td>\n",
       "      <td>5</td>\n",
       "      <td>3.587581</td>\n",
       "    </tr>\n",
       "    <tr>\n",
       "      <th>1</th>\n",
       "      <td>941866</td>\n",
       "      <td>71</td>\n",
       "      <td>3.587581</td>\n",
       "      <td>3.587581</td>\n",
       "      <td>3.587581</td>\n",
       "      <td>3.587581</td>\n",
       "      <td>3.587581</td>\n",
       "      <td>3.587581</td>\n",
       "      <td>3.587581</td>\n",
       "      <td>3.587581</td>\n",
       "      <td>3.587581</td>\n",
       "      <td>3.587581</td>\n",
       "      <td>3.587581</td>\n",
       "      <td>3.587581</td>\n",
       "      <td>3.587581</td>\n",
       "      <td>4</td>\n",
       "      <td>3.587581</td>\n",
       "    </tr>\n",
       "  </tbody>\n",
       "</table>\n",
       "</div>"
      ],
      "text/plain": [
       "     user  movie      GAvg      sur1      sur2      sur3      sur4      sur5  \\\n",
       "0  808635     71  3.587581  3.587581  3.587581  3.587581  3.587581  3.587581   \n",
       "1  941866     71  3.587581  3.587581  3.587581  3.587581  3.587581  3.587581   \n",
       "\n",
       "       smr1      smr2      smr3      smr4      smr5      UAvg      MAvg  \\\n",
       "0  3.587581  3.587581  3.587581  3.587581  3.587581  3.587581  3.587581   \n",
       "1  3.587581  3.587581  3.587581  3.587581  3.587581  3.587581  3.587581   \n",
       "\n",
       "   rating     bslpr  \n",
       "0       5  3.587581  \n",
       "1       4  3.587581  "
      ]
     },
     "execution_count": 42,
     "metadata": {},
     "output_type": "execute_result"
    }
   ],
   "source": [
    "# add that baseline predicted ratings with Surprise to the test data as well\n",
    "reg_test_df['bslpr']  = models_evaluation_test['bsl_algo']['predictions']\n",
    "reg_test_df.head(2)"
   ]
  },
  {
   "cell_type": "code",
   "execution_count": 43,
   "metadata": {
    "colab": {},
    "colab_type": "code",
    "id": "0z23w_HHxrra",
    "outputId": "e51e11b3-f92e-4af9-dc65-f981eabab9c7",
    "scrolled": false
   },
   "outputs": [
    {
     "name": "stdout",
     "output_type": "stream",
     "text": [
      "Fitting 3 folds for each of 9 candidates, totalling 27 fits\n",
      "[CV] max_depth=3, n_estimators=100 ...................................\n",
      "[CV] max_depth=3, n_estimators=100 ...................................\n",
      "[CV] max_depth=3, n_estimators=100 ...................................\n",
      "[CV] max_depth=3, n_estimators=200 ...................................\n",
      "[CV] max_depth=3, n_estimators=200 ...................................\n",
      "[CV] max_depth=3, n_estimators=200 ...................................\n",
      "[CV] max_depth=3, n_estimators=500 ...................................\n",
      "[CV] max_depth=3, n_estimators=500 ...................................\n",
      "[CV] max_depth=3, n_estimators=500 ...................................\n",
      "[CV] max_depth=5, n_estimators=100 ...................................\n",
      "[CV] max_depth=5, n_estimators=100 ...................................\n",
      "[CV] max_depth=5, n_estimators=100 ...................................\n",
      "[CV] max_depth=5, n_estimators=200 ...................................\n",
      "[CV] max_depth=5, n_estimators=200 ...................................\n",
      "[CV] max_depth=5, n_estimators=200 ...................................\n",
      "[CV] max_depth=5, n_estimators=500 ...................................\n",
      "[CV]  max_depth=3, n_estimators=100, score=0.35309155058719344, total= 1.1min\n",
      "[CV] max_depth=5, n_estimators=500 ...................................\n",
      "[CV]  max_depth=3, n_estimators=100, score=0.3452202920895766, total= 1.2min\n",
      "[CV] max_depth=5, n_estimators=500 ...................................\n"
     ]
    },
    {
     "name": "stderr",
     "output_type": "stream",
     "text": [
      "[Parallel(n_jobs=-1)]: Done   2 out of  27 | elapsed:  1.3min remaining: 16.0min\n"
     ]
    },
    {
     "name": "stdout",
     "output_type": "stream",
     "text": [
      "[CV]  max_depth=3, n_estimators=100, score=0.3908346479020725, total= 1.2min\n",
      "[CV] max_depth=10, n_estimators=100 ..................................\n",
      "[CV]  max_depth=5, n_estimators=100, score=0.3935449043825494, total= 1.9min\n",
      "[CV] max_depth=10, n_estimators=100 ..................................\n",
      "[CV]  max_depth=5, n_estimators=100, score=0.35546454657006155, total= 2.1min\n",
      "[CV] max_depth=10, n_estimators=100 ..................................\n"
     ]
    },
    {
     "name": "stderr",
     "output_type": "stream",
     "text": [
      "[Parallel(n_jobs=-1)]: Done   5 out of  27 | elapsed:  2.2min remaining:  9.5min\n"
     ]
    },
    {
     "name": "stdout",
     "output_type": "stream",
     "text": [
      "[CV]  max_depth=5, n_estimators=100, score=0.34702966130950164, total= 2.1min\n",
      "[CV] max_depth=10, n_estimators=200 ..................................\n",
      "[CV]  max_depth=3, n_estimators=200, score=0.34633641362900247, total= 2.2min\n",
      "[CV] max_depth=10, n_estimators=200 ..................................\n",
      "[CV]  max_depth=3, n_estimators=200, score=0.3924669156519064, total= 2.3min\n",
      "[CV] max_depth=10, n_estimators=200 ..................................\n"
     ]
    },
    {
     "name": "stderr",
     "output_type": "stream",
     "text": [
      "[Parallel(n_jobs=-1)]: Done   8 out of  27 | elapsed:  2.5min remaining:  5.8min\n"
     ]
    },
    {
     "name": "stdout",
     "output_type": "stream",
     "text": [
      "[CV]  max_depth=3, n_estimators=200, score=0.35467963114796963, total= 2.4min\n",
      "[CV] max_depth=10, n_estimators=500 ..................................\n",
      "[CV]  max_depth=5, n_estimators=200, score=0.35626003287576746, total= 3.8min\n",
      "[CV] max_depth=10, n_estimators=500 ..................................\n",
      "[CV]  max_depth=5, n_estimators=200, score=0.3939122180173181, total= 3.9min\n",
      "[CV] max_depth=10, n_estimators=500 ..................................\n"
     ]
    },
    {
     "name": "stderr",
     "output_type": "stream",
     "text": [
      "[Parallel(n_jobs=-1)]: Done  11 out of  27 | elapsed:  4.1min remaining:  6.0min\n"
     ]
    },
    {
     "name": "stdout",
     "output_type": "stream",
     "text": [
      "[CV]  max_depth=5, n_estimators=200, score=0.34753645128109123, total= 4.0min\n",
      "[CV]  max_depth=3, n_estimators=500, score=0.3468771849218997, total= 5.3min\n",
      "[CV]  max_depth=3, n_estimators=500, score=0.392564067092644, total= 5.4min\n"
     ]
    },
    {
     "name": "stderr",
     "output_type": "stream",
     "text": [
      "[Parallel(n_jobs=-1)]: Done  14 out of  27 | elapsed:  5.7min remaining:  5.3min\n"
     ]
    },
    {
     "name": "stdout",
     "output_type": "stream",
     "text": [
      "[CV]  max_depth=10, n_estimators=100, score=0.35421820369207835, total= 4.5min\n",
      "[CV]  max_depth=3, n_estimators=500, score=0.35561271068153666, total= 5.8min\n",
      "[CV]  max_depth=10, n_estimators=100, score=0.3913488849728006, total= 4.5min\n"
     ]
    },
    {
     "name": "stderr",
     "output_type": "stream",
     "text": [
      "[Parallel(n_jobs=-1)]: Done  17 out of  27 | elapsed:  6.7min remaining:  3.9min\n"
     ]
    },
    {
     "name": "stdout",
     "output_type": "stream",
     "text": [
      "[CV]  max_depth=10, n_estimators=100, score=0.3460530584362781, total= 4.7min\n",
      "[CV]  max_depth=5, n_estimators=500, score=0.35609523939266097, total= 8.3min\n",
      "[CV]  max_depth=5, n_estimators=500, score=0.39339742602963257, total= 7.8min\n"
     ]
    },
    {
     "name": "stderr",
     "output_type": "stream",
     "text": [
      "[Parallel(n_jobs=-1)]: Done  20 out of  27 | elapsed:  9.2min remaining:  3.2min\n"
     ]
    },
    {
     "name": "stdout",
     "output_type": "stream",
     "text": [
      "[CV]  max_depth=5, n_estimators=500, score=0.3470530277004248, total= 7.9min\n",
      "[CV]  max_depth=10, n_estimators=200, score=0.3518753755486591, total= 7.1min\n",
      "[CV]  max_depth=10, n_estimators=200, score=0.34476354422585664, total= 7.1min\n"
     ]
    },
    {
     "name": "stderr",
     "output_type": "stream",
     "text": [
      "[Parallel(n_jobs=-1)]: Done  23 out of  27 | elapsed:  9.7min remaining:  1.7min\n"
     ]
    },
    {
     "name": "stdout",
     "output_type": "stream",
     "text": [
      "[CV]  max_depth=10, n_estimators=200, score=0.38755282365398463, total= 7.3min\n",
      "[CV]  max_depth=10, n_estimators=500, score=0.3449266429426826, total=12.8min\n",
      "[CV]  max_depth=10, n_estimators=500, score=0.33986732939156916, total=11.9min\n",
      "[CV]  max_depth=10, n_estimators=500, score=0.3809970961275815, total=12.3min\n"
     ]
    },
    {
     "name": "stderr",
     "output_type": "stream",
     "text": [
      "[Parallel(n_jobs=-1)]: Done  27 out of  27 | elapsed: 17.0min finished\n"
     ]
    },
    {
     "name": "stdout",
     "output_type": "stream",
     "text": [
      "Training the model..\n",
      "[06:01:42] /workspace/src/tree/updater_prune.cc:74: tree pruning end, 1 roots, 62 extra nodes, 0 pruned nodes, max_depth=5\n",
      "[06:01:42] /workspace/src/tree/updater_prune.cc:74: tree pruning end, 1 roots, 62 extra nodes, 0 pruned nodes, max_depth=5\n",
      "[06:01:42] /workspace/src/tree/updater_prune.cc:74: tree pruning end, 1 roots, 62 extra nodes, 0 pruned nodes, max_depth=5\n",
      "[06:01:43] /workspace/src/tree/updater_prune.cc:74: tree pruning end, 1 roots, 62 extra nodes, 0 pruned nodes, max_depth=5\n",
      "[06:01:43] /workspace/src/tree/updater_prune.cc:74: tree pruning end, 1 roots, 62 extra nodes, 0 pruned nodes, max_depth=5\n",
      "[06:01:43] /workspace/src/tree/updater_prune.cc:74: tree pruning end, 1 roots, 62 extra nodes, 0 pruned nodes, max_depth=5\n",
      "[06:01:43] /workspace/src/tree/updater_prune.cc:74: tree pruning end, 1 roots, 62 extra nodes, 0 pruned nodes, max_depth=5\n",
      "[06:01:43] /workspace/src/tree/updater_prune.cc:74: tree pruning end, 1 roots, 62 extra nodes, 0 pruned nodes, max_depth=5\n",
      "[06:01:44] /workspace/src/tree/updater_prune.cc:74: tree pruning end, 1 roots, 62 extra nodes, 0 pruned nodes, max_depth=5\n",
      "[06:01:44] /workspace/src/tree/updater_prune.cc:74: tree pruning end, 1 roots, 62 extra nodes, 0 pruned nodes, max_depth=5\n",
      "[06:01:44] /workspace/src/tree/updater_prune.cc:74: tree pruning end, 1 roots, 62 extra nodes, 0 pruned nodes, max_depth=5\n",
      "[06:01:44] /workspace/src/tree/updater_prune.cc:74: tree pruning end, 1 roots, 62 extra nodes, 0 pruned nodes, max_depth=5\n",
      "[06:01:44] /workspace/src/tree/updater_prune.cc:74: tree pruning end, 1 roots, 62 extra nodes, 0 pruned nodes, max_depth=5\n",
      "[06:01:45] /workspace/src/tree/updater_prune.cc:74: tree pruning end, 1 roots, 62 extra nodes, 0 pruned nodes, max_depth=5\n",
      "[06:01:45] /workspace/src/tree/updater_prune.cc:74: tree pruning end, 1 roots, 62 extra nodes, 0 pruned nodes, max_depth=5\n",
      "[06:01:45] /workspace/src/tree/updater_prune.cc:74: tree pruning end, 1 roots, 62 extra nodes, 0 pruned nodes, max_depth=5\n",
      "[06:01:45] /workspace/src/tree/updater_prune.cc:74: tree pruning end, 1 roots, 62 extra nodes, 0 pruned nodes, max_depth=5\n",
      "[06:01:45] /workspace/src/tree/updater_prune.cc:74: tree pruning end, 1 roots, 62 extra nodes, 0 pruned nodes, max_depth=5\n",
      "[06:01:46] /workspace/src/tree/updater_prune.cc:74: tree pruning end, 1 roots, 62 extra nodes, 0 pruned nodes, max_depth=5\n",
      "[06:01:46] /workspace/src/tree/updater_prune.cc:74: tree pruning end, 1 roots, 62 extra nodes, 0 pruned nodes, max_depth=5\n",
      "[06:01:46] /workspace/src/tree/updater_prune.cc:74: tree pruning end, 1 roots, 62 extra nodes, 0 pruned nodes, max_depth=5\n",
      "[06:01:46] /workspace/src/tree/updater_prune.cc:74: tree pruning end, 1 roots, 62 extra nodes, 0 pruned nodes, max_depth=5\n",
      "[06:01:46] /workspace/src/tree/updater_prune.cc:74: tree pruning end, 1 roots, 62 extra nodes, 0 pruned nodes, max_depth=5\n",
      "[06:01:47] /workspace/src/tree/updater_prune.cc:74: tree pruning end, 1 roots, 62 extra nodes, 0 pruned nodes, max_depth=5\n",
      "[06:01:47] /workspace/src/tree/updater_prune.cc:74: tree pruning end, 1 roots, 62 extra nodes, 0 pruned nodes, max_depth=5\n",
      "[06:01:47] /workspace/src/tree/updater_prune.cc:74: tree pruning end, 1 roots, 62 extra nodes, 0 pruned nodes, max_depth=5\n",
      "[06:01:47] /workspace/src/tree/updater_prune.cc:74: tree pruning end, 1 roots, 62 extra nodes, 0 pruned nodes, max_depth=5\n",
      "[06:01:47] /workspace/src/tree/updater_prune.cc:74: tree pruning end, 1 roots, 62 extra nodes, 0 pruned nodes, max_depth=5\n",
      "[06:01:48] /workspace/src/tree/updater_prune.cc:74: tree pruning end, 1 roots, 62 extra nodes, 0 pruned nodes, max_depth=5\n",
      "[06:01:48] /workspace/src/tree/updater_prune.cc:74: tree pruning end, 1 roots, 62 extra nodes, 0 pruned nodes, max_depth=5\n",
      "[06:01:48] /workspace/src/tree/updater_prune.cc:74: tree pruning end, 1 roots, 62 extra nodes, 0 pruned nodes, max_depth=5\n",
      "[06:01:48] /workspace/src/tree/updater_prune.cc:74: tree pruning end, 1 roots, 62 extra nodes, 0 pruned nodes, max_depth=5\n",
      "[06:01:48] /workspace/src/tree/updater_prune.cc:74: tree pruning end, 1 roots, 62 extra nodes, 0 pruned nodes, max_depth=5\n",
      "[06:01:49] /workspace/src/tree/updater_prune.cc:74: tree pruning end, 1 roots, 62 extra nodes, 0 pruned nodes, max_depth=5\n",
      "[06:01:49] /workspace/src/tree/updater_prune.cc:74: tree pruning end, 1 roots, 62 extra nodes, 0 pruned nodes, max_depth=5\n",
      "[06:01:49] /workspace/src/tree/updater_prune.cc:74: tree pruning end, 1 roots, 62 extra nodes, 0 pruned nodes, max_depth=5\n",
      "[06:01:49] /workspace/src/tree/updater_prune.cc:74: tree pruning end, 1 roots, 62 extra nodes, 0 pruned nodes, max_depth=5\n",
      "[06:01:49] /workspace/src/tree/updater_prune.cc:74: tree pruning end, 1 roots, 62 extra nodes, 0 pruned nodes, max_depth=5\n",
      "[06:01:49] /workspace/src/tree/updater_prune.cc:74: tree pruning end, 1 roots, 62 extra nodes, 0 pruned nodes, max_depth=5\n",
      "[06:01:50] /workspace/src/tree/updater_prune.cc:74: tree pruning end, 1 roots, 62 extra nodes, 0 pruned nodes, max_depth=5\n",
      "[06:01:50] /workspace/src/tree/updater_prune.cc:74: tree pruning end, 1 roots, 62 extra nodes, 0 pruned nodes, max_depth=5\n",
      "[06:01:50] /workspace/src/tree/updater_prune.cc:74: tree pruning end, 1 roots, 62 extra nodes, 0 pruned nodes, max_depth=5\n",
      "[06:01:50] /workspace/src/tree/updater_prune.cc:74: tree pruning end, 1 roots, 62 extra nodes, 0 pruned nodes, max_depth=5\n",
      "[06:01:51] /workspace/src/tree/updater_prune.cc:74: tree pruning end, 1 roots, 62 extra nodes, 0 pruned nodes, max_depth=5\n",
      "[06:01:51] /workspace/src/tree/updater_prune.cc:74: tree pruning end, 1 roots, 62 extra nodes, 0 pruned nodes, max_depth=5\n",
      "[06:01:51] /workspace/src/tree/updater_prune.cc:74: tree pruning end, 1 roots, 62 extra nodes, 0 pruned nodes, max_depth=5\n",
      "[06:01:51] /workspace/src/tree/updater_prune.cc:74: tree pruning end, 1 roots, 62 extra nodes, 0 pruned nodes, max_depth=5\n",
      "[06:01:51] /workspace/src/tree/updater_prune.cc:74: tree pruning end, 1 roots, 62 extra nodes, 0 pruned nodes, max_depth=5\n",
      "[06:01:51] /workspace/src/tree/updater_prune.cc:74: tree pruning end, 1 roots, 56 extra nodes, 0 pruned nodes, max_depth=5\n",
      "[06:01:52] /workspace/src/tree/updater_prune.cc:74: tree pruning end, 1 roots, 62 extra nodes, 0 pruned nodes, max_depth=5\n",
      "[06:01:52] /workspace/src/tree/updater_prune.cc:74: tree pruning end, 1 roots, 62 extra nodes, 0 pruned nodes, max_depth=5\n",
      "[06:01:52] /workspace/src/tree/updater_prune.cc:74: tree pruning end, 1 roots, 62 extra nodes, 0 pruned nodes, max_depth=5\n",
      "[06:01:52] /workspace/src/tree/updater_prune.cc:74: tree pruning end, 1 roots, 62 extra nodes, 0 pruned nodes, max_depth=5\n",
      "[06:01:52] /workspace/src/tree/updater_prune.cc:74: tree pruning end, 1 roots, 62 extra nodes, 0 pruned nodes, max_depth=5\n",
      "[06:01:53] /workspace/src/tree/updater_prune.cc:74: tree pruning end, 1 roots, 62 extra nodes, 0 pruned nodes, max_depth=5\n",
      "[06:01:53] /workspace/src/tree/updater_prune.cc:74: tree pruning end, 1 roots, 62 extra nodes, 0 pruned nodes, max_depth=5\n",
      "[06:01:53] /workspace/src/tree/updater_prune.cc:74: tree pruning end, 1 roots, 62 extra nodes, 0 pruned nodes, max_depth=5\n",
      "[06:01:53] /workspace/src/tree/updater_prune.cc:74: tree pruning end, 1 roots, 62 extra nodes, 0 pruned nodes, max_depth=5\n",
      "[06:01:53] /workspace/src/tree/updater_prune.cc:74: tree pruning end, 1 roots, 62 extra nodes, 0 pruned nodes, max_depth=5\n",
      "[06:01:54] /workspace/src/tree/updater_prune.cc:74: tree pruning end, 1 roots, 62 extra nodes, 0 pruned nodes, max_depth=5\n",
      "[06:01:54] /workspace/src/tree/updater_prune.cc:74: tree pruning end, 1 roots, 62 extra nodes, 0 pruned nodes, max_depth=5\n",
      "[06:01:54] /workspace/src/tree/updater_prune.cc:74: tree pruning end, 1 roots, 62 extra nodes, 0 pruned nodes, max_depth=5\n",
      "[06:01:54] /workspace/src/tree/updater_prune.cc:74: tree pruning end, 1 roots, 62 extra nodes, 0 pruned nodes, max_depth=5\n",
      "[06:01:54] /workspace/src/tree/updater_prune.cc:74: tree pruning end, 1 roots, 62 extra nodes, 0 pruned nodes, max_depth=5\n",
      "[06:01:55] /workspace/src/tree/updater_prune.cc:74: tree pruning end, 1 roots, 62 extra nodes, 0 pruned nodes, max_depth=5\n",
      "[06:01:55] /workspace/src/tree/updater_prune.cc:74: tree pruning end, 1 roots, 62 extra nodes, 0 pruned nodes, max_depth=5\n",
      "[06:01:55] /workspace/src/tree/updater_prune.cc:74: tree pruning end, 1 roots, 62 extra nodes, 0 pruned nodes, max_depth=5\n",
      "[06:01:55] /workspace/src/tree/updater_prune.cc:74: tree pruning end, 1 roots, 62 extra nodes, 0 pruned nodes, max_depth=5\n"
     ]
    },
    {
     "name": "stdout",
     "output_type": "stream",
     "text": [
      "[06:01:55] /workspace/src/tree/updater_prune.cc:74: tree pruning end, 1 roots, 62 extra nodes, 0 pruned nodes, max_depth=5\n",
      "[06:01:56] /workspace/src/tree/updater_prune.cc:74: tree pruning end, 1 roots, 62 extra nodes, 0 pruned nodes, max_depth=5\n",
      "[06:01:56] /workspace/src/tree/updater_prune.cc:74: tree pruning end, 1 roots, 62 extra nodes, 0 pruned nodes, max_depth=5\n",
      "[06:01:56] /workspace/src/tree/updater_prune.cc:74: tree pruning end, 1 roots, 62 extra nodes, 0 pruned nodes, max_depth=5\n",
      "[06:01:56] /workspace/src/tree/updater_prune.cc:74: tree pruning end, 1 roots, 62 extra nodes, 0 pruned nodes, max_depth=5\n",
      "[06:01:56] /workspace/src/tree/updater_prune.cc:74: tree pruning end, 1 roots, 62 extra nodes, 0 pruned nodes, max_depth=5\n",
      "[06:01:57] /workspace/src/tree/updater_prune.cc:74: tree pruning end, 1 roots, 62 extra nodes, 0 pruned nodes, max_depth=5\n",
      "[06:01:57] /workspace/src/tree/updater_prune.cc:74: tree pruning end, 1 roots, 62 extra nodes, 0 pruned nodes, max_depth=5\n",
      "[06:01:57] /workspace/src/tree/updater_prune.cc:74: tree pruning end, 1 roots, 62 extra nodes, 0 pruned nodes, max_depth=5\n",
      "[06:01:57] /workspace/src/tree/updater_prune.cc:74: tree pruning end, 1 roots, 62 extra nodes, 0 pruned nodes, max_depth=5\n",
      "[06:01:57] /workspace/src/tree/updater_prune.cc:74: tree pruning end, 1 roots, 62 extra nodes, 0 pruned nodes, max_depth=5\n",
      "[06:01:58] /workspace/src/tree/updater_prune.cc:74: tree pruning end, 1 roots, 62 extra nodes, 0 pruned nodes, max_depth=5\n",
      "[06:01:58] /workspace/src/tree/updater_prune.cc:74: tree pruning end, 1 roots, 62 extra nodes, 0 pruned nodes, max_depth=5\n",
      "[06:01:58] /workspace/src/tree/updater_prune.cc:74: tree pruning end, 1 roots, 62 extra nodes, 0 pruned nodes, max_depth=5\n",
      "[06:01:58] /workspace/src/tree/updater_prune.cc:74: tree pruning end, 1 roots, 62 extra nodes, 0 pruned nodes, max_depth=5\n",
      "[06:01:58] /workspace/src/tree/updater_prune.cc:74: tree pruning end, 1 roots, 62 extra nodes, 0 pruned nodes, max_depth=5\n",
      "[06:01:59] /workspace/src/tree/updater_prune.cc:74: tree pruning end, 1 roots, 62 extra nodes, 0 pruned nodes, max_depth=5\n",
      "[06:01:59] /workspace/src/tree/updater_prune.cc:74: tree pruning end, 1 roots, 62 extra nodes, 0 pruned nodes, max_depth=5\n",
      "[06:01:59] /workspace/src/tree/updater_prune.cc:74: tree pruning end, 1 roots, 60 extra nodes, 0 pruned nodes, max_depth=5\n",
      "[06:01:59] /workspace/src/tree/updater_prune.cc:74: tree pruning end, 1 roots, 62 extra nodes, 0 pruned nodes, max_depth=5\n",
      "[06:01:59] /workspace/src/tree/updater_prune.cc:74: tree pruning end, 1 roots, 62 extra nodes, 0 pruned nodes, max_depth=5\n",
      "[06:02:00] /workspace/src/tree/updater_prune.cc:74: tree pruning end, 1 roots, 60 extra nodes, 0 pruned nodes, max_depth=5\n",
      "[06:02:00] /workspace/src/tree/updater_prune.cc:74: tree pruning end, 1 roots, 60 extra nodes, 0 pruned nodes, max_depth=5\n",
      "[06:02:00] /workspace/src/tree/updater_prune.cc:74: tree pruning end, 1 roots, 62 extra nodes, 0 pruned nodes, max_depth=5\n",
      "[06:02:00] /workspace/src/tree/updater_prune.cc:74: tree pruning end, 1 roots, 62 extra nodes, 0 pruned nodes, max_depth=5\n",
      "[06:02:00] /workspace/src/tree/updater_prune.cc:74: tree pruning end, 1 roots, 62 extra nodes, 0 pruned nodes, max_depth=5\n",
      "[06:02:01] /workspace/src/tree/updater_prune.cc:74: tree pruning end, 1 roots, 56 extra nodes, 0 pruned nodes, max_depth=5\n",
      "[06:02:01] /workspace/src/tree/updater_prune.cc:74: tree pruning end, 1 roots, 62 extra nodes, 0 pruned nodes, max_depth=5\n",
      "[06:02:01] /workspace/src/tree/updater_prune.cc:74: tree pruning end, 1 roots, 60 extra nodes, 0 pruned nodes, max_depth=5\n",
      "[06:02:01] /workspace/src/tree/updater_prune.cc:74: tree pruning end, 1 roots, 62 extra nodes, 0 pruned nodes, max_depth=5\n",
      "[06:02:01] /workspace/src/tree/updater_prune.cc:74: tree pruning end, 1 roots, 60 extra nodes, 0 pruned nodes, max_depth=5\n",
      "[06:02:02] /workspace/src/tree/updater_prune.cc:74: tree pruning end, 1 roots, 62 extra nodes, 0 pruned nodes, max_depth=5\n",
      "[06:02:02] /workspace/src/tree/updater_prune.cc:74: tree pruning end, 1 roots, 56 extra nodes, 0 pruned nodes, max_depth=5\n",
      "[06:02:02] /workspace/src/tree/updater_prune.cc:74: tree pruning end, 1 roots, 62 extra nodes, 0 pruned nodes, max_depth=5\n",
      "[06:02:02] /workspace/src/tree/updater_prune.cc:74: tree pruning end, 1 roots, 60 extra nodes, 0 pruned nodes, max_depth=5\n",
      "[06:02:02] /workspace/src/tree/updater_prune.cc:74: tree pruning end, 1 roots, 62 extra nodes, 0 pruned nodes, max_depth=5\n",
      "[06:02:02] /workspace/src/tree/updater_prune.cc:74: tree pruning end, 1 roots, 50 extra nodes, 0 pruned nodes, max_depth=5\n",
      "[06:02:03] /workspace/src/tree/updater_prune.cc:74: tree pruning end, 1 roots, 62 extra nodes, 0 pruned nodes, max_depth=5\n",
      "[06:02:03] /workspace/src/tree/updater_prune.cc:74: tree pruning end, 1 roots, 60 extra nodes, 0 pruned nodes, max_depth=5\n",
      "[06:02:03] /workspace/src/tree/updater_prune.cc:74: tree pruning end, 1 roots, 62 extra nodes, 0 pruned nodes, max_depth=5\n",
      "[06:02:03] /workspace/src/tree/updater_prune.cc:74: tree pruning end, 1 roots, 62 extra nodes, 0 pruned nodes, max_depth=5\n",
      "[06:02:03] /workspace/src/tree/updater_prune.cc:74: tree pruning end, 1 roots, 62 extra nodes, 0 pruned nodes, max_depth=5\n",
      "[06:02:04] /workspace/src/tree/updater_prune.cc:74: tree pruning end, 1 roots, 62 extra nodes, 0 pruned nodes, max_depth=5\n",
      "[06:02:04] /workspace/src/tree/updater_prune.cc:74: tree pruning end, 1 roots, 62 extra nodes, 0 pruned nodes, max_depth=5\n",
      "[06:02:04] /workspace/src/tree/updater_prune.cc:74: tree pruning end, 1 roots, 62 extra nodes, 0 pruned nodes, max_depth=5\n",
      "[06:02:04] /workspace/src/tree/updater_prune.cc:74: tree pruning end, 1 roots, 58 extra nodes, 0 pruned nodes, max_depth=5\n",
      "[06:02:04] /workspace/src/tree/updater_prune.cc:74: tree pruning end, 1 roots, 62 extra nodes, 0 pruned nodes, max_depth=5\n",
      "[06:02:05] /workspace/src/tree/updater_prune.cc:74: tree pruning end, 1 roots, 62 extra nodes, 0 pruned nodes, max_depth=5\n",
      "[06:02:05] /workspace/src/tree/updater_prune.cc:74: tree pruning end, 1 roots, 56 extra nodes, 0 pruned nodes, max_depth=5\n",
      "[06:02:05] /workspace/src/tree/updater_prune.cc:74: tree pruning end, 1 roots, 48 extra nodes, 0 pruned nodes, max_depth=5\n",
      "[06:02:05] /workspace/src/tree/updater_prune.cc:74: tree pruning end, 1 roots, 62 extra nodes, 0 pruned nodes, max_depth=5\n",
      "[06:02:05] /workspace/src/tree/updater_prune.cc:74: tree pruning end, 1 roots, 62 extra nodes, 0 pruned nodes, max_depth=5\n",
      "[06:02:06] /workspace/src/tree/updater_prune.cc:74: tree pruning end, 1 roots, 60 extra nodes, 0 pruned nodes, max_depth=5\n",
      "[06:02:06] /workspace/src/tree/updater_prune.cc:74: tree pruning end, 1 roots, 62 extra nodes, 0 pruned nodes, max_depth=5\n",
      "[06:02:06] /workspace/src/tree/updater_prune.cc:74: tree pruning end, 1 roots, 60 extra nodes, 0 pruned nodes, max_depth=5\n",
      "[06:02:06] /workspace/src/tree/updater_prune.cc:74: tree pruning end, 1 roots, 50 extra nodes, 0 pruned nodes, max_depth=5\n",
      "[06:02:06] /workspace/src/tree/updater_prune.cc:74: tree pruning end, 1 roots, 62 extra nodes, 0 pruned nodes, max_depth=5\n",
      "[06:02:07] /workspace/src/tree/updater_prune.cc:74: tree pruning end, 1 roots, 62 extra nodes, 0 pruned nodes, max_depth=5\n",
      "[06:02:07] /workspace/src/tree/updater_prune.cc:74: tree pruning end, 1 roots, 62 extra nodes, 0 pruned nodes, max_depth=5\n",
      "[06:02:07] /workspace/src/tree/updater_prune.cc:74: tree pruning end, 1 roots, 60 extra nodes, 0 pruned nodes, max_depth=5\n",
      "[06:02:07] /workspace/src/tree/updater_prune.cc:74: tree pruning end, 1 roots, 62 extra nodes, 0 pruned nodes, max_depth=5\n",
      "[06:02:07] /workspace/src/tree/updater_prune.cc:74: tree pruning end, 1 roots, 62 extra nodes, 0 pruned nodes, max_depth=5\n",
      "[06:02:08] /workspace/src/tree/updater_prune.cc:74: tree pruning end, 1 roots, 62 extra nodes, 0 pruned nodes, max_depth=5\n",
      "[06:02:08] /workspace/src/tree/updater_prune.cc:74: tree pruning end, 1 roots, 50 extra nodes, 0 pruned nodes, max_depth=5\n",
      "[06:02:08] /workspace/src/tree/updater_prune.cc:74: tree pruning end, 1 roots, 60 extra nodes, 0 pruned nodes, max_depth=5\n",
      "[06:02:08] /workspace/src/tree/updater_prune.cc:74: tree pruning end, 1 roots, 62 extra nodes, 0 pruned nodes, max_depth=5\n",
      "[06:02:08] /workspace/src/tree/updater_prune.cc:74: tree pruning end, 1 roots, 48 extra nodes, 0 pruned nodes, max_depth=5\n",
      "[06:02:08] /workspace/src/tree/updater_prune.cc:74: tree pruning end, 1 roots, 62 extra nodes, 0 pruned nodes, max_depth=5\n"
     ]
    },
    {
     "name": "stdout",
     "output_type": "stream",
     "text": [
      "[06:02:09] /workspace/src/tree/updater_prune.cc:74: tree pruning end, 1 roots, 54 extra nodes, 0 pruned nodes, max_depth=5\n",
      "[06:02:09] /workspace/src/tree/updater_prune.cc:74: tree pruning end, 1 roots, 62 extra nodes, 0 pruned nodes, max_depth=5\n",
      "[06:02:09] /workspace/src/tree/updater_prune.cc:74: tree pruning end, 1 roots, 62 extra nodes, 0 pruned nodes, max_depth=5\n",
      "[06:02:09] /workspace/src/tree/updater_prune.cc:74: tree pruning end, 1 roots, 62 extra nodes, 0 pruned nodes, max_depth=5\n",
      "[06:02:09] /workspace/src/tree/updater_prune.cc:74: tree pruning end, 1 roots, 60 extra nodes, 0 pruned nodes, max_depth=5\n",
      "[06:02:10] /workspace/src/tree/updater_prune.cc:74: tree pruning end, 1 roots, 50 extra nodes, 0 pruned nodes, max_depth=5\n",
      "[06:02:10] /workspace/src/tree/updater_prune.cc:74: tree pruning end, 1 roots, 50 extra nodes, 0 pruned nodes, max_depth=5\n",
      "[06:02:10] /workspace/src/tree/updater_prune.cc:74: tree pruning end, 1 roots, 62 extra nodes, 0 pruned nodes, max_depth=5\n",
      "[06:02:10] /workspace/src/tree/updater_prune.cc:74: tree pruning end, 1 roots, 62 extra nodes, 0 pruned nodes, max_depth=5\n",
      "[06:02:10] /workspace/src/tree/updater_prune.cc:74: tree pruning end, 1 roots, 62 extra nodes, 0 pruned nodes, max_depth=5\n",
      "[06:02:11] /workspace/src/tree/updater_prune.cc:74: tree pruning end, 1 roots, 48 extra nodes, 0 pruned nodes, max_depth=5\n",
      "[06:02:11] /workspace/src/tree/updater_prune.cc:74: tree pruning end, 1 roots, 62 extra nodes, 0 pruned nodes, max_depth=5\n",
      "[06:02:11] /workspace/src/tree/updater_prune.cc:74: tree pruning end, 1 roots, 60 extra nodes, 0 pruned nodes, max_depth=5\n",
      "[06:02:11] /workspace/src/tree/updater_prune.cc:74: tree pruning end, 1 roots, 62 extra nodes, 0 pruned nodes, max_depth=5\n",
      "[06:02:11] /workspace/src/tree/updater_prune.cc:74: tree pruning end, 1 roots, 62 extra nodes, 0 pruned nodes, max_depth=5\n",
      "[06:02:12] /workspace/src/tree/updater_prune.cc:74: tree pruning end, 1 roots, 62 extra nodes, 0 pruned nodes, max_depth=5\n",
      "[06:02:12] /workspace/src/tree/updater_prune.cc:74: tree pruning end, 1 roots, 52 extra nodes, 0 pruned nodes, max_depth=5\n",
      "[06:02:12] /workspace/src/tree/updater_prune.cc:74: tree pruning end, 1 roots, 54 extra nodes, 0 pruned nodes, max_depth=5\n",
      "[06:02:12] /workspace/src/tree/updater_prune.cc:74: tree pruning end, 1 roots, 62 extra nodes, 0 pruned nodes, max_depth=5\n",
      "[06:02:12] /workspace/src/tree/updater_prune.cc:74: tree pruning end, 1 roots, 62 extra nodes, 0 pruned nodes, max_depth=5\n",
      "[06:02:13] /workspace/src/tree/updater_prune.cc:74: tree pruning end, 1 roots, 62 extra nodes, 0 pruned nodes, max_depth=5\n",
      "[06:02:13] /workspace/src/tree/updater_prune.cc:74: tree pruning end, 1 roots, 60 extra nodes, 0 pruned nodes, max_depth=5\n",
      "[06:02:13] /workspace/src/tree/updater_prune.cc:74: tree pruning end, 1 roots, 58 extra nodes, 0 pruned nodes, max_depth=5\n",
      "[06:02:13] /workspace/src/tree/updater_prune.cc:74: tree pruning end, 1 roots, 60 extra nodes, 0 pruned nodes, max_depth=5\n",
      "[06:02:13] /workspace/src/tree/updater_prune.cc:74: tree pruning end, 1 roots, 60 extra nodes, 0 pruned nodes, max_depth=5\n",
      "[06:02:14] /workspace/src/tree/updater_prune.cc:74: tree pruning end, 1 roots, 60 extra nodes, 0 pruned nodes, max_depth=5\n",
      "[06:02:14] /workspace/src/tree/updater_prune.cc:74: tree pruning end, 1 roots, 62 extra nodes, 0 pruned nodes, max_depth=5\n",
      "[06:02:14] /workspace/src/tree/updater_prune.cc:74: tree pruning end, 1 roots, 60 extra nodes, 0 pruned nodes, max_depth=5\n",
      "[06:02:14] /workspace/src/tree/updater_prune.cc:74: tree pruning end, 1 roots, 60 extra nodes, 0 pruned nodes, max_depth=5\n",
      "[06:02:14] /workspace/src/tree/updater_prune.cc:74: tree pruning end, 1 roots, 62 extra nodes, 0 pruned nodes, max_depth=5\n",
      "[06:02:14] /workspace/src/tree/updater_prune.cc:74: tree pruning end, 1 roots, 60 extra nodes, 0 pruned nodes, max_depth=5\n",
      "[06:02:15] /workspace/src/tree/updater_prune.cc:74: tree pruning end, 1 roots, 62 extra nodes, 0 pruned nodes, max_depth=5\n",
      "[06:02:15] /workspace/src/tree/updater_prune.cc:74: tree pruning end, 1 roots, 62 extra nodes, 0 pruned nodes, max_depth=5\n",
      "[06:02:15] /workspace/src/tree/updater_prune.cc:74: tree pruning end, 1 roots, 52 extra nodes, 0 pruned nodes, max_depth=5\n",
      "[06:02:15] /workspace/src/tree/updater_prune.cc:74: tree pruning end, 1 roots, 62 extra nodes, 0 pruned nodes, max_depth=5\n",
      "[06:02:15] /workspace/src/tree/updater_prune.cc:74: tree pruning end, 1 roots, 60 extra nodes, 0 pruned nodes, max_depth=5\n",
      "[06:02:16] /workspace/src/tree/updater_prune.cc:74: tree pruning end, 1 roots, 62 extra nodes, 0 pruned nodes, max_depth=5\n",
      "[06:02:16] /workspace/src/tree/updater_prune.cc:74: tree pruning end, 1 roots, 62 extra nodes, 0 pruned nodes, max_depth=5\n",
      "[06:02:16] /workspace/src/tree/updater_prune.cc:74: tree pruning end, 1 roots, 56 extra nodes, 0 pruned nodes, max_depth=5\n",
      "[06:02:16] /workspace/src/tree/updater_prune.cc:74: tree pruning end, 1 roots, 62 extra nodes, 0 pruned nodes, max_depth=5\n",
      "[06:02:16] /workspace/src/tree/updater_prune.cc:74: tree pruning end, 1 roots, 62 extra nodes, 0 pruned nodes, max_depth=5\n",
      "[06:02:17] /workspace/src/tree/updater_prune.cc:74: tree pruning end, 1 roots, 60 extra nodes, 0 pruned nodes, max_depth=5\n",
      "[06:02:17] /workspace/src/tree/updater_prune.cc:74: tree pruning end, 1 roots, 58 extra nodes, 0 pruned nodes, max_depth=5\n",
      "[06:02:17] /workspace/src/tree/updater_prune.cc:74: tree pruning end, 1 roots, 62 extra nodes, 0 pruned nodes, max_depth=5\n",
      "[06:02:17] /workspace/src/tree/updater_prune.cc:74: tree pruning end, 1 roots, 62 extra nodes, 0 pruned nodes, max_depth=5\n",
      "[06:02:17] /workspace/src/tree/updater_prune.cc:74: tree pruning end, 1 roots, 62 extra nodes, 0 pruned nodes, max_depth=5\n",
      "[06:02:18] /workspace/src/tree/updater_prune.cc:74: tree pruning end, 1 roots, 62 extra nodes, 0 pruned nodes, max_depth=5\n",
      "[06:02:18] /workspace/src/tree/updater_prune.cc:74: tree pruning end, 1 roots, 62 extra nodes, 0 pruned nodes, max_depth=5\n",
      "[06:02:18] /workspace/src/tree/updater_prune.cc:74: tree pruning end, 1 roots, 40 extra nodes, 0 pruned nodes, max_depth=5\n",
      "[06:02:18] /workspace/src/tree/updater_prune.cc:74: tree pruning end, 1 roots, 56 extra nodes, 0 pruned nodes, max_depth=5\n",
      "[06:02:18] /workspace/src/tree/updater_prune.cc:74: tree pruning end, 1 roots, 62 extra nodes, 0 pruned nodes, max_depth=5\n",
      "[06:02:19] /workspace/src/tree/updater_prune.cc:74: tree pruning end, 1 roots, 62 extra nodes, 0 pruned nodes, max_depth=5\n",
      "[06:02:19] /workspace/src/tree/updater_prune.cc:74: tree pruning end, 1 roots, 60 extra nodes, 0 pruned nodes, max_depth=5\n",
      "[06:02:19] /workspace/src/tree/updater_prune.cc:74: tree pruning end, 1 roots, 62 extra nodes, 0 pruned nodes, max_depth=5\n",
      "[06:02:19] /workspace/src/tree/updater_prune.cc:74: tree pruning end, 1 roots, 62 extra nodes, 0 pruned nodes, max_depth=5\n",
      "[06:02:19] /workspace/src/tree/updater_prune.cc:74: tree pruning end, 1 roots, 62 extra nodes, 0 pruned nodes, max_depth=5\n",
      "[06:02:20] /workspace/src/tree/updater_prune.cc:74: tree pruning end, 1 roots, 62 extra nodes, 0 pruned nodes, max_depth=5\n",
      "[06:02:20] /workspace/src/tree/updater_prune.cc:74: tree pruning end, 1 roots, 62 extra nodes, 0 pruned nodes, max_depth=5\n",
      "[06:02:20] /workspace/src/tree/updater_prune.cc:74: tree pruning end, 1 roots, 56 extra nodes, 0 pruned nodes, max_depth=5\n",
      "[06:02:20] /workspace/src/tree/updater_prune.cc:74: tree pruning end, 1 roots, 56 extra nodes, 0 pruned nodes, max_depth=5\n",
      "[06:02:20] /workspace/src/tree/updater_prune.cc:74: tree pruning end, 1 roots, 54 extra nodes, 0 pruned nodes, max_depth=5\n",
      "[06:02:20] /workspace/src/tree/updater_prune.cc:74: tree pruning end, 1 roots, 58 extra nodes, 0 pruned nodes, max_depth=5\n",
      "[06:02:21] /workspace/src/tree/updater_prune.cc:74: tree pruning end, 1 roots, 60 extra nodes, 0 pruned nodes, max_depth=5\n",
      "[06:02:21] /workspace/src/tree/updater_prune.cc:74: tree pruning end, 1 roots, 44 extra nodes, 0 pruned nodes, max_depth=5\n",
      "Done. Time taken : 0:00:39.743541\n",
      "\n",
      "Done \n",
      "\n",
      "Evaluating the model with TRAIN data...\n",
      "Evaluating Test data\n",
      "\n",
      "TEST DATA\n",
      "------------------------------\n",
      "RMSE :  1.0717650006200605\n",
      "MAPE :  33.76740239783793\n"
     ]
    }
   ],
   "source": [
    "# prepare train data\n",
    "x_train = reg_train.drop(['user', 'movie','rating'], axis=1)\n",
    "y_train = reg_train['rating']\n",
    "\n",
    "# Prepare Test data\n",
    "x_test = reg_test_df.drop(['user','movie','rating'], axis=1)\n",
    "y_test = reg_test_df['rating']\n",
    "\n",
    "# initialize Our first XGBoost model...\n",
    "best_n_estimators,best_max_depth = hyperparametertune_xgboost(x_train, y_train)\n",
    "\n",
    "xgb_bsl = xgb.XGBRegressor(silent=False, n_jobs=13, random_state=15, n_estimators=best_n_estimators ,max_depth =best_max_depth)\n",
    "train_results, test_results = run_xgboost(xgb_bsl, x_train, y_train, x_test, y_test)\n",
    "\n",
    "# store the results in models_evaluations dictionaries\n",
    "models_evaluation_train['xgb_bsl'] = train_results\n",
    "models_evaluation_test['xgb_bsl'] = test_results\n",
    "\n",
    "xgb.plot_importance(xgb_bsl)\n",
    "plt.show()\n"
   ]
  },
  {
   "cell_type": "markdown",
   "metadata": {
    "colab_type": "text",
    "id": "xiJEJeiyxrrc"
   },
   "source": [
    " "
   ]
  },
  {
   "cell_type": "markdown",
   "metadata": {
    "colab_type": "text",
    "id": "1g0yVadzxrrh"
   },
   "source": [
    " "
   ]
  },
  {
   "cell_type": "markdown",
   "metadata": {
    "colab_type": "text",
    "id": "2w39xJPlxrrh"
   },
   "source": [
    "<h3> 4.4.4 Surprise KNNBaseline predictor </h3>"
   ]
  },
  {
   "cell_type": "code",
   "execution_count": 44,
   "metadata": {
    "colab": {},
    "colab_type": "code",
    "id": "QaJlXYiKxrrh"
   },
   "outputs": [],
   "source": [
    "from surprise import KNNBaseline"
   ]
  },
  {
   "cell_type": "markdown",
   "metadata": {
    "colab_type": "text",
    "id": "VCI_ZO0uxrrm"
   },
   "source": [
    "  <h4> 4.4.4.1 Surprise KNNBaseline with user user similarities</h4>"
   ]
  },
  {
   "cell_type": "code",
   "execution_count": 45,
   "metadata": {
    "colab": {},
    "colab_type": "code",
    "id": "wzIDc0Z9xrrm",
    "outputId": "3b216a14-66a1-41be-ccdd-586d890a0efd",
    "scrolled": false
   },
   "outputs": [
    {
     "name": "stdout",
     "output_type": "stream",
     "text": [
      "Training the model...\n",
      "Estimating biases using sgd...\n",
      "Computing the pearson_baseline similarity matrix...\n",
      "Done computing similarity matrix.\n",
      "Done. time taken : 0:06:30.016576 \n",
      "\n",
      "Evaluating the model with train data..\n",
      "time taken : 0:21:45.397281\n",
      "---------------\n",
      "Train Data\n",
      "---------------\n",
      "RMSE : 0.4536279292470732\n",
      "\n",
      "MAPE : 12.840252350475915\n",
      "\n",
      "adding train results in the dictionary..\n",
      "\n",
      "Evaluating for test data...\n",
      "time taken : 0:00:00.122927\n",
      "---------------\n",
      "Test Data\n",
      "---------------\n",
      "RMSE : 1.0651583775048283\n",
      "\n",
      "MAPE : 34.3955649993566\n",
      "\n",
      "storing the test results in test dictionary...\n",
      "\n",
      "---------------------------------------------\n",
      "Total time taken to run this algorithm : 0:28:15.537994\n"
     ]
    }
   ],
   "source": [
    "# we specify , how to compute similarities and what to consider with sim_options to our algorithm\n",
    "sim_options = {'user_based' : True,\n",
    "               'name': 'pearson_baseline',\n",
    "               'shrinkage': 100,\n",
    "               'min_support': 2\n",
    "              } \n",
    "# we keep other parameters like regularization parameter and learning_rate as default values.\n",
    "bsl_options = {'method': 'sgd'} \n",
    "\n",
    "knn_bsl_u = KNNBaseline(k=40, sim_options = sim_options, bsl_options = bsl_options)\n",
    "knn_bsl_u_train_results, knn_bsl_u_test_results = run_surprise(knn_bsl_u, trainset, testset, verbose=True)\n",
    "\n",
    "# Just store these error metrics in our models_evaluation datastructure\n",
    "models_evaluation_train['knn_bsl_u'] = knn_bsl_u_train_results \n",
    "models_evaluation_test['knn_bsl_u'] = knn_bsl_u_test_results\n"
   ]
  },
  {
   "cell_type": "markdown",
   "metadata": {
    "colab_type": "text",
    "id": "Kd9yvmiLxrro"
   },
   "source": [
    "<h4> 4.4.4.2 Surprise KNNBaseline with movie movie similarities</h4>"
   ]
  },
  {
   "cell_type": "code",
   "execution_count": 46,
   "metadata": {
    "colab": {},
    "colab_type": "code",
    "id": "XGv1yjv9xrro",
    "outputId": "6e1164ed-6151-49d1-d55a-b6c8e109cf23"
   },
   "outputs": [
    {
     "name": "stdout",
     "output_type": "stream",
     "text": [
      "Training the model...\n",
      "Estimating biases using sgd...\n",
      "Computing the pearson_baseline similarity matrix...\n",
      "Done computing similarity matrix.\n",
      "Done. time taken : 0:00:12.816743 \n",
      "\n",
      "Evaluating the model with train data..\n",
      "time taken : 0:01:41.679245\n",
      "---------------\n",
      "Train Data\n",
      "---------------\n",
      "RMSE : 0.5038994796517224\n",
      "\n",
      "MAPE : 14.168515366483724\n",
      "\n",
      "adding train results in the dictionary..\n",
      "\n",
      "Evaluating for test data...\n",
      "time taken : 0:00:00.084095\n",
      "---------------\n",
      "Test Data\n",
      "---------------\n",
      "RMSE : 1.066111028261093\n",
      "\n",
      "MAPE : 34.41196670639251\n",
      "\n",
      "storing the test results in test dictionary...\n",
      "\n",
      "---------------------------------------------\n",
      "Total time taken to run this algorithm : 0:01:54.580922\n"
     ]
    }
   ],
   "source": [
    "# we specify , how to compute similarities and what to consider with sim_options to our algorithm\n",
    "\n",
    "# 'user_based' : Fals => this considers the similarities of movies instead of users\n",
    "\n",
    "sim_options = {'user_based' : False,\n",
    "               'name': 'pearson_baseline',\n",
    "               'shrinkage': 100,\n",
    "               'min_support': 2\n",
    "              } \n",
    "# we keep other parameters like regularization parameter and learning_rate as default values.\n",
    "bsl_options = {'method': 'sgd'}\n",
    "\n",
    "\n",
    "knn_bsl_m = KNNBaseline(k=40, sim_options = sim_options, bsl_options = bsl_options)\n",
    "\n",
    "knn_bsl_m_train_results, knn_bsl_m_test_results = run_surprise(knn_bsl_m, trainset, testset, verbose=True)\n",
    "\n",
    "# Just store these error metrics in our models_evaluation datastructure\n",
    "models_evaluation_train['knn_bsl_m'] = knn_bsl_m_train_results \n",
    "models_evaluation_test['knn_bsl_m'] = knn_bsl_m_test_results\n"
   ]
  },
  {
   "cell_type": "markdown",
   "metadata": {
    "colab_type": "text",
    "id": "4fSwE4hxxrrr"
   },
   "source": [
    " "
   ]
  },
  {
   "cell_type": "markdown",
   "metadata": {
    "colab_type": "text",
    "id": "BFN8SP06xrrr"
   },
   "source": [
    "<h3> 4.4.5 XGBoost with initial 13 features + Surprise Baseline predictor + KNNBaseline predictor </h3>"
   ]
  },
  {
   "cell_type": "markdown",
   "metadata": {
    "colab_type": "text",
    "id": "DNs8hRmfxrrr"
   },
   "source": [
    "__Preparing Train data __"
   ]
  },
  {
   "cell_type": "code",
   "execution_count": 47,
   "metadata": {
    "colab": {},
    "colab_type": "code",
    "id": "fz7NsHUHxrrr",
    "outputId": "e3025e82-1136-4f0a-8b79-524498c5b46f"
   },
   "outputs": [
    {
     "data": {
      "text/html": [
       "<div>\n",
       "<style scoped>\n",
       "    .dataframe tbody tr th:only-of-type {\n",
       "        vertical-align: middle;\n",
       "    }\n",
       "\n",
       "    .dataframe tbody tr th {\n",
       "        vertical-align: top;\n",
       "    }\n",
       "\n",
       "    .dataframe thead th {\n",
       "        text-align: right;\n",
       "    }\n",
       "</style>\n",
       "<table border=\"1\" class=\"dataframe\">\n",
       "  <thead>\n",
       "    <tr style=\"text-align: right;\">\n",
       "      <th></th>\n",
       "      <th>user</th>\n",
       "      <th>movie</th>\n",
       "      <th>GAvg</th>\n",
       "      <th>sur1</th>\n",
       "      <th>sur2</th>\n",
       "      <th>sur3</th>\n",
       "      <th>sur4</th>\n",
       "      <th>sur5</th>\n",
       "      <th>smr1</th>\n",
       "      <th>smr2</th>\n",
       "      <th>smr3</th>\n",
       "      <th>smr4</th>\n",
       "      <th>smr5</th>\n",
       "      <th>UAvg</th>\n",
       "      <th>MAvg</th>\n",
       "      <th>rating</th>\n",
       "      <th>bslpr</th>\n",
       "      <th>knn_bsl_u</th>\n",
       "      <th>knn_bsl_m</th>\n",
       "    </tr>\n",
       "  </thead>\n",
       "  <tbody>\n",
       "    <tr>\n",
       "      <th>0</th>\n",
       "      <td>174683</td>\n",
       "      <td>10</td>\n",
       "      <td>3.587581</td>\n",
       "      <td>5.0</td>\n",
       "      <td>5.0</td>\n",
       "      <td>3.0</td>\n",
       "      <td>4.0</td>\n",
       "      <td>4.0</td>\n",
       "      <td>3.0</td>\n",
       "      <td>5.0</td>\n",
       "      <td>4.0</td>\n",
       "      <td>3.0</td>\n",
       "      <td>2.0</td>\n",
       "      <td>3.882353</td>\n",
       "      <td>3.611111</td>\n",
       "      <td>5</td>\n",
       "      <td>3.681393</td>\n",
       "      <td>4.984495</td>\n",
       "      <td>4.884782</td>\n",
       "    </tr>\n",
       "    <tr>\n",
       "      <th>1</th>\n",
       "      <td>233949</td>\n",
       "      <td>10</td>\n",
       "      <td>3.587581</td>\n",
       "      <td>4.0</td>\n",
       "      <td>4.0</td>\n",
       "      <td>5.0</td>\n",
       "      <td>1.0</td>\n",
       "      <td>3.0</td>\n",
       "      <td>2.0</td>\n",
       "      <td>3.0</td>\n",
       "      <td>2.0</td>\n",
       "      <td>3.0</td>\n",
       "      <td>3.0</td>\n",
       "      <td>2.692308</td>\n",
       "      <td>3.611111</td>\n",
       "      <td>3</td>\n",
       "      <td>3.720150</td>\n",
       "      <td>3.181296</td>\n",
       "      <td>3.295934</td>\n",
       "    </tr>\n",
       "  </tbody>\n",
       "</table>\n",
       "</div>"
      ],
      "text/plain": [
       "     user  movie      GAvg  sur1  sur2  sur3  sur4  sur5  smr1  smr2  smr3  \\\n",
       "0  174683     10  3.587581   5.0   5.0   3.0   4.0   4.0   3.0   5.0   4.0   \n",
       "1  233949     10  3.587581   4.0   4.0   5.0   1.0   3.0   2.0   3.0   2.0   \n",
       "\n",
       "   smr4  smr5      UAvg      MAvg  rating     bslpr  knn_bsl_u  knn_bsl_m  \n",
       "0   3.0   2.0  3.882353  3.611111       5  3.681393   4.984495   4.884782  \n",
       "1   3.0   3.0  2.692308  3.611111       3  3.720150   3.181296   3.295934  "
      ]
     },
     "execution_count": 47,
     "metadata": {},
     "output_type": "execute_result"
    }
   ],
   "source": [
    "# add the predicted values from both knns to this dataframe\n",
    "reg_train['knn_bsl_u'] = models_evaluation_train['knn_bsl_u']['predictions']\n",
    "reg_train['knn_bsl_m'] = models_evaluation_train['knn_bsl_m']['predictions']\n",
    "\n",
    "reg_train.head(2)"
   ]
  },
  {
   "cell_type": "markdown",
   "metadata": {
    "colab_type": "text",
    "id": "v_Hz6_buxrrw"
   },
   "source": [
    "__Preparing Test data  __"
   ]
  },
  {
   "cell_type": "code",
   "execution_count": 48,
   "metadata": {
    "colab": {},
    "colab_type": "code",
    "id": "BQCT1Vaexrrx",
    "outputId": "7137cabd-a1cb-46a6-b64f-937a1d7e407f"
   },
   "outputs": [
    {
     "data": {
      "text/html": [
       "<div>\n",
       "<style scoped>\n",
       "    .dataframe tbody tr th:only-of-type {\n",
       "        vertical-align: middle;\n",
       "    }\n",
       "\n",
       "    .dataframe tbody tr th {\n",
       "        vertical-align: top;\n",
       "    }\n",
       "\n",
       "    .dataframe thead th {\n",
       "        text-align: right;\n",
       "    }\n",
       "</style>\n",
       "<table border=\"1\" class=\"dataframe\">\n",
       "  <thead>\n",
       "    <tr style=\"text-align: right;\">\n",
       "      <th></th>\n",
       "      <th>user</th>\n",
       "      <th>movie</th>\n",
       "      <th>GAvg</th>\n",
       "      <th>sur1</th>\n",
       "      <th>sur2</th>\n",
       "      <th>sur3</th>\n",
       "      <th>sur4</th>\n",
       "      <th>sur5</th>\n",
       "      <th>smr1</th>\n",
       "      <th>smr2</th>\n",
       "      <th>smr3</th>\n",
       "      <th>smr4</th>\n",
       "      <th>smr5</th>\n",
       "      <th>UAvg</th>\n",
       "      <th>MAvg</th>\n",
       "      <th>rating</th>\n",
       "      <th>bslpr</th>\n",
       "      <th>knn_bsl_u</th>\n",
       "      <th>knn_bsl_m</th>\n",
       "    </tr>\n",
       "  </thead>\n",
       "  <tbody>\n",
       "    <tr>\n",
       "      <th>0</th>\n",
       "      <td>808635</td>\n",
       "      <td>71</td>\n",
       "      <td>3.587581</td>\n",
       "      <td>3.587581</td>\n",
       "      <td>3.587581</td>\n",
       "      <td>3.587581</td>\n",
       "      <td>3.587581</td>\n",
       "      <td>3.587581</td>\n",
       "      <td>3.587581</td>\n",
       "      <td>3.587581</td>\n",
       "      <td>3.587581</td>\n",
       "      <td>3.587581</td>\n",
       "      <td>3.587581</td>\n",
       "      <td>3.587581</td>\n",
       "      <td>3.587581</td>\n",
       "      <td>5</td>\n",
       "      <td>3.587581</td>\n",
       "      <td>3.587581</td>\n",
       "      <td>3.587581</td>\n",
       "    </tr>\n",
       "    <tr>\n",
       "      <th>1</th>\n",
       "      <td>941866</td>\n",
       "      <td>71</td>\n",
       "      <td>3.587581</td>\n",
       "      <td>3.587581</td>\n",
       "      <td>3.587581</td>\n",
       "      <td>3.587581</td>\n",
       "      <td>3.587581</td>\n",
       "      <td>3.587581</td>\n",
       "      <td>3.587581</td>\n",
       "      <td>3.587581</td>\n",
       "      <td>3.587581</td>\n",
       "      <td>3.587581</td>\n",
       "      <td>3.587581</td>\n",
       "      <td>3.587581</td>\n",
       "      <td>3.587581</td>\n",
       "      <td>4</td>\n",
       "      <td>3.587581</td>\n",
       "      <td>3.587581</td>\n",
       "      <td>3.587581</td>\n",
       "    </tr>\n",
       "  </tbody>\n",
       "</table>\n",
       "</div>"
      ],
      "text/plain": [
       "     user  movie      GAvg      sur1      sur2      sur3      sur4      sur5  \\\n",
       "0  808635     71  3.587581  3.587581  3.587581  3.587581  3.587581  3.587581   \n",
       "1  941866     71  3.587581  3.587581  3.587581  3.587581  3.587581  3.587581   \n",
       "\n",
       "       smr1      smr2      smr3      smr4      smr5      UAvg      MAvg  \\\n",
       "0  3.587581  3.587581  3.587581  3.587581  3.587581  3.587581  3.587581   \n",
       "1  3.587581  3.587581  3.587581  3.587581  3.587581  3.587581  3.587581   \n",
       "\n",
       "   rating     bslpr  knn_bsl_u  knn_bsl_m  \n",
       "0       5  3.587581   3.587581   3.587581  \n",
       "1       4  3.587581   3.587581   3.587581  "
      ]
     },
     "execution_count": 48,
     "metadata": {},
     "output_type": "execute_result"
    }
   ],
   "source": [
    "reg_test_df['knn_bsl_u'] = models_evaluation_test['knn_bsl_u']['predictions']\n",
    "reg_test_df['knn_bsl_m'] = models_evaluation_test['knn_bsl_m']['predictions']\n",
    "\n",
    "reg_test_df.head(2)"
   ]
  },
  {
   "cell_type": "code",
   "execution_count": 49,
   "metadata": {
    "colab": {},
    "colab_type": "code",
    "id": "wZ2khR0Oxrrz",
    "outputId": "fc95b5f1-6eaf-4398-8015-729096e3629c"
   },
   "outputs": [
    {
     "name": "stdout",
     "output_type": "stream",
     "text": [
      "Fitting 3 folds for each of 9 candidates, totalling 27 fits\n",
      "[CV] max_depth=3, n_estimators=100 ...................................\n",
      "[CV] max_depth=3, n_estimators=100 ...................................\n",
      "[CV] max_depth=3, n_estimators=100 ...................................\n",
      "[CV] max_depth=3, n_estimators=200 ...................................\n",
      "[CV] max_depth=3, n_estimators=200 ...................................\n",
      "[CV] max_depth=3, n_estimators=200 ...................................\n",
      "[CV] max_depth=3, n_estimators=500 ...................................\n",
      "[CV] max_depth=3, n_estimators=500 ...................................\n",
      "[CV] max_depth=3, n_estimators=500 ...................................\n",
      "[CV] max_depth=5, n_estimators=100 ...................................\n",
      "[CV] max_depth=5, n_estimators=100 ...................................\n",
      "[CV] max_depth=5, n_estimators=100 ...................................\n",
      "[CV] max_depth=5, n_estimators=200 ...................................\n",
      "[CV] max_depth=5, n_estimators=200 ...................................\n",
      "[CV] max_depth=5, n_estimators=200 ...................................\n",
      "[CV] max_depth=5, n_estimators=500 ...................................\n",
      "[CV]  max_depth=3, n_estimators=100, score=0.3908287881398132, total= 1.5min\n",
      "[CV] max_depth=5, n_estimators=500 ...................................\n",
      "[CV]  max_depth=3, n_estimators=100, score=0.34522430869278, total= 1.6min\n",
      "[CV] max_depth=5, n_estimators=500 ...................................\n"
     ]
    },
    {
     "name": "stderr",
     "output_type": "stream",
     "text": [
      "[Parallel(n_jobs=-1)]: Done   2 out of  27 | elapsed:  1.7min remaining: 21.2min\n"
     ]
    },
    {
     "name": "stdout",
     "output_type": "stream",
     "text": [
      "[CV]  max_depth=3, n_estimators=100, score=0.35308002539068883, total= 1.7min\n",
      "[CV] max_depth=10, n_estimators=100 ..................................\n",
      "[CV]  max_depth=5, n_estimators=100, score=0.3470991535501775, total= 2.8min\n",
      "[CV] max_depth=10, n_estimators=100 ..................................\n",
      "[CV]  max_depth=3, n_estimators=200, score=0.35457952610390175, total= 2.9min\n",
      "[CV] max_depth=10, n_estimators=100 ..................................\n"
     ]
    },
    {
     "name": "stderr",
     "output_type": "stream",
     "text": [
      "[Parallel(n_jobs=-1)]: Done   5 out of  27 | elapsed:  3.0min remaining: 13.1min\n"
     ]
    },
    {
     "name": "stdout",
     "output_type": "stream",
     "text": [
      "[CV]  max_depth=5, n_estimators=100, score=0.35541291360437144, total= 2.9min\n",
      "[CV] max_depth=10, n_estimators=200 ..................................\n",
      "[CV]  max_depth=3, n_estimators=200, score=0.3925215593384972, total= 3.0min\n",
      "[CV] max_depth=10, n_estimators=200 ..................................\n",
      "[CV]  max_depth=5, n_estimators=100, score=0.39355271617032744, total= 3.1min\n",
      "[CV] max_depth=10, n_estimators=200 ..................................\n"
     ]
    },
    {
     "name": "stderr",
     "output_type": "stream",
     "text": [
      "[Parallel(n_jobs=-1)]: Done   8 out of  27 | elapsed:  3.2min remaining:  7.6min\n"
     ]
    },
    {
     "name": "stdout",
     "output_type": "stream",
     "text": [
      "[CV]  max_depth=3, n_estimators=200, score=0.34623341196714874, total= 3.2min\n",
      "[CV] max_depth=10, n_estimators=500 ..................................\n",
      "[CV]  max_depth=5, n_estimators=200, score=0.34738668965655584, total= 5.1min\n",
      "[CV] max_depth=10, n_estimators=500 ..................................\n",
      "[CV]  max_depth=5, n_estimators=200, score=0.3936366976055068, total= 5.5min\n",
      "[CV] max_depth=10, n_estimators=500 ..................................\n"
     ]
    },
    {
     "name": "stderr",
     "output_type": "stream",
     "text": [
      "[Parallel(n_jobs=-1)]: Done  11 out of  27 | elapsed:  5.7min remaining:  8.3min\n"
     ]
    },
    {
     "name": "stdout",
     "output_type": "stream",
     "text": [
      "[CV]  max_depth=5, n_estimators=200, score=0.35596667155661343, total= 5.6min\n",
      "[CV]  max_depth=3, n_estimators=500, score=0.35578347246633, total= 6.9min\n",
      "[CV]  max_depth=3, n_estimators=500, score=0.3927887616190398, total= 7.0min\n"
     ]
    },
    {
     "name": "stderr",
     "output_type": "stream",
     "text": [
      "[Parallel(n_jobs=-1)]: Done  14 out of  27 | elapsed:  7.3min remaining:  6.7min\n"
     ]
    },
    {
     "name": "stdout",
     "output_type": "stream",
     "text": [
      "[CV]  max_depth=3, n_estimators=500, score=0.34666092191414644, total= 7.2min\n",
      "[CV]  max_depth=10, n_estimators=100, score=0.35378882973586034, total= 6.6min\n",
      "[CV]  max_depth=10, n_estimators=100, score=0.3452480461429277, total= 5.8min\n"
     ]
    },
    {
     "name": "stderr",
     "output_type": "stream",
     "text": [
      "[Parallel(n_jobs=-1)]: Done  17 out of  27 | elapsed:  8.9min remaining:  5.2min\n"
     ]
    },
    {
     "name": "stdout",
     "output_type": "stream",
     "text": [
      "[CV]  max_depth=10, n_estimators=100, score=0.39072485432277193, total= 6.0min\n",
      "[CV]  max_depth=5, n_estimators=500, score=0.35577448535440614, total=11.1min\n",
      "[CV]  max_depth=5, n_estimators=500, score=0.3931221259744019, total=10.3min\n"
     ]
    },
    {
     "name": "stderr",
     "output_type": "stream",
     "text": [
      "[Parallel(n_jobs=-1)]: Done  20 out of  27 | elapsed: 12.1min remaining:  4.2min\n"
     ]
    },
    {
     "name": "stdout",
     "output_type": "stream",
     "text": [
      "[CV]  max_depth=5, n_estimators=500, score=0.34678193515310296, total=10.4min\n",
      "[CV]  max_depth=10, n_estimators=200, score=0.3874262119586236, total= 9.2min\n",
      "[CV]  max_depth=10, n_estimators=200, score=0.350792024843279, total= 9.5min\n"
     ]
    },
    {
     "name": "stderr",
     "output_type": "stream",
     "text": [
      "[Parallel(n_jobs=-1)]: Done  23 out of  27 | elapsed: 12.8min remaining:  2.2min\n"
     ]
    },
    {
     "name": "stdout",
     "output_type": "stream",
     "text": [
      "[CV]  max_depth=10, n_estimators=200, score=0.34308269624828736, total= 9.7min\n",
      "[CV]  max_depth=10, n_estimators=500, score=0.3454143047737188, total=17.6min\n",
      "[CV]  max_depth=10, n_estimators=500, score=0.3816864466368638, total=16.0min\n",
      "[CV]  max_depth=10, n_estimators=500, score=0.33798065588767745, total=16.0min\n"
     ]
    },
    {
     "name": "stderr",
     "output_type": "stream",
     "text": [
      "[Parallel(n_jobs=-1)]: Done  27 out of  27 | elapsed: 22.4min finished\n"
     ]
    },
    {
     "name": "stdout",
     "output_type": "stream",
     "text": [
      "Training the model..\n",
      "Done. Time taken : 0:00:45.643673\n",
      "\n",
      "Done \n",
      "\n",
      "Evaluating the model with TRAIN data...\n",
      "Evaluating Test data\n",
      "\n",
      "TEST DATA\n",
      "------------------------------\n",
      "RMSE :  1.0810948687615936\n",
      "MAPE :  33.357433066800965\n"
     ]
    }
   ],
   "source": [
    "# prepare the train data....\n",
    "x_train = reg_train.drop(['user', 'movie', 'rating'], axis=1)\n",
    "y_train = reg_train['rating']\n",
    "\n",
    "# prepare the train data....\n",
    "x_test = reg_test_df.drop(['user','movie','rating'], axis=1)\n",
    "y_test = reg_test_df['rating']\n",
    "\n",
    "# declare the model\n",
    "best_n_estimators,best_max_depth = hyperparametertune_xgboost(x_train, y_train)\n",
    "\n",
    "xgb_knn_bsl = xgb.XGBRegressor(n_jobs=10, random_state=15,n_estimators = best_n_estimators,max_depth = best_max_depth)\n",
    "train_results, test_results = run_xgboost(xgb_knn_bsl, x_train, y_train, x_test, y_test)\n",
    "\n",
    "# store the results in models_evaluations dictionaries\n",
    "models_evaluation_train['xgb_knn_bsl'] = train_results\n",
    "models_evaluation_test['xgb_knn_bsl'] = test_results\n",
    "\n",
    "\n",
    "xgb.plot_importance(xgb_knn_bsl)\n",
    "plt.show()"
   ]
  },
  {
   "cell_type": "markdown",
   "metadata": {
    "colab_type": "text",
    "id": "kOZ62nT7xrr0"
   },
   "source": [
    "<h3> 4.4.6 Matrix Factorization Techniques </h3>"
   ]
  },
  {
   "cell_type": "markdown",
   "metadata": {
    "colab_type": "text",
    "id": "l8TKj6Ggxrr1"
   },
   "source": [
    "<h4> 4.4.6.1 SVD Matrix Factorization User Movie intractions </h4>"
   ]
  },
  {
   "cell_type": "code",
   "execution_count": 50,
   "metadata": {
    "colab": {},
    "colab_type": "code",
    "id": "PVKeXrzLxrr1"
   },
   "outputs": [],
   "source": [
    "from surprise import SVD"
   ]
  },
  {
   "cell_type": "code",
   "execution_count": 51,
   "metadata": {
    "colab": {},
    "colab_type": "code",
    "id": "SDCetsu-xrr3",
    "outputId": "26accf59-7e7b-4973-9e3f-6a47d2a7c32d",
    "scrolled": false
   },
   "outputs": [
    {
     "name": "stdout",
     "output_type": "stream",
     "text": [
      "Training the model...\n",
      "Processing epoch 0\n",
      "Processing epoch 1\n",
      "Processing epoch 2\n",
      "Processing epoch 3\n",
      "Processing epoch 4\n",
      "Processing epoch 5\n",
      "Processing epoch 6\n",
      "Processing epoch 7\n",
      "Processing epoch 8\n",
      "Processing epoch 9\n",
      "Processing epoch 10\n",
      "Processing epoch 11\n",
      "Processing epoch 12\n",
      "Processing epoch 13\n",
      "Processing epoch 14\n",
      "Processing epoch 15\n",
      "Processing epoch 16\n",
      "Processing epoch 17\n",
      "Processing epoch 18\n",
      "Processing epoch 19\n",
      "Done. time taken : 0:00:48.438233 \n",
      "\n",
      "Evaluating the model with train data..\n",
      "time taken : 0:00:09.337355\n",
      "---------------\n",
      "Train Data\n",
      "---------------\n",
      "RMSE : 0.6746731413267192\n",
      "\n",
      "MAPE : 20.05479554670084\n",
      "\n",
      "adding train results in the dictionary..\n",
      "\n",
      "Evaluating for test data...\n",
      "time taken : 0:00:00.069641\n",
      "---------------\n",
      "Test Data\n",
      "---------------\n",
      "RMSE : 1.06539583258785\n",
      "\n",
      "MAPE : 34.26066030096141\n",
      "\n",
      "storing the test results in test dictionary...\n",
      "\n",
      "---------------------------------------------\n",
      "Total time taken to run this algorithm : 0:00:57.846808\n"
     ]
    }
   ],
   "source": [
    "# initiallize the model\n",
    "svd = SVD(n_factors=100, biased=True, random_state=15, verbose=True)\n",
    "svd_train_results, svd_test_results = run_surprise(svd, trainset, testset, verbose=True)\n",
    "\n",
    "# Just store these error metrics in our models_evaluation datastructure\n",
    "models_evaluation_train['svd'] = svd_train_results \n",
    "models_evaluation_test['svd'] = svd_test_results"
   ]
  },
  {
   "cell_type": "markdown",
   "metadata": {
    "colab_type": "text",
    "id": "ZUujRuPYxrr5"
   },
   "source": [
    " "
   ]
  },
  {
   "cell_type": "markdown",
   "metadata": {
    "colab_type": "text",
    "id": "jmi0We7exrr6"
   },
   "source": [
    "  <h4> 4.4.6.2 SVD Matrix Factorization with implicit feedback from user ( user rated movies ) </h4>"
   ]
  },
  {
   "cell_type": "code",
   "execution_count": 52,
   "metadata": {
    "colab": {},
    "colab_type": "code",
    "id": "-V4gpAlPxrr6"
   },
   "outputs": [],
   "source": [
    "from surprise import SVDpp"
   ]
  },
  {
   "cell_type": "code",
   "execution_count": 53,
   "metadata": {
    "colab": {},
    "colab_type": "code",
    "id": "Ajw3SQdZxrr_",
    "outputId": "d4a9169f-e5da-4c71-9394-2de56687bad3",
    "scrolled": false
   },
   "outputs": [
    {
     "name": "stdout",
     "output_type": "stream",
     "text": [
      "Training the model...\n",
      " processing epoch 0\n",
      " processing epoch 1\n",
      " processing epoch 2\n",
      " processing epoch 3\n",
      " processing epoch 4\n",
      " processing epoch 5\n",
      " processing epoch 6\n",
      " processing epoch 7\n",
      " processing epoch 8\n",
      " processing epoch 9\n",
      " processing epoch 10\n",
      " processing epoch 11\n",
      " processing epoch 12\n",
      " processing epoch 13\n",
      " processing epoch 14\n",
      " processing epoch 15\n",
      " processing epoch 16\n",
      " processing epoch 17\n",
      " processing epoch 18\n",
      " processing epoch 19\n",
      "Done. time taken : 0:33:51.240977 \n",
      "\n",
      "Evaluating the model with train data..\n",
      "time taken : 0:01:40.260522\n",
      "---------------\n",
      "Train Data\n",
      "---------------\n",
      "RMSE : 0.6641918784333875\n",
      "\n",
      "MAPE : 19.24213231265533\n",
      "\n",
      "adding train results in the dictionary..\n",
      "\n",
      "Evaluating for test data...\n",
      "time taken : 0:00:00.085321\n",
      "---------------\n",
      "Test Data\n",
      "---------------\n",
      "RMSE : 1.0664479484659375\n",
      "\n",
      "MAPE : 34.15617562453539\n",
      "\n",
      "storing the test results in test dictionary...\n",
      "\n",
      "---------------------------------------------\n",
      "Total time taken to run this algorithm : 0:35:31.587902\n"
     ]
    }
   ],
   "source": [
    "# initiallize the model\n",
    "svdpp = SVDpp(n_factors=50, random_state=15, verbose=True)\n",
    "svdpp_train_results, svdpp_test_results = run_surprise(svdpp, trainset, testset, verbose=True)\n",
    "\n",
    "# Just store these error metrics in our models_evaluation datastructure\n",
    "models_evaluation_train['svdpp'] = svdpp_train_results \n",
    "models_evaluation_test['svdpp'] = svdpp_test_results\n"
   ]
  },
  {
   "cell_type": "markdown",
   "metadata": {
    "colab_type": "text",
    "id": "olxsWgLNxrsB"
   },
   "source": [
    " "
   ]
  },
  {
   "cell_type": "markdown",
   "metadata": {
    "colab_type": "text",
    "id": "1Ho6vTM4xrsB"
   },
   "source": [
    " "
   ]
  },
  {
   "cell_type": "markdown",
   "metadata": {
    "colab_type": "text",
    "id": "zAlGZGj_xrsB"
   },
   "source": [
    "<h3> 4.4.7 XgBoost with 13 features + Surprise Baseline + Surprise KNNbaseline + MF Techniques </h3>"
   ]
  },
  {
   "cell_type": "markdown",
   "metadata": {
    "colab_type": "text",
    "id": "woIqb160xrsC"
   },
   "source": [
    "__Preparing Train data__"
   ]
  },
  {
   "cell_type": "code",
   "execution_count": 54,
   "metadata": {
    "colab": {},
    "colab_type": "code",
    "id": "JrQkQ3u3xrsD",
    "outputId": "c33595e6-d05e-4807-e813-1ecd42da5e38",
    "scrolled": false
   },
   "outputs": [
    {
     "data": {
      "text/html": [
       "<div>\n",
       "<style scoped>\n",
       "    .dataframe tbody tr th:only-of-type {\n",
       "        vertical-align: middle;\n",
       "    }\n",
       "\n",
       "    .dataframe tbody tr th {\n",
       "        vertical-align: top;\n",
       "    }\n",
       "\n",
       "    .dataframe thead th {\n",
       "        text-align: right;\n",
       "    }\n",
       "</style>\n",
       "<table border=\"1\" class=\"dataframe\">\n",
       "  <thead>\n",
       "    <tr style=\"text-align: right;\">\n",
       "      <th></th>\n",
       "      <th>user</th>\n",
       "      <th>movie</th>\n",
       "      <th>GAvg</th>\n",
       "      <th>sur1</th>\n",
       "      <th>sur2</th>\n",
       "      <th>sur3</th>\n",
       "      <th>sur4</th>\n",
       "      <th>sur5</th>\n",
       "      <th>smr1</th>\n",
       "      <th>smr2</th>\n",
       "      <th>...</th>\n",
       "      <th>smr4</th>\n",
       "      <th>smr5</th>\n",
       "      <th>UAvg</th>\n",
       "      <th>MAvg</th>\n",
       "      <th>rating</th>\n",
       "      <th>bslpr</th>\n",
       "      <th>knn_bsl_u</th>\n",
       "      <th>knn_bsl_m</th>\n",
       "      <th>svd</th>\n",
       "      <th>svdpp</th>\n",
       "    </tr>\n",
       "  </thead>\n",
       "  <tbody>\n",
       "    <tr>\n",
       "      <th>0</th>\n",
       "      <td>174683</td>\n",
       "      <td>10</td>\n",
       "      <td>3.587581</td>\n",
       "      <td>5.0</td>\n",
       "      <td>5.0</td>\n",
       "      <td>3.0</td>\n",
       "      <td>4.0</td>\n",
       "      <td>4.0</td>\n",
       "      <td>3.0</td>\n",
       "      <td>5.0</td>\n",
       "      <td>...</td>\n",
       "      <td>3.0</td>\n",
       "      <td>2.0</td>\n",
       "      <td>3.882353</td>\n",
       "      <td>3.611111</td>\n",
       "      <td>5</td>\n",
       "      <td>3.681393</td>\n",
       "      <td>4.984495</td>\n",
       "      <td>4.884782</td>\n",
       "      <td>4.073348</td>\n",
       "      <td>3.884115</td>\n",
       "    </tr>\n",
       "    <tr>\n",
       "      <th>1</th>\n",
       "      <td>233949</td>\n",
       "      <td>10</td>\n",
       "      <td>3.587581</td>\n",
       "      <td>4.0</td>\n",
       "      <td>4.0</td>\n",
       "      <td>5.0</td>\n",
       "      <td>1.0</td>\n",
       "      <td>3.0</td>\n",
       "      <td>2.0</td>\n",
       "      <td>3.0</td>\n",
       "      <td>...</td>\n",
       "      <td>3.0</td>\n",
       "      <td>3.0</td>\n",
       "      <td>2.692308</td>\n",
       "      <td>3.611111</td>\n",
       "      <td>3</td>\n",
       "      <td>3.720150</td>\n",
       "      <td>3.181296</td>\n",
       "      <td>3.295934</td>\n",
       "      <td>3.649073</td>\n",
       "      <td>3.618476</td>\n",
       "    </tr>\n",
       "  </tbody>\n",
       "</table>\n",
       "<p>2 rows × 21 columns</p>\n",
       "</div>"
      ],
      "text/plain": [
       "     user  movie      GAvg  sur1  sur2  sur3  sur4  sur5  smr1  smr2  \\\n",
       "0  174683     10  3.587581   5.0   5.0   3.0   4.0   4.0   3.0   5.0   \n",
       "1  233949     10  3.587581   4.0   4.0   5.0   1.0   3.0   2.0   3.0   \n",
       "\n",
       "     ...     smr4  smr5      UAvg      MAvg  rating     bslpr  knn_bsl_u  \\\n",
       "0    ...      3.0   2.0  3.882353  3.611111       5  3.681393   4.984495   \n",
       "1    ...      3.0   3.0  2.692308  3.611111       3  3.720150   3.181296   \n",
       "\n",
       "   knn_bsl_m       svd     svdpp  \n",
       "0   4.884782  4.073348  3.884115  \n",
       "1   3.295934  3.649073  3.618476  \n",
       "\n",
       "[2 rows x 21 columns]"
      ]
     },
     "execution_count": 54,
     "metadata": {},
     "output_type": "execute_result"
    }
   ],
   "source": [
    "# add the predicted values from both knns to this dataframe\n",
    "reg_train['svd'] = models_evaluation_train['svd']['predictions']\n",
    "reg_train['svdpp'] = models_evaluation_train['svdpp']['predictions']\n",
    "\n",
    "reg_train.head(2) "
   ]
  },
  {
   "cell_type": "markdown",
   "metadata": {
    "colab_type": "text",
    "id": "T87HaSHExrsE"
   },
   "source": [
    "__Preparing Test data  __"
   ]
  },
  {
   "cell_type": "code",
   "execution_count": 55,
   "metadata": {
    "colab": {},
    "colab_type": "code",
    "id": "5YFZJ6sqxrsE",
    "outputId": "39997a27-2a18-46b8-8b1f-f43f5b502151"
   },
   "outputs": [
    {
     "data": {
      "text/html": [
       "<div>\n",
       "<style scoped>\n",
       "    .dataframe tbody tr th:only-of-type {\n",
       "        vertical-align: middle;\n",
       "    }\n",
       "\n",
       "    .dataframe tbody tr th {\n",
       "        vertical-align: top;\n",
       "    }\n",
       "\n",
       "    .dataframe thead th {\n",
       "        text-align: right;\n",
       "    }\n",
       "</style>\n",
       "<table border=\"1\" class=\"dataframe\">\n",
       "  <thead>\n",
       "    <tr style=\"text-align: right;\">\n",
       "      <th></th>\n",
       "      <th>user</th>\n",
       "      <th>movie</th>\n",
       "      <th>GAvg</th>\n",
       "      <th>sur1</th>\n",
       "      <th>sur2</th>\n",
       "      <th>sur3</th>\n",
       "      <th>sur4</th>\n",
       "      <th>sur5</th>\n",
       "      <th>smr1</th>\n",
       "      <th>smr2</th>\n",
       "      <th>...</th>\n",
       "      <th>smr4</th>\n",
       "      <th>smr5</th>\n",
       "      <th>UAvg</th>\n",
       "      <th>MAvg</th>\n",
       "      <th>rating</th>\n",
       "      <th>bslpr</th>\n",
       "      <th>knn_bsl_u</th>\n",
       "      <th>knn_bsl_m</th>\n",
       "      <th>svd</th>\n",
       "      <th>svdpp</th>\n",
       "    </tr>\n",
       "  </thead>\n",
       "  <tbody>\n",
       "    <tr>\n",
       "      <th>0</th>\n",
       "      <td>808635</td>\n",
       "      <td>71</td>\n",
       "      <td>3.587581</td>\n",
       "      <td>3.587581</td>\n",
       "      <td>3.587581</td>\n",
       "      <td>3.587581</td>\n",
       "      <td>3.587581</td>\n",
       "      <td>3.587581</td>\n",
       "      <td>3.587581</td>\n",
       "      <td>3.587581</td>\n",
       "      <td>...</td>\n",
       "      <td>3.587581</td>\n",
       "      <td>3.587581</td>\n",
       "      <td>3.587581</td>\n",
       "      <td>3.587581</td>\n",
       "      <td>5</td>\n",
       "      <td>3.587581</td>\n",
       "      <td>3.587581</td>\n",
       "      <td>3.587581</td>\n",
       "      <td>3.587581</td>\n",
       "      <td>3.587581</td>\n",
       "    </tr>\n",
       "    <tr>\n",
       "      <th>1</th>\n",
       "      <td>941866</td>\n",
       "      <td>71</td>\n",
       "      <td>3.587581</td>\n",
       "      <td>3.587581</td>\n",
       "      <td>3.587581</td>\n",
       "      <td>3.587581</td>\n",
       "      <td>3.587581</td>\n",
       "      <td>3.587581</td>\n",
       "      <td>3.587581</td>\n",
       "      <td>3.587581</td>\n",
       "      <td>...</td>\n",
       "      <td>3.587581</td>\n",
       "      <td>3.587581</td>\n",
       "      <td>3.587581</td>\n",
       "      <td>3.587581</td>\n",
       "      <td>4</td>\n",
       "      <td>3.587581</td>\n",
       "      <td>3.587581</td>\n",
       "      <td>3.587581</td>\n",
       "      <td>3.587581</td>\n",
       "      <td>3.587581</td>\n",
       "    </tr>\n",
       "  </tbody>\n",
       "</table>\n",
       "<p>2 rows × 21 columns</p>\n",
       "</div>"
      ],
      "text/plain": [
       "     user  movie      GAvg      sur1      sur2      sur3      sur4      sur5  \\\n",
       "0  808635     71  3.587581  3.587581  3.587581  3.587581  3.587581  3.587581   \n",
       "1  941866     71  3.587581  3.587581  3.587581  3.587581  3.587581  3.587581   \n",
       "\n",
       "       smr1      smr2    ...         smr4      smr5      UAvg      MAvg  \\\n",
       "0  3.587581  3.587581    ...     3.587581  3.587581  3.587581  3.587581   \n",
       "1  3.587581  3.587581    ...     3.587581  3.587581  3.587581  3.587581   \n",
       "\n",
       "   rating     bslpr  knn_bsl_u  knn_bsl_m       svd     svdpp  \n",
       "0       5  3.587581   3.587581   3.587581  3.587581  3.587581  \n",
       "1       4  3.587581   3.587581   3.587581  3.587581  3.587581  \n",
       "\n",
       "[2 rows x 21 columns]"
      ]
     },
     "execution_count": 55,
     "metadata": {},
     "output_type": "execute_result"
    }
   ],
   "source": [
    "reg_test_df['svd'] = models_evaluation_test['svd']['predictions']\n",
    "reg_test_df['svdpp'] = models_evaluation_test['svdpp']['predictions']\n",
    "\n",
    "reg_test_df.head(2) "
   ]
  },
  {
   "cell_type": "markdown",
   "metadata": {
    "colab_type": "text",
    "id": "t7zUJRT3xrsG"
   },
   "source": [
    " "
   ]
  },
  {
   "cell_type": "code",
   "execution_count": 56,
   "metadata": {
    "colab": {},
    "colab_type": "code",
    "id": "8txfT1mCxrsG",
    "outputId": "83ccbda0-527a-4e09-c9cf-ae86ac1cd7c1",
    "scrolled": false
   },
   "outputs": [
    {
     "name": "stdout",
     "output_type": "stream",
     "text": [
      "Fitting 3 folds for each of 9 candidates, totalling 27 fits\n",
      "[CV] max_depth=3, n_estimators=100 ...................................\n",
      "[CV] max_depth=3, n_estimators=100 ...................................\n",
      "[CV] max_depth=3, n_estimators=100 ...................................\n",
      "[CV] max_depth=3, n_estimators=200 ...................................\n",
      "[CV] max_depth=3, n_estimators=200 ...................................\n",
      "[CV] max_depth=3, n_estimators=200 ...................................\n",
      "[CV] max_depth=3, n_estimators=500 ...................................\n",
      "[CV] max_depth=3, n_estimators=500 ...................................\n",
      "[CV] max_depth=3, n_estimators=500 ...................................\n",
      "[CV] max_depth=5, n_estimators=100 ...................................\n",
      "[CV] max_depth=5, n_estimators=100 ...................................\n",
      "[CV] max_depth=5, n_estimators=100 ...................................\n",
      "[CV] max_depth=5, n_estimators=200 ...................................\n",
      "[CV] max_depth=5, n_estimators=200 ...................................\n",
      "[CV] max_depth=5, n_estimators=200 ...................................\n",
      "[CV] max_depth=5, n_estimators=500 ...................................\n",
      "[CV]  max_depth=3, n_estimators=100, score=0.35308002539068883, total= 1.8min\n",
      "[CV] max_depth=5, n_estimators=500 ...................................\n",
      "[CV]  max_depth=3, n_estimators=100, score=0.34522430869278, total= 1.8min\n",
      "[CV] max_depth=5, n_estimators=500 ...................................\n"
     ]
    },
    {
     "name": "stderr",
     "output_type": "stream",
     "text": [
      "[Parallel(n_jobs=-1)]: Done   2 out of  27 | elapsed:  1.9min remaining: 23.4min\n"
     ]
    },
    {
     "name": "stdout",
     "output_type": "stream",
     "text": [
      "[CV]  max_depth=3, n_estimators=100, score=0.39082448811309634, total= 1.9min\n",
      "[CV] max_depth=10, n_estimators=100 ..................................\n",
      "[CV]  max_depth=5, n_estimators=100, score=0.39327697015888563, total= 3.1min\n",
      "[CV] max_depth=10, n_estimators=100 ..................................\n",
      "[CV]  max_depth=5, n_estimators=100, score=0.3471601393295224, total= 3.2min\n",
      "[CV] max_depth=10, n_estimators=100 ..................................\n"
     ]
    },
    {
     "name": "stderr",
     "output_type": "stream",
     "text": [
      "[Parallel(n_jobs=-1)]: Done   5 out of  27 | elapsed:  3.4min remaining: 14.8min\n"
     ]
    },
    {
     "name": "stdout",
     "output_type": "stream",
     "text": [
      "[CV]  max_depth=5, n_estimators=100, score=0.35534956466975, total= 3.4min\n",
      "[CV] max_depth=10, n_estimators=200 ..................................\n",
      "[CV]  max_depth=3, n_estimators=200, score=0.35462656989981756, total= 3.8min\n",
      "[CV] max_depth=10, n_estimators=200 ..................................\n",
      "[CV]  max_depth=3, n_estimators=200, score=0.3463870422952493, total= 3.8min\n",
      "[CV] max_depth=10, n_estimators=200 ..................................\n"
     ]
    },
    {
     "name": "stderr",
     "output_type": "stream",
     "text": [
      "[Parallel(n_jobs=-1)]: Done   8 out of  27 | elapsed:  3.9min remaining:  9.2min\n"
     ]
    },
    {
     "name": "stdout",
     "output_type": "stream",
     "text": [
      "[CV]  max_depth=3, n_estimators=200, score=0.39243252037214255, total= 4.3min\n",
      "[CV] max_depth=10, n_estimators=500 ..................................\n",
      "[CV]  max_depth=5, n_estimators=200, score=0.3936587788568017, total= 6.3min\n",
      "[CV] max_depth=10, n_estimators=500 ..................................\n",
      "[CV]  max_depth=5, n_estimators=200, score=0.3471714966014293, total= 7.0min\n",
      "[CV] max_depth=10, n_estimators=500 ..................................\n"
     ]
    },
    {
     "name": "stderr",
     "output_type": "stream",
     "text": [
      "[Parallel(n_jobs=-1)]: Done  11 out of  27 | elapsed:  7.2min remaining: 10.5min\n"
     ]
    },
    {
     "name": "stdout",
     "output_type": "stream",
     "text": [
      "[CV]  max_depth=5, n_estimators=200, score=0.35571709901138826, total= 7.1min\n",
      "[CV]  max_depth=3, n_estimators=500, score=0.39266017263972164, total= 8.5min\n",
      "[CV]  max_depth=3, n_estimators=500, score=0.3467620536324705, total= 8.9min\n"
     ]
    },
    {
     "name": "stderr",
     "output_type": "stream",
     "text": [
      "[Parallel(n_jobs=-1)]: Done  14 out of  27 | elapsed:  9.2min remaining:  8.5min\n"
     ]
    },
    {
     "name": "stdout",
     "output_type": "stream",
     "text": [
      "[CV]  max_depth=3, n_estimators=500, score=0.3556482798603966, total= 9.3min\n",
      "[CV]  max_depth=10, n_estimators=100, score=0.35393685928236107, total= 8.0min\n",
      "[CV]  max_depth=10, n_estimators=100, score=0.3909872321772513, total= 7.1min\n"
     ]
    },
    {
     "name": "stderr",
     "output_type": "stream",
     "text": [
      "[Parallel(n_jobs=-1)]: Done  17 out of  27 | elapsed: 10.5min remaining:  6.2min\n"
     ]
    },
    {
     "name": "stdout",
     "output_type": "stream",
     "text": [
      "[CV]  max_depth=10, n_estimators=100, score=0.34507461691016006, total= 7.3min\n",
      "[CV]  max_depth=5, n_estimators=500, score=0.35569466110028447, total=14.4min\n",
      "[CV]  max_depth=5, n_estimators=500, score=0.3928835192451714, total=12.7min\n"
     ]
    },
    {
     "name": "stderr",
     "output_type": "stream",
     "text": [
      "[Parallel(n_jobs=-1)]: Done  20 out of  27 | elapsed: 14.9min remaining:  5.2min\n"
     ]
    },
    {
     "name": "stdout",
     "output_type": "stream",
     "text": [
      "[CV]  max_depth=10, n_estimators=200, score=0.3428844894925732, total=11.0min\n",
      "[CV]  max_depth=5, n_estimators=500, score=0.3464949488600019, total=13.2min\n",
      "[CV]  max_depth=10, n_estimators=200, score=0.3890019548271291, total=11.2min\n"
     ]
    },
    {
     "name": "stderr",
     "output_type": "stream",
     "text": [
      "[Parallel(n_jobs=-1)]: Done  23 out of  27 | elapsed: 15.3min remaining:  2.7min\n"
     ]
    },
    {
     "name": "stdout",
     "output_type": "stream",
     "text": [
      "[CV]  max_depth=10, n_estimators=200, score=0.35150536727773574, total=11.7min\n",
      "[CV]  max_depth=10, n_estimators=500, score=0.3462917137935756, total=21.5min\n",
      "[CV]  max_depth=10, n_estimators=500, score=0.38369079297073505, total=19.7min\n",
      "[CV]  max_depth=10, n_estimators=500, score=0.3376232923234861, total=19.4min\n"
     ]
    },
    {
     "name": "stderr",
     "output_type": "stream",
     "text": [
      "[Parallel(n_jobs=-1)]: Done  27 out of  27 | elapsed: 27.3min finished\n"
     ]
    },
    {
     "name": "stdout",
     "output_type": "stream",
     "text": [
      "Training the model..\n",
      "Done. Time taken : 0:00:53.953380\n",
      "\n",
      "Done \n",
      "\n",
      "Evaluating the model with TRAIN data...\n",
      "Evaluating Test data\n",
      "\n",
      "TEST DATA\n",
      "------------------------------\n",
      "RMSE :  1.0852902316979125\n",
      "MAPE :  33.22289948653317\n"
     ]
    }
   ],
   "source": [
    "# prepare x_train and y_train\n",
    "x_train = reg_train.drop(['user', 'movie', 'rating',], axis=1)\n",
    "y_train = reg_train['rating']\n",
    "\n",
    "# prepare test data\n",
    "x_test = reg_test_df.drop(['user', 'movie', 'rating'], axis=1)\n",
    "y_test = reg_test_df['rating']\n",
    "\n",
    "\n",
    "best_n_estimators,best_max_depth = hyperparametertune_xgboost(x_train, y_train)\n",
    "\n",
    "xgb_final = xgb.XGBRegressor(n_jobs=10, random_state=15 ,n_estimators = best_n_estimators,max_depth = best_max_depth)\n",
    "train_results, test_results = run_xgboost(xgb_final, x_train, y_train, x_test, y_test)\n",
    "\n",
    "# store the results in models_evaluations dictionaries\n",
    "models_evaluation_train['xgb_final'] = train_results\n",
    "models_evaluation_test['xgb_final'] = test_results\n",
    "\n",
    "\n",
    "xgb.plot_importance(xgb_final)\n",
    "plt.show()"
   ]
  },
  {
   "cell_type": "markdown",
   "metadata": {
    "colab_type": "text",
    "id": "NN-0BKnXxrsI"
   },
   "source": [
    "<h3> 4.4.8 XgBoost with Surprise Baseline + Surprise KNNbaseline + MF Techniques </h3>"
   ]
  },
  {
   "cell_type": "code",
   "execution_count": 57,
   "metadata": {
    "colab": {},
    "colab_type": "code",
    "id": "y0RFoUIvxrsI",
    "outputId": "99e75da3-58bf-4b1f-bd65-d8162ee50f20"
   },
   "outputs": [
    {
     "name": "stdout",
     "output_type": "stream",
     "text": [
      "Fitting 3 folds for each of 9 candidates, totalling 27 fits\n",
      "[CV] max_depth=3, n_estimators=100 ...................................\n",
      "[CV] max_depth=3, n_estimators=100 ...................................\n",
      "[CV] max_depth=3, n_estimators=100 ...................................\n",
      "[CV] max_depth=3, n_estimators=200 ...................................\n",
      "[CV] max_depth=3, n_estimators=200 ...................................\n",
      "[CV] max_depth=3, n_estimators=200 ...................................\n",
      "[CV] max_depth=3, n_estimators=500 ...................................\n",
      "[CV] max_depth=3, n_estimators=500 ...................................\n",
      "[CV] max_depth=3, n_estimators=500 ...................................\n",
      "[CV] max_depth=5, n_estimators=100 ...................................\n",
      "[CV] max_depth=5, n_estimators=100 ...................................\n",
      "[CV] max_depth=5, n_estimators=100 ...................................\n",
      "[CV] max_depth=5, n_estimators=200 ...................................\n",
      "[CV] max_depth=5, n_estimators=200 ...................................\n",
      "[CV] max_depth=5, n_estimators=200 ...................................\n",
      "[CV] max_depth=5, n_estimators=500 ...................................\n",
      "[CV]  max_depth=3, n_estimators=100, score=-0.00020554161895702805, total=  59.8s\n",
      "[CV] max_depth=5, n_estimators=500 ...................................\n",
      "[CV]  max_depth=3, n_estimators=100, score=-0.0003995758346853062, total=  59.7s\n",
      "[CV] max_depth=5, n_estimators=500 ...................................\n"
     ]
    },
    {
     "name": "stderr",
     "output_type": "stream",
     "text": [
      "[Parallel(n_jobs=-1)]: Done   2 out of  27 | elapsed:  1.0min remaining: 13.0min\n"
     ]
    },
    {
     "name": "stdout",
     "output_type": "stream",
     "text": [
      "[CV]  max_depth=3, n_estimators=100, score=-0.0002220711949756371, total= 1.0min\n",
      "[CV] max_depth=10, n_estimators=100 ..................................\n",
      "[CV]  max_depth=5, n_estimators=100, score=-0.0003130939927347143, total= 1.7min\n",
      "[CV] max_depth=10, n_estimators=100 ..................................\n",
      "[CV]  max_depth=5, n_estimators=100, score=-0.0007643314333276585, total= 1.7min\n",
      "[CV] max_depth=10, n_estimators=100 ..................................\n"
     ]
    },
    {
     "name": "stderr",
     "output_type": "stream",
     "text": [
      "[Parallel(n_jobs=-1)]: Done   5 out of  27 | elapsed:  1.8min remaining:  8.0min\n"
     ]
    },
    {
     "name": "stdout",
     "output_type": "stream",
     "text": [
      "[CV]  max_depth=5, n_estimators=100, score=-0.0004690155434874388, total= 1.8min\n",
      "[CV] max_depth=10, n_estimators=200 ..................................\n",
      "[CV]  max_depth=3, n_estimators=200, score=-0.00037270998987781745, total= 1.9min\n",
      "[CV] max_depth=10, n_estimators=200 ..................................\n",
      "[CV]  max_depth=3, n_estimators=200, score=-0.0006765955350711561, total= 1.9min\n",
      "[CV] max_depth=10, n_estimators=200 ..................................\n"
     ]
    },
    {
     "name": "stderr",
     "output_type": "stream",
     "text": [
      "[Parallel(n_jobs=-1)]: Done   8 out of  27 | elapsed:  2.0min remaining:  4.8min\n"
     ]
    },
    {
     "name": "stdout",
     "output_type": "stream",
     "text": [
      "[CV]  max_depth=3, n_estimators=200, score=-0.00038148796040471394, total= 1.9min\n",
      "[CV] max_depth=10, n_estimators=500 ..................................\n",
      "[CV]  max_depth=5, n_estimators=200, score=-0.0014217581791129419, total= 3.1min\n",
      "[CV] max_depth=10, n_estimators=500 ..................................\n",
      "[CV]  max_depth=5, n_estimators=200, score=-0.0007241563130684359, total= 3.4min\n",
      "[CV] max_depth=10, n_estimators=500 ..................................\n"
     ]
    },
    {
     "name": "stderr",
     "output_type": "stream",
     "text": [
      "[Parallel(n_jobs=-1)]: Done  11 out of  27 | elapsed:  3.6min remaining:  5.2min\n"
     ]
    },
    {
     "name": "stdout",
     "output_type": "stream",
     "text": [
      "[CV]  max_depth=5, n_estimators=200, score=-0.0010989335647129117, total= 3.5min\n",
      "[CV]  max_depth=10, n_estimators=100, score=-0.0021869824597779974, total= 3.3min\n",
      "[CV]  max_depth=3, n_estimators=500, score=-0.001400742376588493, total= 4.7min\n"
     ]
    },
    {
     "name": "stderr",
     "output_type": "stream",
     "text": [
      "[Parallel(n_jobs=-1)]: Done  14 out of  27 | elapsed:  4.9min remaining:  4.5min\n"
     ]
    },
    {
     "name": "stdout",
     "output_type": "stream",
     "text": [
      "[CV]  max_depth=3, n_estimators=500, score=-0.0009925015703311502, total= 4.7min\n",
      "[CV]  max_depth=10, n_estimators=100, score=-0.0035585292352888764, total= 3.1min\n",
      "[CV]  max_depth=3, n_estimators=500, score=-0.000872416173724133, total= 4.9min\n"
     ]
    },
    {
     "name": "stderr",
     "output_type": "stream",
     "text": [
      "[Parallel(n_jobs=-1)]: Done  17 out of  27 | elapsed:  5.1min remaining:  3.0min\n"
     ]
    },
    {
     "name": "stdout",
     "output_type": "stream",
     "text": [
      "[CV]  max_depth=10, n_estimators=100, score=-0.001988656369252828, total= 3.4min\n",
      "[CV]  max_depth=5, n_estimators=500, score=-0.0027278727036816885, total= 6.5min\n",
      "[CV]  max_depth=10, n_estimators=200, score=-0.003542190777040322, total= 5.1min\n"
     ]
    },
    {
     "name": "stderr",
     "output_type": "stream",
     "text": [
      "[Parallel(n_jobs=-1)]: Done  20 out of  27 | elapsed:  7.3min remaining:  2.6min\n"
     ]
    },
    {
     "name": "stdout",
     "output_type": "stream",
     "text": [
      "[CV]  max_depth=10, n_estimators=200, score=-0.006080016311808656, total= 5.2min\n",
      "[CV]  max_depth=10, n_estimators=200, score=-0.004735335265159568, total= 5.3min\n",
      "[CV]  max_depth=5, n_estimators=500, score=-0.0031983507548210004, total= 6.3min\n"
     ]
    },
    {
     "name": "stderr",
     "output_type": "stream",
     "text": [
      "[Parallel(n_jobs=-1)]: Done  23 out of  27 | elapsed:  7.6min remaining:  1.3min\n"
     ]
    },
    {
     "name": "stdout",
     "output_type": "stream",
     "text": [
      "[CV]  max_depth=5, n_estimators=500, score=-0.0018297124740085378, total= 6.7min\n",
      "[CV]  max_depth=10, n_estimators=500, score=-0.010501129642105145, total=10.1min\n",
      "[CV]  max_depth=10, n_estimators=500, score=-0.008144885072822516, total= 9.4min\n",
      "[CV]  max_depth=10, n_estimators=500, score=-0.012334069213104426, total= 9.3min\n"
     ]
    },
    {
     "name": "stderr",
     "output_type": "stream",
     "text": [
      "[Parallel(n_jobs=-1)]: Done  27 out of  27 | elapsed: 13.4min finished\n"
     ]
    },
    {
     "name": "stdout",
     "output_type": "stream",
     "text": [
      "Training the model..\n",
      "Done. Time taken : 0:00:12.813950\n",
      "\n",
      "Done \n",
      "\n",
      "Evaluating the model with TRAIN data...\n",
      "Evaluating Test data\n",
      "\n",
      "TEST DATA\n",
      "------------------------------\n",
      "RMSE :  1.0751036206922326\n",
      "MAPE :  35.224534730390175\n"
     ]
    }
   ],
   "source": [
    "# prepare train data\n",
    "x_train = reg_train[['knn_bsl_u', 'knn_bsl_m', 'svd', 'svdpp']]\n",
    "y_train = reg_train['rating']\n",
    "\n",
    "# test data\n",
    "x_test = reg_test_df[['knn_bsl_u', 'knn_bsl_m', 'svd', 'svdpp']]\n",
    "y_test = reg_test_df['rating']\n",
    "\n",
    "best_n_estimators,best_max_depth = hyperparametertune_xgboost(x_train, y_train)\n",
    "xgb_all_models = xgb.XGBRegressor(n_jobs=10, random_state=15,n_estimators = best_n_estimators,max_depth = best_max_depth)\n",
    "train_results, test_results = run_xgboost(xgb_all_models, x_train, y_train, x_test, y_test)\n",
    "\n",
    "# store the results in models_evaluations dictionaries\n",
    "models_evaluation_train['xgb_all_models'] = train_results\n",
    "models_evaluation_test['xgb_all_models'] = test_results\n",
    "\n",
    "xgb.plot_importance(xgb_all_models)\n",
    "plt.show()"
   ]
  },
  {
   "cell_type": "markdown",
   "metadata": {
    "colab_type": "text",
    "id": "6aqrjuykxrsQ"
   },
   "source": [
    " "
   ]
  },
  {
   "cell_type": "markdown",
   "metadata": {
    "colab_type": "text",
    "id": "RI_N9U9ZxrsR"
   },
   "source": [
    " "
   ]
  },
  {
   "cell_type": "markdown",
   "metadata": {
    "colab_type": "text",
    "id": "Yd0ye7O1xrsR"
   },
   "source": [
    "<h2> 4.5 Comparision between all models </h2>"
   ]
  },
  {
   "cell_type": "code",
   "execution_count": 60,
   "metadata": {
    "colab": {},
    "colab_type": "code",
    "id": "DxsS3JKnxrsS",
    "outputId": "9124baa4-ff9f-4ab4-c9f4-4d4af70f46f7",
    "scrolled": false
   },
   "outputs": [
    {
     "data": {
      "text/plain": [
       "knn_bsl_u         1.0651583775048283\n",
       "svd                 1.06539583258785\n",
       "bsl_algo          1.0655294354066949\n",
       "knn_bsl_m          1.066111028261093\n",
       "svdpp             1.0664479484659375\n",
       "xgb_bsl           1.0717650006200605\n",
       "xgb_all_models    1.0751036206922326\n",
       "first_algo        1.0760536784298278\n",
       "xgb_knn_bsl       1.0810948687615936\n",
       "xgb_final         1.0852902316979125\n",
       "Name: rmse, dtype: object"
      ]
     },
     "execution_count": 60,
     "metadata": {},
     "output_type": "execute_result"
    }
   ],
   "source": [
    "# Saving our TEST_RESULTS into a dataframe so that you don't have to run it again\n",
    "pd.DataFrame(models_evaluation_test).to_csv('sample/small/small_sample_results.csv')\n",
    "models = pd.read_csv('sample/small/small_sample_results.csv', index_col=0)\n",
    "models.loc['rmse'].sort_values()"
   ]
  },
  {
   "cell_type": "markdown",
   "metadata": {},
   "source": [
    "### Summary "
   ]
  },
  {
   "cell_type": "raw",
   "metadata": {
    "colab_type": "text",
    "id": "NXNT_fUrxrsX"
   },
   "source": [
    " 1 . I have taken 25000 users and 3000 movies for training and 5000 users and 500 movies for testing.\n",
    " 2 . All the xgboost models are trained with hyperparameter tuning.\n",
    " 3 . From EDA, it is surprising to note that , from august onwards less number of movies are watched compared to the first half of the year."
   ]
  }
 ],
 "metadata": {
  "colab": {
   "name": "Netflix_Movie.ipynb",
   "provenance": [],
   "version": "0.3.2"
  },
  "kernelspec": {
   "display_name": "Python 3",
   "language": "python",
   "name": "python3"
  },
  "language_info": {
   "codemirror_mode": {
    "name": "ipython",
    "version": 3
   },
   "file_extension": ".py",
   "mimetype": "text/x-python",
   "name": "python",
   "nbconvert_exporter": "python",
   "pygments_lexer": "ipython3",
   "version": "3.7.0"
  }
 },
 "nbformat": 4,
 "nbformat_minor": 1
}
